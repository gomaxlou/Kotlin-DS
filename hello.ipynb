var c = 1
var d = 2
print(c + d)
