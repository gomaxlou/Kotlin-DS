{
 "cells": [
  {
   "cell_type": "code",
   "execution_count": 3,
   "metadata": {
    "ExecuteTime": {
     "end_time": "2020-07-05T20:47+0800",
     "start_time": "2020-07-05T20:46+0800"
    }
   },
   "outputs": [],
   "source": [
    "%use dataframe"
   ]
  },
  {
   "cell_type": "code",
   "execution_count": 7,
   "metadata": {
    "ExecuteTime": {
     "end_time": "2020-07-05T20:49+0800",
     "start_time": "2020-07-05T20:49+0800"
    }
   },
   "outputs": [
    {
     "data": {
      "text/html": [
       "<html><body><table><tr><th style=\"text-align:left\">Sepal.Length</th><th style=\"text-align:left\">Sepal.Width</th><th style=\"text-align:left\">Petal.Length</th><th style=\"text-align:left\">Petal.Width</th><th style=\"text-align:left\">Species</th></tr><tr><td style=\"text-align:left\" title=\"5.1\">5.1</td><td style=\"text-align:left\" title=\"3.5\">3.5</td><td style=\"text-align:left\" title=\"1.4\">1.4</td><td style=\"text-align:left\" title=\"0.2\">0.2</td><td style=\"text-align:left\" title=\"setosa\">setosa</td></tr><tr><td style=\"text-align:left\" title=\"4.9\">4.9</td><td style=\"text-align:left\" title=\"3.0\">3.0</td><td style=\"text-align:left\" title=\"1.4\">1.4</td><td style=\"text-align:left\" title=\"0.2\">0.2</td><td style=\"text-align:left\" title=\"setosa\">setosa</td></tr><tr><td style=\"text-align:left\" title=\"4.7\">4.7</td><td style=\"text-align:left\" title=\"3.2\">3.2</td><td style=\"text-align:left\" title=\"1.3\">1.3</td><td style=\"text-align:left\" title=\"0.2\">0.2</td><td style=\"text-align:left\" title=\"setosa\">setosa</td></tr><tr><td style=\"text-align:left\" title=\"4.6\">4.6</td><td style=\"text-align:left\" title=\"3.1\">3.1</td><td style=\"text-align:left\" title=\"1.5\">1.5</td><td style=\"text-align:left\" title=\"0.2\">0.2</td><td style=\"text-align:left\" title=\"setosa\">setosa</td></tr><tr><td style=\"text-align:left\" title=\"5.0\">5.0</td><td style=\"text-align:left\" title=\"3.6\">3.6</td><td style=\"text-align:left\" title=\"1.4\">1.4</td><td style=\"text-align:left\" title=\"0.2\">0.2</td><td style=\"text-align:left\" title=\"setosa\">setosa</td></tr><tr><td style=\"text-align:left\" title=\"5.4\">5.4</td><td style=\"text-align:left\" title=\"3.9\">3.9</td><td style=\"text-align:left\" title=\"1.7\">1.7</td><td style=\"text-align:left\" title=\"0.4\">0.4</td><td style=\"text-align:left\" title=\"setosa\">setosa</td></tr><tr><td style=\"text-align:left\" title=\"4.6\">4.6</td><td style=\"text-align:left\" title=\"3.4\">3.4</td><td style=\"text-align:left\" title=\"1.4\">1.4</td><td style=\"text-align:left\" title=\"0.3\">0.3</td><td style=\"text-align:left\" title=\"setosa\">setosa</td></tr><tr><td style=\"text-align:left\" title=\"5.0\">5.0</td><td style=\"text-align:left\" title=\"3.4\">3.4</td><td style=\"text-align:left\" title=\"1.5\">1.5</td><td style=\"text-align:left\" title=\"0.2\">0.2</td><td style=\"text-align:left\" title=\"setosa\">setosa</td></tr><tr><td style=\"text-align:left\" title=\"4.4\">4.4</td><td style=\"text-align:left\" title=\"2.9\">2.9</td><td style=\"text-align:left\" title=\"1.4\">1.4</td><td style=\"text-align:left\" title=\"0.2\">0.2</td><td style=\"text-align:left\" title=\"setosa\">setosa</td></tr><tr><td style=\"text-align:left\" title=\"4.9\">4.9</td><td style=\"text-align:left\" title=\"3.1\">3.1</td><td style=\"text-align:left\" title=\"1.5\">1.5</td><td style=\"text-align:left\" title=\"0.1\">0.1</td><td style=\"text-align:left\" title=\"setosa\">setosa</td></tr><tr><td style=\"text-align:left\" title=\"5.4\">5.4</td><td style=\"text-align:left\" title=\"3.7\">3.7</td><td style=\"text-align:left\" title=\"1.5\">1.5</td><td style=\"text-align:left\" title=\"0.2\">0.2</td><td style=\"text-align:left\" title=\"setosa\">setosa</td></tr><tr><td style=\"text-align:left\" title=\"4.8\">4.8</td><td style=\"text-align:left\" title=\"3.4\">3.4</td><td style=\"text-align:left\" title=\"1.6\">1.6</td><td style=\"text-align:left\" title=\"0.2\">0.2</td><td style=\"text-align:left\" title=\"setosa\">setosa</td></tr><tr><td style=\"text-align:left\" title=\"4.8\">4.8</td><td style=\"text-align:left\" title=\"3.0\">3.0</td><td style=\"text-align:left\" title=\"1.4\">1.4</td><td style=\"text-align:left\" title=\"0.1\">0.1</td><td style=\"text-align:left\" title=\"setosa\">setosa</td></tr><tr><td style=\"text-align:left\" title=\"4.3\">4.3</td><td style=\"text-align:left\" title=\"3.0\">3.0</td><td style=\"text-align:left\" title=\"1.1\">1.1</td><td style=\"text-align:left\" title=\"0.1\">0.1</td><td style=\"text-align:left\" title=\"setosa\">setosa</td></tr><tr><td style=\"text-align:left\" title=\"5.8\">5.8</td><td style=\"text-align:left\" title=\"4.0\">4.0</td><td style=\"text-align:left\" title=\"1.2\">1.2</td><td style=\"text-align:left\" title=\"0.2\">0.2</td><td style=\"text-align:left\" title=\"setosa\">setosa</td></tr><tr><td style=\"text-align:left\" title=\"5.7\">5.7</td><td style=\"text-align:left\" title=\"4.4\">4.4</td><td style=\"text-align:left\" title=\"1.5\">1.5</td><td style=\"text-align:left\" title=\"0.4\">0.4</td><td style=\"text-align:left\" title=\"setosa\">setosa</td></tr><tr><td style=\"text-align:left\" title=\"5.4\">5.4</td><td style=\"text-align:left\" title=\"3.9\">3.9</td><td style=\"text-align:left\" title=\"1.3\">1.3</td><td style=\"text-align:left\" title=\"0.4\">0.4</td><td style=\"text-align:left\" title=\"setosa\">setosa</td></tr><tr><td style=\"text-align:left\" title=\"5.1\">5.1</td><td style=\"text-align:left\" title=\"3.5\">3.5</td><td style=\"text-align:left\" title=\"1.4\">1.4</td><td style=\"text-align:left\" title=\"0.3\">0.3</td><td style=\"text-align:left\" title=\"setosa\">setosa</td></tr><tr><td style=\"text-align:left\" title=\"5.7\">5.7</td><td style=\"text-align:left\" title=\"3.8\">3.8</td><td style=\"text-align:left\" title=\"1.7\">1.7</td><td style=\"text-align:left\" title=\"0.3\">0.3</td><td style=\"text-align:left\" title=\"setosa\">setosa</td></tr><tr><td style=\"text-align:left\" title=\"5.1\">5.1</td><td style=\"text-align:left\" title=\"3.8\">3.8</td><td style=\"text-align:left\" title=\"1.5\">1.5</td><td style=\"text-align:left\" title=\"0.3\">0.3</td><td style=\"text-align:left\" title=\"setosa\">setosa</td></tr></table><p>... only showing top 20 rows</p></body></html>"
      ]
     },
     "execution_count": 7,
     "metadata": {},
     "output_type": "execute_result"
    }
   ],
   "source": [
    "var iris = DataFrame.readCSV(\"data/iris.csv\")\n",
    "iris"
   ]
  },
  {
   "cell_type": "code",
   "execution_count": 8,
   "metadata": {
    "ExecuteTime": {
     "end_time": "2020-07-05T20:49+0800",
     "start_time": "2020-07-05T20:49+0800"
    },
    "collapsed": true
   },
   "outputs": [
    {
     "data": {
      "text/html": [
       "<html><body><table><tr><th style=\"text-align:left\">Sepal.Length</th><th style=\"text-align:left\">Sepal.Width</th><th style=\"text-align:left\">Petal.Length</th><th style=\"text-align:left\">Petal.Width</th><th style=\"text-align:left\">Species</th></tr><tr><td style=\"text-align:left\" title=\"5.1\">5.1</td><td style=\"text-align:left\" title=\"3.5\">3.5</td><td style=\"text-align:left\" title=\"1.4\">1.4</td><td style=\"text-align:left\" title=\"0.2\">0.2</td><td style=\"text-align:left\" title=\"setosa\">setosa</td></tr><tr><td style=\"text-align:left\" title=\"4.9\">4.9</td><td style=\"text-align:left\" title=\"3.0\">3.0</td><td style=\"text-align:left\" title=\"1.4\">1.4</td><td style=\"text-align:left\" title=\"0.2\">0.2</td><td style=\"text-align:left\" title=\"setosa\">setosa</td></tr><tr><td style=\"text-align:left\" title=\"4.7\">4.7</td><td style=\"text-align:left\" title=\"3.2\">3.2</td><td style=\"text-align:left\" title=\"1.3\">1.3</td><td style=\"text-align:left\" title=\"0.2\">0.2</td><td style=\"text-align:left\" title=\"setosa\">setosa</td></tr><tr><td style=\"text-align:left\" title=\"4.6\">4.6</td><td style=\"text-align:left\" title=\"3.1\">3.1</td><td style=\"text-align:left\" title=\"1.5\">1.5</td><td style=\"text-align:left\" title=\"0.2\">0.2</td><td style=\"text-align:left\" title=\"setosa\">setosa</td></tr><tr><td style=\"text-align:left\" title=\"5.0\">5.0</td><td style=\"text-align:left\" title=\"3.6\">3.6</td><td style=\"text-align:left\" title=\"1.4\">1.4</td><td style=\"text-align:left\" title=\"0.2\">0.2</td><td style=\"text-align:left\" title=\"setosa\">setosa</td></tr><tr><td style=\"text-align:left\" title=\"5.4\">5.4</td><td style=\"text-align:left\" title=\"3.9\">3.9</td><td style=\"text-align:left\" title=\"1.7\">1.7</td><td style=\"text-align:left\" title=\"0.4\">0.4</td><td style=\"text-align:left\" title=\"setosa\">setosa</td></tr><tr><td style=\"text-align:left\" title=\"4.6\">4.6</td><td style=\"text-align:left\" title=\"3.4\">3.4</td><td style=\"text-align:left\" title=\"1.4\">1.4</td><td style=\"text-align:left\" title=\"0.3\">0.3</td><td style=\"text-align:left\" title=\"setosa\">setosa</td></tr><tr><td style=\"text-align:left\" title=\"5.0\">5.0</td><td style=\"text-align:left\" title=\"3.4\">3.4</td><td style=\"text-align:left\" title=\"1.5\">1.5</td><td style=\"text-align:left\" title=\"0.2\">0.2</td><td style=\"text-align:left\" title=\"setosa\">setosa</td></tr><tr><td style=\"text-align:left\" title=\"4.4\">4.4</td><td style=\"text-align:left\" title=\"2.9\">2.9</td><td style=\"text-align:left\" title=\"1.4\">1.4</td><td style=\"text-align:left\" title=\"0.2\">0.2</td><td style=\"text-align:left\" title=\"setosa\">setosa</td></tr><tr><td style=\"text-align:left\" title=\"4.9\">4.9</td><td style=\"text-align:left\" title=\"3.1\">3.1</td><td style=\"text-align:left\" title=\"1.5\">1.5</td><td style=\"text-align:left\" title=\"0.1\">0.1</td><td style=\"text-align:left\" title=\"setosa\">setosa</td></tr><tr><td style=\"text-align:left\" title=\"5.4\">5.4</td><td style=\"text-align:left\" title=\"3.7\">3.7</td><td style=\"text-align:left\" title=\"1.5\">1.5</td><td style=\"text-align:left\" title=\"0.2\">0.2</td><td style=\"text-align:left\" title=\"setosa\">setosa</td></tr><tr><td style=\"text-align:left\" title=\"4.8\">4.8</td><td style=\"text-align:left\" title=\"3.4\">3.4</td><td style=\"text-align:left\" title=\"1.6\">1.6</td><td style=\"text-align:left\" title=\"0.2\">0.2</td><td style=\"text-align:left\" title=\"setosa\">setosa</td></tr><tr><td style=\"text-align:left\" title=\"4.8\">4.8</td><td style=\"text-align:left\" title=\"3.0\">3.0</td><td style=\"text-align:left\" title=\"1.4\">1.4</td><td style=\"text-align:left\" title=\"0.1\">0.1</td><td style=\"text-align:left\" title=\"setosa\">setosa</td></tr><tr><td style=\"text-align:left\" title=\"4.3\">4.3</td><td style=\"text-align:left\" title=\"3.0\">3.0</td><td style=\"text-align:left\" title=\"1.1\">1.1</td><td style=\"text-align:left\" title=\"0.1\">0.1</td><td style=\"text-align:left\" title=\"setosa\">setosa</td></tr><tr><td style=\"text-align:left\" title=\"5.8\">5.8</td><td style=\"text-align:left\" title=\"4.0\">4.0</td><td style=\"text-align:left\" title=\"1.2\">1.2</td><td style=\"text-align:left\" title=\"0.2\">0.2</td><td style=\"text-align:left\" title=\"setosa\">setosa</td></tr><tr><td style=\"text-align:left\" title=\"5.7\">5.7</td><td style=\"text-align:left\" title=\"4.4\">4.4</td><td style=\"text-align:left\" title=\"1.5\">1.5</td><td style=\"text-align:left\" title=\"0.4\">0.4</td><td style=\"text-align:left\" title=\"setosa\">setosa</td></tr><tr><td style=\"text-align:left\" title=\"5.4\">5.4</td><td style=\"text-align:left\" title=\"3.9\">3.9</td><td style=\"text-align:left\" title=\"1.3\">1.3</td><td style=\"text-align:left\" title=\"0.4\">0.4</td><td style=\"text-align:left\" title=\"setosa\">setosa</td></tr><tr><td style=\"text-align:left\" title=\"5.1\">5.1</td><td style=\"text-align:left\" title=\"3.5\">3.5</td><td style=\"text-align:left\" title=\"1.4\">1.4</td><td style=\"text-align:left\" title=\"0.3\">0.3</td><td style=\"text-align:left\" title=\"setosa\">setosa</td></tr><tr><td style=\"text-align:left\" title=\"5.7\">5.7</td><td style=\"text-align:left\" title=\"3.8\">3.8</td><td style=\"text-align:left\" title=\"1.7\">1.7</td><td style=\"text-align:left\" title=\"0.3\">0.3</td><td style=\"text-align:left\" title=\"setosa\">setosa</td></tr><tr><td style=\"text-align:left\" title=\"5.1\">5.1</td><td style=\"text-align:left\" title=\"3.8\">3.8</td><td style=\"text-align:left\" title=\"1.5\">1.5</td><td style=\"text-align:left\" title=\"0.3\">0.3</td><td style=\"text-align:left\" title=\"setosa\">setosa</td></tr></table><p>... only showing top 20 rows</p></body></html>"
      ]
     },
     "execution_count": 8,
     "metadata": {},
     "output_type": "execute_result"
    }
   ],
   "source": [
    "irisData"
   ]
  },
  {
   "cell_type": "code",
   "execution_count": 5,
   "metadata": {
    "ExecuteTime": {
     "end_time": "2020-07-05T20:49+0800",
     "start_time": "2020-07-05T20:49+0800"
    }
   },
   "outputs": [
    {
     "data": {
      "text/html": [
       "   <div id=\"Py7M2F\"></div>\n",
       "   <script type=\"text/javascript\" data-lets-plot-script=\"library\">\n",
       "       if(!window.letsPlotCallQueue) {\n",
       "           window.letsPlotCallQueue = [];\n",
       "       }; \n",
       "       window.letsPlotCall = function(f) {\n",
       "           window.letsPlotCallQueue.push(f);\n",
       "       };\n",
       "       (function() {\n",
       "           var script = document.createElement(\"script\");\n",
       "           script.type = \"text/javascript\";\n",
       "           script.src = \"https://dl.bintray.com/jetbrains/lets-plot/lets-plot-1.4.2.min.js\";\n",
       "           script.onload = function() {\n",
       "               window.letsPlotCall = function(f) {f();};\n",
       "               window.letsPlotCallQueue.forEach(function(f) {f();});\n",
       "               window.letsPlotCallQueue = [];\n",
       "               \n",
       "               \n",
       "           };\n",
       "           script.onerror = function(event) {\n",
       "               window.letsPlotCall = function(f) {};\n",
       "               window.letsPlotCallQueue = [];\n",
       "               var div = document.createElement(\"div\");\n",
       "               div.style.color = 'darkred';\n",
       "               div.textContent = 'Error loading Lets-Plot JS';\n",
       "               document.getElementById(\"Py7M2F\").appendChild(div);\n",
       "           };\n",
       "           var e = document.getElementById(\"Py7M2F\");\n",
       "           e.appendChild(script);\n",
       "       })();\n",
       "   </script>"
      ]
     },
     "metadata": {},
     "output_type": "display_data"
    }
   ],
   "source": [
    "%use lets-plot"
   ]
  },
  {
   "cell_type": "code",
   "execution_count": 9,
   "metadata": {
    "ExecuteTime": {
     "end_time": "2020-07-05T20:50+0800",
     "start_time": "2020-07-05T12:50:13.663Z"
    }
   },
   "outputs": [
    {
     "name": "stderr",
     "output_type": "stream",
     "text": [
      "Line_177.jupyter.kts (1:11 - 19) Type mismatch: inferred type is DataFrame but Map<*, *>? was expected"
     ]
    }
   ],
   "source": [
    "lets_plot(irisData)"
   ]
  },
  {
   "cell_type": "code",
   "execution_count": null,
   "metadata": {},
   "outputs": [],
   "source": []
  }
 ],
 "metadata": {
  "hide_input": false,
  "kernelspec": {
   "display_name": "Kotlin",
   "language": "kotlin",
   "name": "kotlin"
  },
  "language_info": {
   "codemirror_mode": "text/x-kotlin",
   "file_extension": ".kt",
   "mimetype": "text/x-kotlin",
   "name": "kotlin",
   "pygments_lexer": "kotlin",
   "version": "1.4.20-dev-1121"
  },
  "toc": {
   "base_numbering": 1,
   "nav_menu": {},
   "number_sections": true,
   "sideBar": true,
   "skip_h1_title": false,
   "title_cell": "Table of Contents",
   "title_sidebar": "Contents",
   "toc_cell": false,
   "toc_position": {},
   "toc_section_display": true,
   "toc_window_display": false
  },
  "varInspector": {
   "cols": {
    "lenName": 16,
    "lenType": 16,
    "lenVar": 40
   },
   "kernels_config": {
    "python": {
     "delete_cmd_postfix": "",
     "delete_cmd_prefix": "del ",
     "library": "var_list.py",
     "varRefreshCmd": "print(var_dic_list())"
    },
    "r": {
     "delete_cmd_postfix": ") ",
     "delete_cmd_prefix": "rm(",
     "library": "var_list.r",
     "varRefreshCmd": "cat(var_dic_list()) "
    }
   },
   "types_to_exclude": [
    "module",
    "function",
    "builtin_function_or_method",
    "instance",
    "_Feature"
   ],
   "window_display": false
  }
 },
 "nbformat": 4,
 "nbformat_minor": 4
}
