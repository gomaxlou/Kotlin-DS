{
 "cells": [
  {
   "cell_type": "code",
   "execution_count": 1,
   "metadata": {
    "ExecuteTime": {
     "end_time": "2020-07-05T15:08+0800",
     "start_time": "2020-07-05T15:08+0800"
    }
   },
   "outputs": [],
   "source": [
    "%use klaxon"
   ]
  },
  {
   "cell_type": "code",
   "execution_count": 2,
   "metadata": {
    "ExecuteTime": {
     "end_time": "2020-07-05T14:56+0800",
     "start_time": "2020-07-05T14:56+0800"
    }
   },
   "outputs": [],
   "source": [
    "class Person(val name: String, val age: Int)"
   ]
  },
  {
   "cell_type": "code",
   "execution_count": 3,
   "metadata": {
    "ExecuteTime": {
     "end_time": "2020-07-05T14:57+0800",
     "start_time": "2020-07-05T14:57+0800"
    }
   },
   "outputs": [
    {
     "data": {
      "text/plain": [
       "com.beust.klaxon.Klaxon@4d95a72e"
      ]
     },
     "execution_count": 3,
     "metadata": {},
     "output_type": "execute_result"
    }
   ],
   "source": [
    "Klaxon()"
   ]
  },
  {
   "cell_type": "code",
   "execution_count": 5,
   "metadata": {
    "ExecuteTime": {
     "end_time": "2020-07-05T14:58+0800",
     "start_time": "2020-07-05T14:58+0800"
    }
   },
   "outputs": [
    {
     "data": {
      "text/plain": [
       "com.beust.klaxon.Klaxon@51d387d3"
      ]
     },
     "execution_count": 5,
     "metadata": {},
     "output_type": "execute_result"
    }
   ],
   "source": [
    "com.beust.klaxon.Klaxon()"
   ]
  },
  {
   "cell_type": "code",
   "execution_count": 5,
   "metadata": {
    "ExecuteTime": {
     "end_time": "2020-07-05T15:49+0800",
     "start_time": "2020-07-05T15:49+0800"
    }
   },
   "outputs": [],
   "source": [
    "@file:Repository(\"https://dl.bintray.com/kyonifer/maven\")\n",
    "@file:DependsOn(\"com.kyonifer:koma-core-ejml:0.12\")\n",
    "@file:DependsOn(\"com.kyonifer:koma-plotting:0.12\")"
   ]
  },
  {
   "cell_type": "code",
   "execution_count": 1,
   "metadata": {
    "ExecuteTime": {
     "end_time": "2020-07-05T16:08+0800",
     "start_time": "2020-07-05T16:08+0800"
    }
   },
   "outputs": [],
   "source": [
    "%use koma(0.12)"
   ]
  },
  {
   "cell_type": "code",
   "execution_count": 2,
   "metadata": {
    "ExecuteTime": {
     "end_time": "2020-07-05T16:08+0800",
     "start_time": "2020-07-05T16:08+0800"
    }
   },
   "outputs": [],
   "source": [
    "import koma.*\n",
    "import koma.extensions.*\n",
    "\n",
    "var a = randn(100,2)\n",
    "var b = cumsum(a)\n",
    "\n",
    "figure(1)\n",
    "// Second parameter is color\n",
    "plot(a, 'b', \"First Run\")\n",
    "plot(a+1, 'y', \"First Run Offset\")\n",
    "xlabel(\"Time (s)\")\n",
    "ylabel(\"Magnitude\")\n",
    "title(\"White Noise\")\n",
    "\n",
    "// figure(2)\n",
    "// plot(b, 'g') // green\n",
    "// xlabel(\"Velocity (lightweeks/minute)\")\n",
    "// ylabel(\"Intelligence\")\n",
    "// title(\"Random Walk\")"
   ]
  },
  {
   "cell_type": "code",
   "execution_count": 9,
   "metadata": {
    "ExecuteTime": {
     "end_time": "2020-07-05T16:31+0800",
     "start_time": "2020-07-05T16:31+0800"
    }
   },
   "outputs": [],
   "source": [
    "%use krangl(0.13)\n",
    "// %use kravis(0.5)"
   ]
  },
  {
   "cell_type": "code",
   "execution_count": 8,
   "metadata": {
    "ExecuteTime": {
     "end_time": "2020-07-05T16:12+0800",
     "start_time": "2020-07-05T16:12+0800"
    }
   },
   "outputs": [],
   "source": [
    "import krangl.*\n",
    "// import kravis.*"
   ]
  },
  {
   "cell_type": "code",
   "execution_count": 5,
   "metadata": {
    "ExecuteTime": {
     "end_time": "2020-07-05T15:35+0800",
     "start_time": "2020-07-05T15:35+0800"
    },
    "collapsed": true
   },
   "outputs": [
    {
     "data": {
      "text/plain": [
       "Commands:\n",
       "    :help - display help\n",
       "    :classpath - show current classpath\n",
       "\n",
       "Magics\n",
       "    %use - include supported libraries\n",
       "        Usage: %use klaxon(5.0.1), lets-plot\n",
       "    %trackClasspath - log current classpath changes\n",
       "    %output - setup output settings\n",
       "        Usage: %output --max-cell-size=1000 --no-stdout --max-time=100 --max-buffer=400\n",
       "\n",
       "Supported libraries:\n",
       "    dataframe https://github.com/nikitinas/krangl-typed\n",
       "    deeplearning4j-cuda https://github.com/eclipse/deeplearning4j\n",
       "    deeplearning4j https://github.com/eclipse/deeplearning4j\n",
       "    default \n",
       "    exposed https://github.com/JetBrains/Exposed\n",
       "    fuel https://github.com/kittinunf/fuel\n",
       "    gral https://github.com/eseifert/gral\n",
       "    khttp https://github.com/jkcclemens/khttp\n",
       "    klaxon https://github.com/cbeust/klaxon\n",
       "    kmath https://github.com/mipt-npm/kmath\n",
       "    koma https://koma.kyonifer.com/index.html\n",
       "    kotlin-statistics https://github.com/thomasnield/kotlin-statistics\n",
       "    krangl https://github.com/holgerbrandl/krangl\n",
       "    kravis https://github.com/holgerbrandl/kravis\n",
       "    lets-plot-dataframe https://github.com/JetBrains/lets-plot-kotlin\n",
       "    lets-plot https://github.com/JetBrains/lets-plot-kotlin\n",
       "    mysql https://github.com/mysql/mysql-connector-j\n",
       "    numpy https://github.com/Kotlin/kotlin-numpy\n",
       "    smile https://github.com/haifengl/smile\n",
       "    spark "
      ]
     },
     "execution_count": 5,
     "metadata": {},
     "output_type": "execute_result"
    }
   ],
   "source": [
    ":help"
   ]
  },
  {
   "cell_type": "code",
   "execution_count": 1,
   "metadata": {
    "ExecuteTime": {
     "end_time": "2020-07-05T19:19+0800",
     "start_time": "2020-07-05T19:19+0800"
    }
   },
   "outputs": [
    {
     "data": {
      "text/plain": [
       "Current classpath (4 paths):\n",
       "C:\\Users\\Me\\.julia\\conda\\3\\Lib\\site-packages\\run_kotlin_kernel\\jars\\jupyter-lib-0.8.1.98.jar\n",
       "C:\\Users\\Me\\.julia\\conda\\3\\Lib\\site-packages\\run_kotlin_kernel\\jars\\kotlin-stdlib-1.4.20-dev-1121.jar\n",
       "C:\\Users\\Me\\.julia\\conda\\3\\Lib\\site-packages\\run_kotlin_kernel\\jars\\kotlin-stdlib-common-1.4.20-dev-1121.jar\n",
       "C:\\Users\\Me\\.julia\\conda\\3\\Lib\\site-packages\\run_kotlin_kernel\\jars\\annotations-13.0.jar"
      ]
     },
     "execution_count": 1,
     "metadata": {},
     "output_type": "execute_result"
    }
   ],
   "source": [
    ":classpath"
   ]
  },
  {
   "cell_type": "code",
   "execution_count": 2,
   "metadata": {
    "ExecuteTime": {
     "end_time": "2020-07-05T15:45+0800",
     "start_time": "2020-07-05T15:45+0800"
    }
   },
   "outputs": [],
   "source": [
    "%use kmath"
   ]
  },
  {
   "cell_type": "code",
   "execution_count": null,
   "metadata": {},
   "outputs": [],
   "source": []
  },
  {
   "cell_type": "code",
   "execution_count": 18,
   "metadata": {
    "ExecuteTime": {
     "end_time": "2020-07-05T15:59+0800",
     "start_time": "2020-07-05T07:59:03.231Z"
    },
    "collapsed": true
   },
   "outputs": [
    {
     "name": "stderr",
     "output_type": "stream",
     "text": [
      "java.lang.IllegalStateException: The matrix is singular\n",
      "scientifik.kmath.linear.LUPDecompositionKt.lup(LUPDecomposition.kt:139)\n",
      "scientifik.kmath.linear.LUPDecompositionKt.inverse(LUPDecomposition.kt:315)\n",
      "Line_605_jupyter.<init>(Line_605.jupyter.kts:20)\n",
      "sun.reflect.NativeConstructorAccessorImpl.newInstance0(Native Method)\n",
      "sun.reflect.NativeConstructorAccessorImpl.newInstance(Unknown Source)\n",
      "sun.reflect.DelegatingConstructorAccessorImpl.newInstance(Unknown Source)\n",
      "java.lang.reflect.Constructor.newInstance(Unknown Source)\n",
      "kotlin.script.experimental.jvm.BasicJvmScriptEvaluator.evalWithConfigAndOtherScriptsResults(BasicJvmScriptEvaluator.kt:96)\n",
      "kotlin.script.experimental.jvm.BasicJvmScriptEvaluator.invoke$suspendImpl(BasicJvmScriptEvaluator.kt:41)\n",
      "kotlin.script.experimental.jvm.BasicJvmScriptEvaluator.invoke(BasicJvmScriptEvaluator.kt)\n",
      "kotlin.script.experimental.jvm.BasicJvmReplEvaluator.eval(BasicJvmReplEvaluator.kt:51)\n",
      "org.jetbrains.kotlin.jupyter.ReplForJupyterImpl$doEval$resultWithDiagnostics$1.invokeSuspend(repl.kt:486)\n",
      "kotlin.coroutines.jvm.internal.BaseContinuationImpl.resumeWith(ContinuationImpl.kt:33)\n",
      "kotlinx.coroutines.DispatchedTask.run(DispatchedTask.kt:56)\n",
      "kotlinx.coroutines.EventLoopImplBase.processNextEvent(EventLoop.common.kt:274)\n",
      "kotlinx.coroutines.BlockingCoroutine.joinBlocking(Builders.kt:84)\n",
      "kotlinx.coroutines.BuildersKt__BuildersKt.runBlocking(Builders.kt:59)\n",
      "kotlinx.coroutines.BuildersKt.runBlocking(Unknown Source)\n",
      "kotlinx.coroutines.BuildersKt__BuildersKt.runBlocking$default(Builders.kt:38)\n",
      "kotlinx.coroutines.BuildersKt.runBlocking$default(Unknown Source)\n",
      "org.jetbrains.kotlin.jupyter.ReplForJupyterImpl.doEval(repl.kt:486)\n",
      "org.jetbrains.kotlin.jupyter.ReplForJupyterImpl.eval(repl.kt:342)\n",
      "org.jetbrains.kotlin.jupyter.ProtocolKt$shellMessagesHandler$res$1.invoke(protocol.kt:136)\n",
      "org.jetbrains.kotlin.jupyter.ProtocolKt$shellMessagesHandler$res$1.invoke(protocol.kt)\n",
      "org.jetbrains.kotlin.jupyter.ProtocolKt.evalWithIO(protocol.kt:349)\n",
      "org.jetbrains.kotlin.jupyter.ProtocolKt.shellMessagesHandler(protocol.kt:135)\n",
      "org.jetbrains.kotlin.jupyter.IkotlinKt.kernelServer(ikotlin.kt:104)\n",
      "org.jetbrains.kotlin.jupyter.IkotlinKt.main(ikotlin.kt:59)\n"
     ]
    }
   ],
   "source": [
    "import kotlin.random.Random\n",
    "import kotlin.system.measureTimeMillis\n",
    "import scientifik.kmath.structures.Matrix\n",
    "val rand = Random(1224)\n",
    "val dim = 100\n",
    "val u = Matrix.real(dim, dim){i,j->\n",
    "        if (i <= j) rand.nextDouble() else 0.0\n",
    "}\n",
    "\n",
    "val v = Matrix.real(100,100){i,j->\n",
    "        if (i <= j) rand.nextDouble() else 0.0\n",
    "}\n",
    "\n",
    "val matrix = u dot v\n",
    "\n",
    "val n = 5000\n",
    "\n",
    "MatrixContext.real.run { \n",
    "    repeat(50) {\n",
    "        val res = inverse(matrix)\n",
    "    }\n",
    "\n",
    "    val inverseTime = measureTimeMillis {\n",
    "        repeat(n) {\n",
    "            val res = inverse(matrix)\n",
    "        }\n",
    "    }\n",
    "\n",
    "    println(\"[kmath] Inversion of $n matrices $dim x $dim finished in $inverseTime millis\")    \n",
    "}    "
   ]
  },
  {
   "cell_type": "code",
   "execution_count": 1,
   "metadata": {
    "ExecuteTime": {
     "end_time": "2020-07-05T17:00+0800",
     "start_time": "2020-07-05T17:00+0800"
    }
   },
   "outputs": [],
   "source": [
    "%use krangl"
   ]
  },
  {
   "cell_type": "code",
   "execution_count": 2,
   "metadata": {
    "ExecuteTime": {
     "end_time": "2020-07-05T17:00+0800",
     "start_time": "2020-07-05T17:00+0800"
    }
   },
   "outputs": [],
   "source": [
    "@file:DependsOn(\"com.github.holgerbrandl:kravis:-SNAPSHOT\")"
   ]
  },
  {
   "cell_type": "code",
   "execution_count": 3,
   "metadata": {
    "ExecuteTime": {
     "end_time": "2020-07-05T17:01+0800",
     "start_time": "2020-07-05T17:01+0800"
    }
   },
   "outputs": [
    {
     "data": {
      "text/plain": [
       "ggplot(mapping=aes(x=`sleep_total`,y=`rem_proportion`,color=`vore`,size=`brainwt`), data=data01) + \n",
       "\tgeom_point(stat='identity', position=position_identity(), na.rm=FALSE, inherit.aes=TRUE, alpha=0.7) + \n",
       "\tguides(size='none') + \n",
       "\tggtitle(\"Correlation between dream and total sleep time\")"
      ]
     },
     "execution_count": 3,
     "metadata": {},
     "output_type": "execute_result"
    }
   ],
   "source": [
    "import krangl.*\n",
    "import kravis.*\n",
    "import krangl.sleepData\n",
    "\n",
    "sleepData\n",
    "    .addColumn(\"rem_proportion\") { it[\"sleep_rem\"] / it[\"sleep_total\"] }\n",
    "        // Analyze correlation\n",
    "    .plot(x = \"sleep_total\", y = \"rem_proportion\", color = \"vore\", size = \"brainwt\")\n",
    "        .geomPoint(alpha = 0.7)\n",
    "        .guides(size = LegendType.none)\n",
    "        .title(\"Correlation between dream and total sleep time\")"
   ]
  },
  {
   "cell_type": "code",
   "execution_count": 4,
   "metadata": {
    "ExecuteTime": {
     "end_time": "2020-07-05T17:01+0800",
     "start_time": "2020-07-05T17:01+0800"
    }
   },
   "outputs": [
    {
     "name": "stdout",
     "output_type": "stream",
     "text": [
      "{name=Cheetah, genus=Acinonyx, vore=carni, order=Carnivora, conservation=lc, sleep_total=12.1, sleep_rem=null, sleep_cycle=null, awake=11.9, brainwt=null, bodywt=50.0}\n",
      "{name=Owl monkey, genus=Aotus, vore=omni, order=Primates, conservation=null, sleep_total=17.0, sleep_rem=1.8, sleep_cycle=null, awake=7.0, brainwt=0.0155, bodywt=0.48}\n",
      "{name=Mountain beaver, genus=Aplodontia, vore=herbi, order=Rodentia, conservation=nt, sleep_total=14.4, sleep_rem=2.4, sleep_cycle=null, awake=9.6, brainwt=null, bodywt=1.35}\n",
      "{name=Greater short-tailed shrew, genus=Blarina, vore=omni, order=Soricomorpha, conservation=lc, sleep_total=14.9, sleep_rem=2.3, sleep_cycle=0.133333333, awake=9.1, brainwt=2.9E-4, bodywt=0.019}\n",
      "{name=Cow, genus=Bos, vore=herbi, order=Artiodactyla, conservation=domesticated, sleep_total=4.0, sleep_rem=0.7, sleep_cycle=0.666666667, awake=20.0, brainwt=0.423, bodywt=600.0}\n",
      "{name=Three-toed sloth, genus=Bradypus, vore=herbi, order=Pilosa, conservation=null, sleep_total=14.4, sleep_rem=2.2, sleep_cycle=0.766666667, awake=9.6, brainwt=null, bodywt=3.85}\n",
      "{name=Northern fur seal, genus=Callorhinus, vore=carni, order=Carnivora, conservation=vu, sleep_total=8.7, sleep_rem=1.4, sleep_cycle=0.383333333, awake=15.3, brainwt=null, bodywt=20.49}\n",
      "{name=Vesper mouse, genus=Calomys, vore=null, order=Rodentia, conservation=null, sleep_total=7.0, sleep_rem=null, sleep_cycle=null, awake=17.0, brainwt=null, bodywt=0.045}\n",
      "{name=Dog, genus=Canis, vore=carni, order=Carnivora, conservation=domesticated, sleep_total=10.1, sleep_rem=2.9, sleep_cycle=0.333333333, awake=13.9, brainwt=0.07, bodywt=14.0}\n",
      "{name=Roe deer, genus=Capreolus, vore=herbi, order=Artiodactyla, conservation=lc, sleep_total=3.0, sleep_rem=null, sleep_cycle=null, awake=21.0, brainwt=0.0982, bodywt=14.8}\n",
      "{name=Goat, genus=Capri, vore=herbi, order=Artiodactyla, conservation=lc, sleep_total=5.3, sleep_rem=0.6, sleep_cycle=null, awake=18.7, brainwt=0.115, bodywt=33.5}\n",
      "{name=Guinea pig, genus=Cavis, vore=herbi, order=Rodentia, conservation=domesticated, sleep_total=9.4, sleep_rem=0.8, sleep_cycle=0.216666667, awake=14.6, brainwt=0.0055, bodywt=0.728}\n",
      "{name=Grivet, genus=Cercopithecus, vore=omni, order=Primates, conservation=lc, sleep_total=10.0, sleep_rem=0.7, sleep_cycle=null, awake=14.0, brainwt=null, bodywt=4.75}\n",
      "{name=Chinchilla, genus=Chinchilla, vore=herbi, order=Rodentia, conservation=domesticated, sleep_total=12.5, sleep_rem=1.5, sleep_cycle=0.116666667, awake=11.5, brainwt=0.0064, bodywt=0.42}\n",
      "{name=Star-nosed mole, genus=Condylura, vore=omni, order=Soricomorpha, conservation=lc, sleep_total=10.3, sleep_rem=2.2, sleep_cycle=null, awake=13.7, brainwt=0.001, bodywt=0.06}\n",
      "{name=African giant pouched rat, genus=Cricetomys, vore=omni, order=Rodentia, conservation=null, sleep_total=8.3, sleep_rem=2.0, sleep_cycle=null, awake=15.7, brainwt=0.0066, bodywt=1.0}\n",
      "{name=Lesser short-tailed shrew, genus=Cryptotis, vore=omni, order=Soricomorpha, conservation=lc, sleep_total=9.1, sleep_rem=1.4, sleep_cycle=0.15, awake=14.9, brainwt=1.4E-4, bodywt=0.005}\n",
      "{name=Long-nosed armadillo, genus=Dasypus, vore=carni, order=Cingulata, conservation=lc, sleep_total=17.4, sleep_rem=3.1, sleep_cycle=0.383333333, awake=6.6, brainwt=0.0108, bodywt=3.5}\n",
      "{name=Tree hyrax, genus=Dendrohyrax, vore=herbi, order=Hyracoidea, conservation=lc, sleep_total=5.3, sleep_rem=0.5, sleep_cycle=null, awake=18.7, brainwt=0.0123, bodywt=2.95}\n",
      "{name=North American Opossum, genus=Didelphis, vore=omni, order=Didelphimorphia, conservation=lc, sleep_total=18.0, sleep_rem=4.9, sleep_cycle=0.333333333, awake=6.0, brainwt=0.0063, bodywt=1.7}\n",
      "{name=Asian elephant, genus=Elephas, vore=herbi, order=Proboscidea, conservation=en, sleep_total=3.9, sleep_rem=null, sleep_cycle=null, awake=20.1, brainwt=4.603, bodywt=2547.0}\n",
      "{name=Big brown bat, genus=Eptesicus, vore=insecti, order=Chiroptera, conservation=lc, sleep_total=19.7, sleep_rem=3.9, sleep_cycle=0.116666667, awake=4.3, brainwt=3.0E-4, bodywt=0.023}\n",
      "{name=Horse, genus=Equus, vore=herbi, order=Perissodactyla, conservation=domesticated, sleep_total=2.9, sleep_rem=0.6, sleep_cycle=1.0, awake=21.1, brainwt=0.655, bodywt=521.0}\n",
      "{name=Donkey, genus=Equus, vore=herbi, order=Perissodactyla, conservation=domesticated, sleep_total=3.1, sleep_rem=0.4, sleep_cycle=null, awake=20.9, brainwt=0.419, bodywt=187.0}\n",
      "{name=European hedgehog, genus=Erinaceus, vore=omni, order=Erinaceomorpha, conservation=lc, sleep_total=10.1, sleep_rem=3.5, sleep_cycle=0.283333333, awake=13.9, brainwt=0.0035, bodywt=0.77}\n",
      "{name=Patas monkey, genus=Erythrocebus, vore=omni, order=Primates, conservation=lc, sleep_total=10.9, sleep_rem=1.1, sleep_cycle=null, awake=13.1, brainwt=0.115, bodywt=10.0}\n",
      "{name=Western american chipmunk, genus=Eutamias, vore=herbi, order=Rodentia, conservation=null, sleep_total=14.9, sleep_rem=null, sleep_cycle=null, awake=9.1, brainwt=null, bodywt=0.071}\n",
      "{name=Domestic cat, genus=Felis, vore=carni, order=Carnivora, conservation=domesticated, sleep_total=12.5, sleep_rem=3.2, sleep_cycle=0.416666667, awake=11.5, brainwt=0.0256, bodywt=3.3}\n",
      "{name=Galago, genus=Galago, vore=omni, order=Primates, conservation=null, sleep_total=9.8, sleep_rem=1.1, sleep_cycle=0.55, awake=14.2, brainwt=0.005, bodywt=0.2}\n",
      "{name=Giraffe, genus=Giraffa, vore=herbi, order=Artiodactyla, conservation=cd, sleep_total=1.9, sleep_rem=0.4, sleep_cycle=null, awake=22.1, brainwt=null, bodywt=899.995}\n",
      "{name=Pilot whale, genus=Globicephalus, vore=carni, order=Cetacea, conservation=cd, sleep_total=2.7, sleep_rem=0.1, sleep_cycle=null, awake=21.35, brainwt=null, bodywt=800.0}\n",
      "{name=Gray seal, genus=Haliochoerus, vore=carni, order=Carnivora, conservation=lc, sleep_total=6.2, sleep_rem=1.5, sleep_cycle=null, awake=17.8, brainwt=0.325, bodywt=85.0}\n",
      "{name=Gray hyrax, genus=Heterohyrax, vore=herbi, order=Hyracoidea, conservation=lc, sleep_total=6.3, sleep_rem=0.6, sleep_cycle=null, awake=17.7, brainwt=0.01227, bodywt=2.625}\n",
      "{name=Human, genus=Homo, vore=omni, order=Primates, conservation=null, sleep_total=8.0, sleep_rem=1.9, sleep_cycle=1.5, awake=16.0, brainwt=1.32, bodywt=62.0}\n",
      "{name=Mongoose lemur, genus=Lemur, vore=herbi, order=Primates, conservation=vu, sleep_total=9.5, sleep_rem=0.9, sleep_cycle=null, awake=14.5, brainwt=null, bodywt=1.67}\n",
      "{name=African elephant, genus=Loxodonta, vore=herbi, order=Proboscidea, conservation=vu, sleep_total=3.3, sleep_rem=null, sleep_cycle=null, awake=20.7, brainwt=5.712, bodywt=6654.0}\n",
      "{name=Thick-tailed opposum, genus=Lutreolina, vore=carni, order=Didelphimorphia, conservation=lc, sleep_total=19.4, sleep_rem=6.6, sleep_cycle=null, awake=4.6, brainwt=null, bodywt=0.37}\n",
      "{name=Macaque, genus=Macaca, vore=omni, order=Primates, conservation=null, sleep_total=10.1, sleep_rem=1.2, sleep_cycle=0.75, awake=13.9, brainwt=0.179, bodywt=6.8}\n",
      "{name=Mongolian gerbil, genus=Meriones, vore=herbi, order=Rodentia, conservation=lc, sleep_total=14.2, sleep_rem=1.9, sleep_cycle=null, awake=9.8, brainwt=null, bodywt=0.053}\n",
      "{name=Golden hamster, genus=Mesocricetus, vore=herbi, order=Rodentia, conservation=en, sleep_total=14.3, sleep_rem=3.1, sleep_cycle=0.2, awake=9.7, brainwt=0.001, bodywt=0.12}\n",
      "{name=Vole , genus=Microtus, vore=herbi, order=Rodentia, conservation=null, sleep_total=12.8, sleep_rem=null, sleep_cycle=null, awake=11.2, brainwt=null, bodywt=0.035}\n",
      "{name=House mouse, genus=Mus, vore=herbi, order=Rodentia, conservation=nt, sleep_total=12.5, sleep_rem=1.4, sleep_cycle=0.183333333, awake=11.5, brainwt=4.0E-4, bodywt=0.022}\n",
      "{name=Little brown bat, genus=Myotis, vore=insecti, order=Chiroptera, conservation=null, sleep_total=19.9, sleep_rem=2.0, sleep_cycle=0.2, awake=4.1, brainwt=2.5E-4, bodywt=0.01}\n",
      "{name=Round-tailed muskrat, genus=Neofiber, vore=herbi, order=Rodentia, conservation=nt, sleep_total=14.6, sleep_rem=null, sleep_cycle=null, awake=9.4, brainwt=null, bodywt=0.266}\n",
      "{name=Slow loris, genus=Nyctibeus, vore=carni, order=Primates, conservation=null, sleep_total=11.0, sleep_rem=null, sleep_cycle=null, awake=13.0, brainwt=0.0125, bodywt=1.4}\n",
      "{name=Degu, genus=Octodon, vore=herbi, order=Rodentia, conservation=lc, sleep_total=7.7, sleep_rem=0.9, sleep_cycle=null, awake=16.3, brainwt=null, bodywt=0.21}\n",
      "{name=Northern grasshopper mouse, genus=Onychomys, vore=carni, order=Rodentia, conservation=lc, sleep_total=14.5, sleep_rem=null, sleep_cycle=null, awake=9.5, brainwt=null, bodywt=0.028}\n"
     ]
    },
    {
     "name": "stdout",
     "output_type": "stream",
     "text": [
      "{name=Rabbit, genus=Oryctolagus, vore=herbi, order=Lagomorpha, conservation=domesticated, sleep_total=8.4, sleep_rem=0.9, sleep_cycle=0.416666667, awake=15.6, brainwt=0.0121, bodywt=2.5}\n",
      "{name=Sheep, genus=Ovis, vore=herbi, order=Artiodactyla, conservation=domesticated, sleep_total=3.8, sleep_rem=0.6, sleep_cycle=null, awake=20.2, brainwt=0.175, bodywt=55.5}\n",
      "{name=Chimpanzee, genus=Pan, vore=omni, order=Primates, conservation=null, sleep_total=9.7, sleep_rem=1.4, sleep_cycle=1.416666667, awake=14.3, brainwt=0.44, bodywt=52.2}\n",
      "{name=Tiger, genus=Panthera, vore=carni, order=Carnivora, conservation=en, sleep_total=15.8, sleep_rem=null, sleep_cycle=null, awake=8.2, brainwt=null, bodywt=162.564}\n",
      "{name=Jaguar, genus=Panthera, vore=carni, order=Carnivora, conservation=nt, sleep_total=10.4, sleep_rem=null, sleep_cycle=null, awake=13.6, brainwt=0.157, bodywt=100.0}\n",
      "{name=Lion, genus=Panthera, vore=carni, order=Carnivora, conservation=vu, sleep_total=13.5, sleep_rem=null, sleep_cycle=null, awake=10.5, brainwt=null, bodywt=161.499}\n",
      "{name=Baboon, genus=Papio, vore=omni, order=Primates, conservation=null, sleep_total=9.4, sleep_rem=1.0, sleep_cycle=0.666666667, awake=14.6, brainwt=0.18, bodywt=25.235}\n",
      "{name=Desert hedgehog, genus=Paraechinus, vore=null, order=Erinaceomorpha, conservation=lc, sleep_total=10.3, sleep_rem=2.7, sleep_cycle=null, awake=13.7, brainwt=0.0024, bodywt=0.55}\n",
      "{name=Potto, genus=Perodicticus, vore=omni, order=Primates, conservation=lc, sleep_total=11.0, sleep_rem=null, sleep_cycle=null, awake=13.0, brainwt=null, bodywt=1.1}\n",
      "{name=Deer mouse, genus=Peromyscus, vore=null, order=Rodentia, conservation=null, sleep_total=11.5, sleep_rem=null, sleep_cycle=null, awake=12.5, brainwt=null, bodywt=0.021}\n",
      "{name=Phalanger, genus=Phalanger, vore=null, order=Diprotodontia, conservation=null, sleep_total=13.7, sleep_rem=1.8, sleep_cycle=null, awake=10.3, brainwt=0.0114, bodywt=1.62}\n",
      "{name=Caspian seal, genus=Phoca, vore=carni, order=Carnivora, conservation=vu, sleep_total=3.5, sleep_rem=0.4, sleep_cycle=null, awake=20.5, brainwt=null, bodywt=86.0}\n",
      "{name=Common porpoise, genus=Phocoena, vore=carni, order=Cetacea, conservation=vu, sleep_total=5.6, sleep_rem=null, sleep_cycle=null, awake=18.45, brainwt=null, bodywt=53.18}\n",
      "{name=Potoroo, genus=Potorous, vore=herbi, order=Diprotodontia, conservation=null, sleep_total=11.1, sleep_rem=1.5, sleep_cycle=null, awake=12.9, brainwt=null, bodywt=1.1}\n",
      "{name=Giant armadillo, genus=Priodontes, vore=insecti, order=Cingulata, conservation=en, sleep_total=18.1, sleep_rem=6.1, sleep_cycle=null, awake=5.9, brainwt=0.081, bodywt=60.0}\n",
      "{name=Rock hyrax, genus=Procavia, vore=null, order=Hyracoidea, conservation=lc, sleep_total=5.4, sleep_rem=0.5, sleep_cycle=null, awake=18.6, brainwt=0.021, bodywt=3.6}\n",
      "{name=Laboratory rat, genus=Rattus, vore=herbi, order=Rodentia, conservation=lc, sleep_total=13.0, sleep_rem=2.4, sleep_cycle=0.183333333, awake=11.0, brainwt=0.0019, bodywt=0.32}\n",
      "{name=African striped mouse, genus=Rhabdomys, vore=omni, order=Rodentia, conservation=null, sleep_total=8.7, sleep_rem=null, sleep_cycle=null, awake=15.3, brainwt=null, bodywt=0.044}\n",
      "{name=Squirrel monkey, genus=Saimiri, vore=omni, order=Primates, conservation=null, sleep_total=9.6, sleep_rem=1.4, sleep_cycle=null, awake=14.4, brainwt=0.02, bodywt=0.743}\n",
      "{name=Eastern american mole, genus=Scalopus, vore=insecti, order=Soricomorpha, conservation=lc, sleep_total=8.4, sleep_rem=2.1, sleep_cycle=0.166666667, awake=15.6, brainwt=0.0012, bodywt=0.075}\n",
      "{name=Cotton rat, genus=Sigmodon, vore=herbi, order=Rodentia, conservation=null, sleep_total=11.3, sleep_rem=1.1, sleep_cycle=0.15, awake=12.7, brainwt=0.00118, bodywt=0.148}\n",
      "{name=Mole rat, genus=Spalax, vore=null, order=Rodentia, conservation=null, sleep_total=10.6, sleep_rem=2.4, sleep_cycle=null, awake=13.4, brainwt=0.003, bodywt=0.122}\n",
      "{name=Arctic ground squirrel, genus=Spermophilus, vore=herbi, order=Rodentia, conservation=lc, sleep_total=16.6, sleep_rem=null, sleep_cycle=null, awake=7.4, brainwt=0.0057, bodywt=0.92}\n",
      "{name=Thirteen-lined ground squirrel, genus=Spermophilus, vore=herbi, order=Rodentia, conservation=lc, sleep_total=13.8, sleep_rem=3.4, sleep_cycle=0.216666667, awake=10.2, brainwt=0.004, bodywt=0.101}\n",
      "{name=Golden-mantled ground squirrel, genus=Spermophilus, vore=herbi, order=Rodentia, conservation=lc, sleep_total=15.9, sleep_rem=3.0, sleep_cycle=null, awake=8.1, brainwt=null, bodywt=0.205}\n",
      "{name=Musk shrew, genus=Suncus, vore=null, order=Soricomorpha, conservation=null, sleep_total=12.8, sleep_rem=2.0, sleep_cycle=0.183333333, awake=11.2, brainwt=3.3E-4, bodywt=0.048}\n",
      "{name=Pig, genus=Sus, vore=omni, order=Artiodactyla, conservation=domesticated, sleep_total=9.1, sleep_rem=2.4, sleep_cycle=0.5, awake=14.9, brainwt=0.18, bodywt=86.25}\n",
      "{name=Short-nosed echidna, genus=Tachyglossus, vore=insecti, order=Monotremata, conservation=null, sleep_total=8.6, sleep_rem=null, sleep_cycle=null, awake=15.4, brainwt=0.025, bodywt=4.5}\n",
      "{name=Eastern american chipmunk, genus=Tamias, vore=herbi, order=Rodentia, conservation=null, sleep_total=15.8, sleep_rem=null, sleep_cycle=null, awake=8.2, brainwt=null, bodywt=0.112}\n",
      "{name=Brazilian tapir, genus=Tapirus, vore=herbi, order=Perissodactyla, conservation=vu, sleep_total=4.4, sleep_rem=1.0, sleep_cycle=0.9, awake=19.6, brainwt=0.169, bodywt=207.501}\n",
      "{name=Tenrec, genus=Tenrec, vore=omni, order=Afrosoricida, conservation=null, sleep_total=15.6, sleep_rem=2.3, sleep_cycle=null, awake=8.4, brainwt=0.0026, bodywt=0.9}\n",
      "{name=Tree shrew, genus=Tupaia, vore=omni, order=Scandentia, conservation=null, sleep_total=8.9, sleep_rem=2.6, sleep_cycle=0.233333333, awake=15.1, brainwt=0.0025, bodywt=0.104}\n",
      "{name=Bottle-nosed dolphin, genus=Tursiops, vore=carni, order=Cetacea, conservation=null, sleep_total=5.2, sleep_rem=null, sleep_cycle=null, awake=18.8, brainwt=null, bodywt=173.33}\n",
      "{name=Genet, genus=Genetta, vore=carni, order=Carnivora, conservation=null, sleep_total=6.3, sleep_rem=1.3, sleep_cycle=null, awake=17.7, brainwt=0.0175, bodywt=2.0}\n",
      "{name=Arctic fox, genus=Vulpes, vore=carni, order=Carnivora, conservation=null, sleep_total=12.5, sleep_rem=null, sleep_cycle=null, awake=11.5, brainwt=0.0445, bodywt=3.38}\n",
      "{name=Red fox, genus=Vulpes, vore=carni, order=Carnivora, conservation=null, sleep_total=9.8, sleep_rem=2.4, sleep_cycle=0.35, awake=14.2, brainwt=0.0504, bodywt=4.23}\n"
     ]
    }
   ],
   "source": [
    "sleepData.rows.forEach{\n",
    "    println(it)\n",
    "}"
   ]
  },
  {
   "cell_type": "code",
   "execution_count": 18,
   "metadata": {
    "ExecuteTime": {
     "end_time": "2020-07-05T17:11+0800",
     "start_time": "2020-07-05T09:11:24.484Z"
    }
   },
   "outputs": [
    {
     "data": {
      "text/html": [
       "   <div id=\"oikuaj\"></div>\n",
       "   <script type=\"text/javascript\" data-lets-plot-script=\"library\">\n",
       "       if(!window.letsPlotCallQueue) {\n",
       "           window.letsPlotCallQueue = [];\n",
       "       }; \n",
       "       window.letsPlotCall = function(f) {\n",
       "           window.letsPlotCallQueue.push(f);\n",
       "       };\n",
       "       (function() {\n",
       "           var script = document.createElement(\"script\");\n",
       "           script.type = \"text/javascript\";\n",
       "           script.src = \"https://dl.bintray.com/jetbrains/lets-plot/lets-plot-1.4.2.min.js\";\n",
       "           script.onload = function() {\n",
       "               window.letsPlotCall = function(f) {f();};\n",
       "               window.letsPlotCallQueue.forEach(function(f) {f();});\n",
       "               window.letsPlotCallQueue = [];\n",
       "               \n",
       "               \n",
       "           };\n",
       "           script.onerror = function(event) {\n",
       "               window.letsPlotCall = function(f) {};\n",
       "               window.letsPlotCallQueue = [];\n",
       "               var div = document.createElement(\"div\");\n",
       "               div.style.color = 'darkred';\n",
       "               div.textContent = 'Error loading Lets-Plot JS';\n",
       "               document.getElementById(\"oikuaj\").appendChild(div);\n",
       "           };\n",
       "           var e = document.getElementById(\"oikuaj\");\n",
       "           e.appendChild(script);\n",
       "       })();\n",
       "   </script>"
      ]
     },
     "metadata": {},
     "output_type": "display_data"
    },
    {
     "name": "stderr",
     "output_type": "stream",
     "text": [
      "Line_229.jupyter.kts (3:10 - 16) Unresolved reference: ggplot\n",
      "Line_229.jupyter.kts (3:30 - 31) Unresolved reference: x\n",
      "Line_229.jupyter.kts (3:51 - 52) Unresolved reference: y"
     ]
    }
   ],
   "source": [
    "// %use lets-plot\n",
    "// import jetbrains.letsPlot.ggplot\n",
    "\n",
    "// irisData.ggplot(\"Species\" to x, \"Petal.Length\" to y)\n",
    "//     .geomBoxplot()\n",
    "//     .geomPoint(position = PositionJitter(width = 0.1), alpha = 0.3)\n",
    "//     .title(\"Petal Length by Species\")"
   ]
  },
  {
   "cell_type": "code",
   "execution_count": 19,
   "metadata": {
    "ExecuteTime": {
     "end_time": "2020-07-05T17:15+0800",
     "start_time": "2020-07-05T17:15+0800"
    }
   },
   "outputs": [
    {
     "data": {
      "text/html": [
       "   <div id=\"cjltAC\"></div>\n",
       "   <script type=\"text/javascript\" data-lets-plot-script=\"library\">\n",
       "       if(!window.letsPlotCallQueue) {\n",
       "           window.letsPlotCallQueue = [];\n",
       "       }; \n",
       "       window.letsPlotCall = function(f) {\n",
       "           window.letsPlotCallQueue.push(f);\n",
       "       };\n",
       "       (function() {\n",
       "           var script = document.createElement(\"script\");\n",
       "           script.type = \"text/javascript\";\n",
       "           script.src = \"https://dl.bintray.com/jetbrains/lets-plot/lets-plot-1.4.2.min.js\";\n",
       "           script.onload = function() {\n",
       "               window.letsPlotCall = function(f) {f();};\n",
       "               window.letsPlotCallQueue.forEach(function(f) {f();});\n",
       "               window.letsPlotCallQueue = [];\n",
       "               \n",
       "               \n",
       "           };\n",
       "           script.onerror = function(event) {\n",
       "               window.letsPlotCall = function(f) {};\n",
       "               window.letsPlotCallQueue = [];\n",
       "               var div = document.createElement(\"div\");\n",
       "               div.style.color = 'darkred';\n",
       "               div.textContent = 'Error loading Lets-Plot JS';\n",
       "               document.getElementById(\"cjltAC\").appendChild(div);\n",
       "           };\n",
       "           var e = document.getElementById(\"cjltAC\");\n",
       "           e.appendChild(script);\n",
       "       })();\n",
       "   </script>"
      ]
     },
     "metadata": {},
     "output_type": "display_data"
    },
    {
     "data": {
      "text/html": [
       "   <div id=\"JIJ4RN\"></div>\n",
       "   <script type=\"text/javascript\" data-lets-plot-script=\"plot\">\n",
       "       (function() {\n",
       "           var plotSpec={\n",
       "'mapping':{\n",
       "'color':\"l\",\n",
       "'x':\"l\",\n",
       "'y':\"d\"\n",
       "},\n",
       "'data':{\n",
       "'d':[-1.3996813000023522,-1.170996062619017,-0.8226495029651122,0.9488828053204286,0.8575428682019152,-0.3061988415015074,0.5683072755958528,-0.522521832921923,0.7093331393842994,2.1243994319276287,-0.9451083077480554,0.7410361156084871,0.277779179443224,-1.5918940747693826,-0.28599470660221277,-1.3173867380985047,1.1548049624076147,-0.621490503614065,-0.5931714353922964,-1.5004264823141298,-1.5046022495086249,-0.8069595869131836,2.5901051442820626,0.4431219969195984,1.225162937484045,-0.36941331920910375,0.3397575285681631,-0.4658935980029307,0.5587882981132704,-0.7896219192947435,2.113117667402501,-0.8889464604950784,-0.3330202136535984,-2.0377903358897247,0.3727663495562239,0.7142742695404887,0.6337264284936125,0.3649983884104518,1.054528486998156,0.3977460102802408,-1.4477643993023936,0.4091157464372626,0.3023971994079539,-0.1528444217656904,1.0994901124939278,-0.0726950484950776,-1.0748862763116214,-1.6586935697031375,-0.3038048714169201,-0.8015518379584057,-1.9610485777664568,0.19096295110563208,-0.44162237519030634,1.6000009136359632,1.564200196325246,0.566116274610034,1.041139036567557,-3.096322493273051,-0.5382804058610164,1.1345235316305504,1.7082138584168831,-0.03762955621365845,1.4903650288628498,1.6595955687346742,0.4386908181287397,1.2149415796786254,0.3932333669322822,-0.7902848631397457,0.7565937988054425,1.2865719603398837,-0.2800282332926949,1.2860895111208375,-0.29921683995090753,0.09684846122092912,0.23859607631555257,-0.7846096803935102,-0.416654739146219,0.7661297805647831,-1.020579402139558,1.7010816210792967,1.5125297851602757,-0.11681438868133881,0.19180037691417348,0.5602747171964043,0.776266310408909,0.200987730613658,0.8373797597219177,1.5602843983836365,0.029156827442383237,-0.4684405551111335,-1.106552380288475,0.5121488702773856,0.48575178435280786,-0.47677212760290516,0.386192411497436,-1.06390902872851,0.0769789060859278,-1.0366436613595533,0.16239823390094185,1.223207419440647,-0.12709891060634998,0.09467534500533088,2.382778876450643,-0.8590779550167518,1.0462719301903767,0.04815913915327255,-0.7424506338289603,-0.6298917324902462,-0.5446444866182693,-1.7057084098296376,-0.3346614435837162,0.7771117980993155,0.07382849649647424,1.535124855736359,1.6466133369661664,0.7977492731283105,-2.3945031460052175,0.8112805631755354,-0.18763246729987845,0.18677762986593568,-0.16508821075147304,0.41749588726010517,2.419318938341028,-0.691337111509569,0.02713433922669987,-0.573900000594332,-0.5317204950588607,-0.17019399842130706,0.9892874879778925,0.5675623065457196,0.20689178103599953,-0.3285397903114957,0.6637052231560927,0.04983388836101967,-1.0168818677865112,1.726674503537611,-0.3663379866054023,0.9875361574382115,-0.7780397687986584,0.4822066865007386,-0.5622185054367942,-0.25806133487744887,-0.8766583252117396,-0.015750367827290924,-1.867009528998426,2.196510602435708,0.5106003886985577,0.326369088018644,-1.2491355097478205,0.483600534528912,-2.6077120459697083,-2.2851626705355916,-0.7660989446873894,0.732259065447284,1.2819032801922237,-0.3438854961960739,-0.35774910152229206,-0.4837674857953793,-0.7477117862616132,-1.2030981431081482,-1.5044114015976713,1.5388141815102068,-0.7096377155648392,0.9256160077115281,-0.4109896885926486,-1.2944103343709157,0.6585336790798254,0.8043060256865312,-1.2818423147888105,-0.14355258976503724,0.7268951512580707,0.2779304895755802,1.753679635979654,-0.9592291767417714,0.47448426545408107,-0.4069765467613892,0.3487356712352499,-0.4746107611130082,-1.480303132471884,-2.0083930069594014,1.138032038119715,2.1419927571664883E-4,0.7467173327431278,0.09125267176186401,-0.41162463031729685,-0.49442041327714786,1.4659164880268956,-1.1806977126220446,-0.6153150189161615,0.2164877036926448,-2.2177910821407676,-2.041517006755465,-0.24796094284287934,-0.209906962223104,2.5083409594460253,0.1587047186473927,-1.6206566748480187,-1.9920492438392925,0.8555058253137116,-0.8005083824353587,1.9288753108715881,0.6140392329795056,1.1648183521052564,2.2865987062104622,2.2490736172635053,1.3802182775709162,-0.7527593417790759,0.3717385218283449,0.46954049252326213,0.8004702417719926,3.5365468052662536,0.9354744748909214,0.7651668739749212,0.4623487208511188,1.7348237082860125,1.1019872698919724,0.8636608022153018,-0.8651441868729701,0.34439139703296895,1.6115661125353429,2.4820001960785083,2.5047829719058647,2.4875001320440964,2.2277085630691627,1.644489266343268,1.8272000222606963,0.29179329980572866,0.569801743674824,2.2293869257464256,1.518465397443177,0.17188663259674808,1.0685562137123144,0.21624427696467674,0.7137729439615679,1.4990942025993639,1.5419244871238136,1.4420277182343662,0.5980500703626488,2.582449966033608,1.8865528739852153,2.056787735181558,1.0053607590985634,0.6116186611883156,1.2663759051046464,-0.15449090778199515,1.5922037531075746,1.3002196567256146,1.2509510186111767,1.386359798786887,-0.39282160360054386,0.882382365451346,2.4322888357414065,1.1894252327407329,1.8144277994695979,1.663362806677625,1.0323284852509325,-0.3210652027681282,0.7240487760995777,1.081862948976172,0.5302843963021606,2.2419171709945838,0.5325034856430517,3.6424343667006496,1.261551598622398,-0.03228235532013435,2.416714874912569,1.8884483879346328,1.7142164277252814,0.4346605922584943,0.32029143218690115,0.6538397826742217,2.1975958842228893,1.2608522086182208,2.0057003139513903,1.6888404650574405,0.8823556150876599,0.3753138551406835,1.344737481832192,2.3822636483699533,0.7577711147663546,0.237081336929447,0.028987900009543655,0.5645095615906933,0.21670353092159722,2.5973126356368255,0.36553902033266705,1.6954434574445036,0.9740405430337608,-0.475611780099795,1.5104797509840149,1.3937945477037081,2.0034745953752635,0.6945588810769951,2.4740526710356874,-0.3522733886627567,0.2922144622792904,1.0182376486375904,0.6028545194659839,1.7993109939736163,2.528510191414428],\n",
       "'l':[\"A\",\"A\",\"A\",\"A\",\"A\",\"A\",\"A\",\"A\",\"A\",\"A\",\"A\",\"A\",\"A\",\"A\",\"A\",\"A\",\"A\",\"A\",\"A\",\"A\",\"A\",\"A\",\"A\",\"A\",\"A\",\"A\",\"A\",\"A\",\"A\",\"A\",\"A\",\"A\",\"A\",\"A\",\"A\",\"A\",\"A\",\"A\",\"A\",\"A\",\"A\",\"A\",\"A\",\"A\",\"A\",\"A\",\"A\",\"A\",\"A\",\"A\",\"A\",\"A\",\"A\",\"A\",\"A\",\"A\",\"A\",\"A\",\"A\",\"A\",\"A\",\"A\",\"A\",\"A\",\"A\",\"A\",\"A\",\"A\",\"A\",\"A\",\"A\",\"A\",\"A\",\"A\",\"A\",\"A\",\"A\",\"A\",\"A\",\"A\",\"A\",\"A\",\"A\",\"A\",\"A\",\"A\",\"A\",\"A\",\"A\",\"A\",\"A\",\"A\",\"A\",\"A\",\"A\",\"A\",\"A\",\"A\",\"A\",\"A\",\"B\",\"B\",\"B\",\"B\",\"B\",\"B\",\"B\",\"B\",\"B\",\"B\",\"B\",\"B\",\"B\",\"B\",\"B\",\"B\",\"B\",\"B\",\"B\",\"B\",\"B\",\"B\",\"B\",\"B\",\"B\",\"B\",\"B\",\"B\",\"B\",\"B\",\"B\",\"B\",\"B\",\"B\",\"B\",\"B\",\"B\",\"B\",\"B\",\"B\",\"B\",\"B\",\"B\",\"B\",\"B\",\"B\",\"B\",\"B\",\"B\",\"B\",\"B\",\"B\",\"B\",\"B\",\"B\",\"B\",\"B\",\"B\",\"B\",\"B\",\"B\",\"B\",\"B\",\"B\",\"B\",\"B\",\"B\",\"B\",\"B\",\"B\",\"B\",\"B\",\"B\",\"B\",\"B\",\"B\",\"B\",\"B\",\"B\",\"B\",\"B\",\"B\",\"B\",\"B\",\"B\",\"B\",\"B\",\"B\",\"B\",\"B\",\"B\",\"B\",\"B\",\"B\",\"B\",\"B\",\"B\",\"B\",\"B\",\"B\",\"C\",\"C\",\"C\",\"C\",\"C\",\"C\",\"C\",\"C\",\"C\",\"C\",\"C\",\"C\",\"C\",\"C\",\"C\",\"C\",\"C\",\"C\",\"C\",\"C\",\"C\",\"C\",\"C\",\"C\",\"C\",\"C\",\"C\",\"C\",\"C\",\"C\",\"C\",\"C\",\"C\",\"C\",\"C\",\"C\",\"C\",\"C\",\"C\",\"C\",\"C\",\"C\",\"C\",\"C\",\"C\",\"C\",\"C\",\"C\",\"C\",\"C\",\"C\",\"C\",\"C\",\"C\",\"C\",\"C\",\"C\",\"C\",\"C\",\"C\",\"C\",\"C\",\"C\",\"C\",\"C\",\"C\",\"C\",\"C\",\"C\",\"C\",\"C\",\"C\",\"C\",\"C\",\"C\",\"C\",\"C\",\"C\",\"C\",\"C\",\"C\",\"C\",\"C\",\"C\",\"C\",\"C\",\"C\",\"C\",\"C\",\"C\",\"C\",\"C\",\"C\",\"C\",\"C\",\"C\",\"C\",\"C\",\"C\",\"C\"]\n",
       "},\n",
       "'kind':\"plot\",\n",
       "'scales':[],\n",
       "'layers':[{\n",
       "'stat':\"identity\",\n",
       "'mapping':{\n",
       "},\n",
       "'size':3.0,\n",
       "'data':{\n",
       "},\n",
       "'width':0.2,\n",
       "'position':{\n",
       "'kind':\"pos\",\n",
       "'name':\"jitter\",\n",
       "'width':0.2\n",
       "},\n",
       "'geom':\"point\"\n",
       "}]\n",
       "};\n",
       "           var plotContainer = document.getElementById(\"JIJ4RN\");\n",
       "           window.letsPlotCall(function() {{\n",
       "               LetsPlot.buildPlotFromProcessedSpecs(plotSpec, -1, -1, plotContainer);\n",
       "           }});\n",
       "       })();    \n",
       "   </script>"
      ]
     },
     "metadata": {},
     "output_type": "display_data"
    }
   ],
   "source": [
    "%use lets-plot\n",
    "import jetbrains.letsPlot.ggplot\n",
    "val rand = java.util.Random()\n",
    "val data = mapOf<String, Any>(\n",
    "    \"d\" to List(100) { rand.nextGaussian() } + List(100) { rand.nextGaussian() + .0 } + List(100) { rand.nextGaussian() + 1.0 },\n",
    "    \"l\" to List(100) { \"A\" } + List(100) { \"B\" } + List(100) { \"C\" }\n",
    ")\n",
    "\n",
    "val p = ggplot(data) { x = \"l\"; y = \"d\"; color = \"l\" } +\n",
    "        geom_jitter(size = 3.0, width = .2)\n",
    "p.show()"
   ]
  },
  {
   "cell_type": "code",
   "execution_count": null,
   "metadata": {},
   "outputs": [],
   "source": []
  }
 ],
 "metadata": {
  "hide_input": false,
  "kernelspec": {
   "display_name": "Kotlin",
   "language": "kotlin",
   "name": "kotlin"
  },
  "language_info": {
   "codemirror_mode": "text/x-kotlin",
   "file_extension": ".kt",
   "mimetype": "text/x-kotlin",
   "name": "kotlin",
   "pygments_lexer": "kotlin",
   "version": "1.4.20-dev-1121"
  },
  "toc": {
   "base_numbering": 1,
   "nav_menu": {
    "height": "133px",
    "width": "160px"
   },
   "number_sections": true,
   "sideBar": true,
   "skip_h1_title": false,
   "title_cell": "Table of Contents",
   "title_sidebar": "Contents",
   "toc_cell": false,
   "toc_position": {},
   "toc_section_display": true,
   "toc_window_display": false
  },
  "varInspector": {
   "cols": {
    "lenName": 16,
    "lenType": 16,
    "lenVar": 40
   },
   "kernels_config": {
    "python": {
     "delete_cmd_postfix": "",
     "delete_cmd_prefix": "del ",
     "library": "var_list.py",
     "varRefreshCmd": "print(var_dic_list())"
    },
    "r": {
     "delete_cmd_postfix": ") ",
     "delete_cmd_prefix": "rm(",
     "library": "var_list.r",
     "varRefreshCmd": "cat(var_dic_list()) "
    }
   },
   "types_to_exclude": [
    "module",
    "function",
    "builtin_function_or_method",
    "instance",
    "_Feature"
   ],
   "window_display": false
  }
 },
 "nbformat": 4,
 "nbformat_minor": 4
}
