%use numpy(0.1.4)

val a = array(arrayOf(1L, 2L, 3L))
val b = array<Double>(listOf(listOf(1.5f, 2f, 3f), listOf(4f, 5f, 6f)))
val c = array<Double>(
    listOf(
        listOf(listOf(1.5f, 2f, 3f), listOf(4f, 5f, 6f)),
        listOf(listOf(3f, 2f, 1f), listOf(4f, 5f, 6f))
    )
)
