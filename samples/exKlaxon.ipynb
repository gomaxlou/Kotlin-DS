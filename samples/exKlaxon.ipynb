{
 "cells": [
  {
   "cell_type": "markdown",
   "metadata": {},
   "source": [
    "# include library"
   ]
  },
  {
   "cell_type": "markdown",
   "metadata": {},
   "source": [
    "* [https://github.com/cbeust/klaxon](https://github.com/cbeust/klaxon)\n",
    "* [https://www.baeldung.com/kotlin-json-klaxson](https://www.baeldung.com/kotlin-json-klaxson)\n",
    "* [https://www.kotlinresources.com/library/klaxon/](https://www.kotlinresources.com/library/klaxon/)\n",
    "* "
   ]
  },
  {
   "cell_type": "code",
   "execution_count": 2,
   "metadata": {
    "ExecuteTime": {
     "end_time": "2020-08-27T19:34+0800",
     "start_time": "2020-08-27T19:34+0800"
    }
   },
   "outputs": [],
   "source": [
    "%use klaxon"
   ]
  },
  {
   "cell_type": "code",
   "execution_count": 2,
   "metadata": {
    "ExecuteTime": {
     "end_time": "2020-08-26T06:42+0800",
     "start_time": "2020-08-26T06:42+0800"
    }
   },
   "outputs": [
    {
     "data": {
      "text/plain": [
       "com.beust.klaxon.Klaxon@2fb79723"
      ]
     },
     "execution_count": 2,
     "metadata": {},
     "output_type": "execute_result"
    }
   ],
   "source": [
    "Klaxon()"
   ]
  },
  {
   "cell_type": "markdown",
   "metadata": {},
   "source": [
    "# General Parse"
   ]
  },
  {
   "cell_type": "code",
   "execution_count": 3,
   "metadata": {
    "ExecuteTime": {
     "end_time": "2020-08-26T06:42+0800",
     "start_time": "2020-08-26T06:42+0800"
    }
   },
   "outputs": [
    {
     "name": "stdout",
     "output_type": "stream",
     "text": [
      "John Smith, 23\r\n"
     ]
    }
   ],
   "source": [
    "class Person(val name: String, var age: Int = 23)\n",
    "\n",
    "val result = Klaxon()\n",
    "    .parse<Person>(\n",
    "        \"\"\"\n",
    "{\n",
    "  \"name\": \"John Smith\",\n",
    "}\n",
    "\"\"\"\n",
    "    )\n",
    "\n",
    "println(\"${result?.name}, ${result?.age}\")\n",
    "assert(result?.name == \"John Smith\")\n",
    "assert(result?.age == 23)"
   ]
  },
  {
   "cell_type": "markdown",
   "metadata": {},
   "source": [
    "# Json annotation"
   ]
  },
  {
   "cell_type": "markdown",
   "metadata": {},
   "source": [
    "## mapping between Json document and Kotlin object via use the name attribute"
   ]
  },
  {
   "cell_type": "code",
   "execution_count": 4,
   "metadata": {
    "ExecuteTime": {
     "end_time": "2020-08-26T06:43+0800",
     "start_time": "2020-08-26T06:43+0800"
    }
   },
   "outputs": [
    {
     "name": "stdout",
     "output_type": "stream",
     "text": [
      "John Smith, 23\r\n"
     ]
    }
   ],
   "source": [
    "data class Person(\n",
    "    @Json(name = \"the_name\")\n",
    "    val name: String,\n",
    "    val age: Int\n",
    ")\n",
    "\n",
    "val result = Klaxon()\n",
    "    .parse<Person>(\n",
    "        \"\"\"\n",
    "{\n",
    "  \"the_name\": \"John Smith\",\n",
    "  \"age\": 23\n",
    "}\n",
    "\"\"\"\n",
    "    )\n",
    "println(\"${result?.name}, ${result?.age}\")\n",
    "assert(result?.name == \"John Smith\")\n",
    "assert(result?.age == 23)"
   ]
  },
  {
   "cell_type": "markdown",
   "metadata": {},
   "source": [
    "## ignore attribute in parsing process"
   ]
  },
  {
   "cell_type": "code",
   "execution_count": 5,
   "metadata": {
    "ExecuteTime": {
     "end_time": "2020-08-26T06:43+0800",
     "start_time": "2020-08-26T06:43+0800"
    }
   },
   "outputs": [
    {
     "name": "stdout",
     "output_type": "stream",
     "text": [
      "John Smith, 23\r\n",
      "AAA, 50\r\n"
     ]
    }
   ],
   "source": [
    "class Ignored(val name:String, val age:Int){\n",
    "    @Json(ignored = true)\n",
    "    val actualName: String = \"AAA\"\n",
    "    @Json(ignored = false)\n",
    "    val actualAge : Int = 10\n",
    "}\n",
    "\n",
    "val result2 = Klaxon()\n",
    "    .parse<Ignored>(\n",
    "        \"\"\"{\n",
    "            \"name\":\"John Smith\",\n",
    "            \"age\":23,\n",
    "            \"actualName\":\"BBB\",\n",
    "            \"actualAge\": 50\n",
    "            }\n",
    "        \"\"\"\n",
    "    )\n",
    "\n",
    "println(\"${result2?.name}, ${result2?.age}\")\n",
    "// actualName的值在parsing後沒有被置換掉，actualAge的值被置換了\n",
    "println(\"${result2?.actualName}, ${result2?.actualAge}\")\n"
   ]
  },
  {
   "cell_type": "markdown",
   "metadata": {},
   "source": [
    "## display order"
   ]
  },
  {
   "cell_type": "code",
   "execution_count": 6,
   "metadata": {
    "ExecuteTime": {
     "end_time": "2020-08-26T06:43+0800",
     "start_time": "2020-08-26T06:43+0800"
    }
   },
   "outputs": [
    {
     "name": "stdout",
     "output_type": "stream",
     "text": [
      "{\"id\" : \"A123\", \"name\" : \"Kotlin\"}\r\n",
      "{\"name\" : \"Kotlin\", \"id\" : \"A123\"}\r\n"
     ]
    }
   ],
   "source": [
    "class Data(\n",
    "    @Json(index = 1) val id: String,\n",
    "    @Json(index = 2) val name: String\n",
    ")\n",
    "println(Klaxon().toJsonString(Data(\"A123\", \"Kotlin\")))\n",
    "\n",
    "class Data2(\n",
    "    @Json(index = 2) val id: String,\n",
    "    @Json(index = 1) val name: String\n",
    ")\n",
    "println(Klaxon().toJsonString(Data2(\"A123\", \"Kotlin\")))"
   ]
  },
  {
   "cell_type": "markdown",
   "metadata": {},
   "source": [
    "# Streaming API\n",
    "* allows our code to process JSON values while it is still reading"
   ]
  },
  {
   "cell_type": "code",
   "execution_count": 6,
   "metadata": {
    "ExecuteTime": {
     "end_time": "2020-08-27T19:35+0800",
     "start_time": "2020-08-27T19:35+0800"
    }
   },
   "outputs": [
    {
     "name": "stdout",
     "output_type": "stream",
     "text": [
      "name:John Smith\r\n",
      "age:20\r\n",
      "name:HDD, capacity:512\r\n",
      "name:RAM, capacity:16\r\n"
     ]
    }
   ],
   "source": [
    "import java.io.StringReader\n",
    "\n",
    "val jsonArray = \"\"\"\n",
    "    [\n",
    "        { \"name\" : \"HDD\", \"capacityInGb\" : 512 },\n",
    "        { \"name\" : \"RAM\", \"capacityInGb\" : 16 }\n",
    "    ]\"\"\"\n",
    "\n",
    "val jsonObject = \"\"\"\n",
    "    {\n",
    "      \"name\": \"John Smith\",\n",
    "      \"age\": 20\n",
    "    }        \n",
    "\"\"\".trimIndent()\n",
    "\n",
    "data class ProductData(val name: String, val capacityInGb: Int)\n",
    "//    data class Person(val name: String, val age: Int)\n",
    "\n",
    "val expectedArray = arrayListOf(\n",
    "    ProductData(\"HDD\", 512),\n",
    "    ProductData(\"RAM\", 16)\n",
    ")\n",
    "val klaxon = Klaxon()\n",
    "val productArray = arrayListOf<ProductData>()\n",
    "JsonReader(StringReader(jsonArray)).use { reader ->\n",
    "    reader.beginArray {\n",
    "        while (reader.hasNext()) {\n",
    "            val product = klaxon.parse<ProductData>(reader)\n",
    "            productArray.add(product!!)\n",
    "        }\n",
    "    }\n",
    "}\n",
    "\n",
    "JsonReader(StringReader(jsonObject)).use { reader ->\n",
    "    reader.beginObject {\n",
    "        while (reader.hasNext()) {\n",
    "            when(reader.nextName()){\n",
    "                \"name\" -> println(\"name:${reader.nextString()}\")\n",
    "                \"age\" -> println(\"age:${reader.nextInt()}\")\n",
    "            }\n",
    "        }\n",
    "    }\n",
    "}\n",
    "\n",
    "//    assertTrue(productArray.size == expectedArray.size)\n",
    "// assertThat(productArray).hasSize(2).isEqualTo(expectedArray)\n",
    "productArray.forEach {\n",
    "    println(\"name:${it.name}, capacity:${it.capacityInGb}\")\n",
    "}"
   ]
  },
  {
   "cell_type": "markdown",
   "metadata": {
    "ExecuteTime": {
     "end_time": "2020-08-27T19:38+0800",
     "start_time": "2020-08-27T11:38:33.817Z"
    }
   },
   "source": [
    "# define path matchers to locate specific entries in our documents"
   ]
  },
  {
   "cell_type": "code",
   "execution_count": 18,
   "metadata": {
    "ExecuteTime": {
     "end_time": "2020-08-27T19:42+0800",
     "start_time": "2020-08-27T19:42+0800"
    }
   },
   "outputs": [
    {
     "name": "stdout",
     "output_type": "stream",
     "text": [
      "true\r\n",
      "true\r\n"
     ]
    }
   ],
   "source": [
    "import java.util.regex.Pattern\n",
    "val pathMatcher = object : PathMatcher {\n",
    "    override fun pathMatches(path: String) = Pattern.matches(\".*inventory.*disks.*type.*\", path)\n",
    "\n",
    "    override fun onMatch(path: String, value: Any) {\n",
    "//         println(path)\n",
    "        when (path) {\n",
    "            \"$.inventory.disks[0].type\"\n",
    "            -> println(value == \"HDD\")\n",
    "            \"$.inventory.disks[1].type\"\n",
    "            -> println(value == \"SDD\")\n",
    "        }\n",
    "    }\n",
    "}\n",
    "\n",
    "val jsonString = \"\"\"\n",
    "    {\n",
    "        \"inventory\" : {\n",
    "            \"disks\" : [\n",
    "                {\n",
    "                    \"type\" : \"HDD\",\n",
    "                    \"sizeInGb\" : 1000\n",
    "                },\n",
    "                {\n",
    "                    \"type\" : \"SDD\",\n",
    "                    \"sizeInGb\" : 512\n",
    "                }\n",
    "            ]\n",
    "        }\n",
    "    }\n",
    "\n",
    "\"\"\"\n",
    "val result =\n",
    "    Klaxon().pathMatcher(pathMatcher)\n",
    "        .parseJsonObject(StringReader(jsonString))\n"
   ]
  },
  {
   "cell_type": "markdown",
   "metadata": {},
   "source": [
    "# process JSON documents like a Map or a List\n",
    "## JsonObject like Map"
   ]
  },
  {
   "cell_type": "code",
   "execution_count": 12,
   "metadata": {
    "ExecuteTime": {
     "end_time": "2020-08-27T19:40+0800",
     "start_time": "2020-08-27T19:40+0800"
    }
   },
   "outputs": [
    {
     "name": "stdout",
     "output_type": "stream",
     "text": [
      "name:HDD\r\n",
      "capacityInGb:512\r\n",
      "sizeInInch:2.5\r\n"
     ]
    }
   ],
   "source": [
    "val jsonString = StringBuilder(\n",
    "    \"\"\"\n",
    "        {\n",
    "            \"name\" : \"HDD\",\n",
    "            \"capacityInGb\" : 512,\n",
    "            \"sizeInInch\" : 2.5\n",
    "        }\n",
    "    \"\"\"\n",
    ")\n",
    "val parser = Parser()\n",
    "val json = parser.parse(jsonString) as JsonObject\n",
    "\n",
    "json.forEach { k, v ->\n",
    "    println(\"$k:$v\")\n",
    "}"
   ]
  },
  {
   "cell_type": "markdown",
   "metadata": {},
   "source": [
    "## JsonArray like List"
   ]
  },
  {
   "cell_type": "code",
   "execution_count": 10,
   "metadata": {
    "ExecuteTime": {
     "end_time": "2020-08-27T19:40+0800",
     "start_time": "2020-08-27T19:40+0800"
    }
   },
   "outputs": [
    {
     "name": "stdout",
     "output_type": "stream",
     "text": [
      "name: SDD\r\n",
      "madeIn: Taiwan\r\n",
      "warrantyInYears: 5\r\n"
     ]
    }
   ],
   "source": [
    "val jsonString = StringBuilder(\n",
    "    \"\"\"\n",
    "[\n",
    "    { \"name\" : \"SDD\" },\n",
    "    { \"madeIn\" : \"Taiwan\" },\n",
    "    { \"warrantyInYears\" : 5 }\n",
    "]\n",
    "\"\"\"\n",
    ")\n",
    "val parser = Parser()\n",
    "val json = parser.parse(jsonString) as JsonArray<JsonObject>\n",
    "\n",
    "json.forEach {\n",
    "    it.forEach { k, v ->\n",
    "        println(\"$k: $v\")\n",
    "    }\n",
    "}"
   ]
  },
  {
   "cell_type": "code",
   "execution_count": null,
   "metadata": {},
   "outputs": [],
   "source": []
  }
 ],
 "metadata": {
  "hide_input": false,
  "kernelspec": {
   "display_name": "Kotlin",
   "language": "kotlin",
   "name": "kotlin"
  },
  "language_info": {
   "codemirror_mode": "text/x-kotlin",
   "file_extension": ".kt",
   "mimetype": "text/x-kotlin",
   "name": "kotlin",
   "pygments_lexer": "kotlin",
   "version": "1.4.20-dev-1121"
  },
  "toc": {
   "base_numbering": 1,
   "nav_menu": {
    "height": "133px",
    "width": "160px"
   },
   "number_sections": true,
   "sideBar": true,
   "skip_h1_title": false,
   "title_cell": "Table of Contents",
   "title_sidebar": "Contents",
   "toc_cell": false,
   "toc_position": {},
   "toc_section_display": true,
   "toc_window_display": false
  },
  "varInspector": {
   "cols": {
    "lenName": 16,
    "lenType": 16,
    "lenVar": 40
   },
   "kernels_config": {
    "python": {
     "delete_cmd_postfix": "",
     "delete_cmd_prefix": "del ",
     "library": "var_list.py",
     "varRefreshCmd": "print(var_dic_list())"
    },
    "r": {
     "delete_cmd_postfix": ") ",
     "delete_cmd_prefix": "rm(",
     "library": "var_list.r",
     "varRefreshCmd": "cat(var_dic_list()) "
    }
   },
   "types_to_exclude": [
    "module",
    "function",
    "builtin_function_or_method",
    "instance",
    "_Feature"
   ],
   "window_display": false
  }
 },
 "nbformat": 4,
 "nbformat_minor": 4
}
