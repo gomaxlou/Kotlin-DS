{
 "cells": [
  {
   "cell_type": "markdown",
   "metadata": {},
   "source": [
    "* [data-science-overview](https://kotlinlang.org/docs/reference/data-science-overview.html)\n",
    "* [擁抱科學](https://www.kotliner.cn/2020/01/making-kotlin-ready-for-data-science/)\n",
    "* [data-science-resource](https://github.com/thomasnield/kotlin-data-science-resources)\n",
    "* [kotlin-jupyter](https://github.com/Kotlin/kotlin-jupyter)\n",
    "* [KotlinConf 2019 觀視指南 – 數據科學篇](https://blog.jetbrains.com/cn/2020/03/kotlinconf-2019-ds/)"
   ]
  },
  {
   "cell_type": "markdown",
   "metadata": {},
   "source": [
    "# 初體驗"
   ]
  },
  {
   "cell_type": "code",
   "execution_count": 60,
   "metadata": {
    "ExecuteTime": {
     "end_time": "2020-07-05T10:04+0800",
     "start_time": "2020-07-05T10:04+0800"
    }
   },
   "outputs": [
    {
     "data": {
      "text/plain": [
       "2"
      ]
     },
     "execution_count": 60,
     "metadata": {},
     "output_type": "execute_result"
    }
   ],
   "source": [
    "1+1"
   ]
  },
  {
   "cell_type": "code",
   "execution_count": 1,
   "metadata": {
    "ExecuteTime": {
     "end_time": "2020-07-05T10:07+0800",
     "start_time": "2020-07-05T10:07+0800"
    }
   },
   "outputs": [
    {
     "name": "stdout",
     "output_type": "stream",
     "text": [
      "3"
     ]
    }
   ],
   "source": [
    "var c = 1\n",
    "var d = 2\n",
    "print(c + d)"
   ]
  },
  {
   "cell_type": "code",
   "execution_count": 2,
   "metadata": {
    "ExecuteTime": {
     "end_time": "2020-07-05T10:07+0800",
     "start_time": "2020-07-05T02:07:59.022Z"
    }
   },
   "outputs": [
    {
     "name": "stderr",
     "output_type": "stream",
     "text": [
      "Unresolved reference: a\n",
      "Unresolved reference: b\n",
      "Unresolved reference: a\n",
      "Unresolved reference: b"
     ]
    }
   ],
   "source": [
    "// 變數需要宣告\n",
    "a = 1\n",
    "b = 2\n",
    "a + b"
   ]
  },
  {
   "cell_type": "code",
   "execution_count": 3,
   "metadata": {
    "ExecuteTime": {
     "end_time": "2020-07-05T10:08+0800",
     "start_time": "2020-07-05T10:08+0800"
    }
   },
   "outputs": [
    {
     "data": {
      "text/plain": [
       "Hello kotlin"
      ]
     },
     "execution_count": 3,
     "metadata": {},
     "output_type": "execute_result"
    }
   ],
   "source": [
    "var str1 = \"Hello kotlin\"\n",
    "str1"
   ]
  },
  {
   "cell_type": "code",
   "execution_count": 6,
   "metadata": {
    "ExecuteTime": {
     "end_time": "2020-07-05T10:08+0800",
     "start_time": "2020-07-05T10:08+0800"
    }
   },
   "outputs": [
    {
     "data": {
      "text/plain": [
       "4"
      ]
     },
     "execution_count": 6,
     "metadata": {},
     "output_type": "execute_result"
    }
   ],
   "source": [
    "d * 2"
   ]
  },
  {
   "cell_type": "code",
   "execution_count": 13,
   "metadata": {
    "ExecuteTime": {
     "end_time": "2020-07-05T10:11+0800",
     "start_time": "2020-07-05T10:11+0800"
    }
   },
   "outputs": [
    {
     "name": "stdout",
     "output_type": "stream",
     "text": [
      "[1, 2, 3]\r\n"
     ]
    }
   ],
   "source": [
    "var mylist = listOf(1,2,3)\n",
    "println(mylist)"
   ]
  },
  {
   "cell_type": "code",
   "execution_count": 1,
   "metadata": {
    "ExecuteTime": {
     "end_time": "2020-07-05T10:55+0800",
     "start_time": "2020-07-05T10:55+0800"
    }
   },
   "outputs": [
    {
     "data": {
      "text/plain": [
       "Commands:\n",
       "    :help - display help\n",
       "    :classpath - show current classpath\n",
       "\n",
       "Magics\n",
       "    %use - include supported libraries\n",
       "        Usage: %use klaxon(5.0.1), lets-plot\n",
       "    %trackClasspath - log current classpath changes\n",
       "    %output - setup output settings\n",
       "        Usage: %output --max-cell-size=1000 --no-stdout --max-time=100 --max-buffer=400\n",
       "\n",
       "Supported libraries:\n",
       "    dataframe https://github.com/nikitinas/krangl-typed\n",
       "    deeplearning4j-cuda https://github.com/eclipse/deeplearning4j\n",
       "    deeplearning4j https://github.com/eclipse/deeplearning4j\n",
       "    default \n",
       "    exposed https://github.com/JetBrains/Exposed\n",
       "    fuel https://github.com/kittinunf/fuel\n",
       "    gral https://github.com/eseifert/gral\n",
       "    khttp https://github.com/jkcclemens/khttp\n",
       "    klaxon https://github.com/cbeust/klaxon\n",
       "    kmath https://github.com/mipt-npm/kmath\n",
       "    koma https://koma.kyonifer.com/index.html\n",
       "    kotlin-statistics https://github.com/thomasnield/kotlin-statistics\n",
       "    krangl https://github.com/holgerbrandl/krangl\n",
       "    kravis https://github.com/holgerbrandl/kravis\n",
       "    lets-plot-dataframe https://github.com/JetBrains/lets-plot-kotlin\n",
       "    lets-plot https://github.com/JetBrains/lets-plot-kotlin\n",
       "    mysql https://github.com/mysql/mysql-connector-j\n",
       "    numpy https://github.com/Kotlin/kotlin-numpy\n",
       "    smile https://github.com/haifengl/smile\n",
       "    spark "
      ]
     },
     "execution_count": 1,
     "metadata": {},
     "output_type": "execute_result"
    }
   ],
   "source": [
    ":help"
   ]
  },
  {
   "cell_type": "code",
   "execution_count": 5,
   "metadata": {
    "ExecuteTime": {
     "end_time": "2020-07-20T10:41+0800",
     "start_time": "2020-07-20T10:41+0800"
    }
   },
   "outputs": [],
   "source": [
    "%use spark"
   ]
  },
  {
   "cell_type": "code",
   "execution_count": 6,
   "metadata": {
    "ExecuteTime": {
     "end_time": "2020-07-20T10:41+0800",
     "start_time": "2020-07-20T10:41+0800"
    }
   },
   "outputs": [
    {
     "data": {
      "text/plain": [
       "Current classpath (182 paths):\n",
       "C:\\Users\\Me\\.julia\\conda\\3\\Lib\\site-packages\\run_kotlin_kernel\\jars\\jupyter-lib-0.8.1.98.jar\n",
       "C:\\Users\\Me\\.julia\\conda\\3\\Lib\\site-packages\\run_kotlin_kernel\\jars\\kotlin-stdlib-1.4.20-dev-1121.jar\n",
       "C:\\Users\\Me\\.julia\\conda\\3\\Lib\\site-packages\\run_kotlin_kernel\\jars\\kotlin-stdlib-common-1.4.20-dev-1121.jar\n",
       "C:\\Users\\Me\\.julia\\conda\\3\\Lib\\site-packages\\run_kotlin_kernel\\jars\\annotations-13.0.jar\n",
       "C:\\Users\\Me\\.ivy2\\cache\\org.jetbrains\\kotlin-numpy\\jars\\kotlin-numpy-0.1.0.jar\n",
       "C:\\Users\\Me\\.ivy2\\cache\\org.apache.spark\\spark-mllib_2.11\\jars\\spark-mllib_2.11-2.4.4.jar\n",
       "C:\\Users\\Me\\.ivy2\\cache\\org.scala-lang.modules\\scala-parser-combinators_2.11\\bundles\\scala-parser-combinators_2.11-1.1.0.jar\n",
       "C:\\Users\\Me\\.ivy2\\cache\\org.scala-lang\\scala-library\\jars\\scala-library-2.11.12.jar\n",
       "C:\\Users\\Me\\.ivy2\\cache\\org.apache.spark\\spark-core_2.11\\jars\\spark-core_2.11-2.4.4.jar\n",
       "C:\\Users\\Me\\.ivy2\\cache\\org.apache.avro\\avro\\bundles\\avro-1.8.2.jar\n",
       "C:\\Users\\Me\\.ivy2\\cache\\org.codehaus.jackson\\jackson-core-asl\\jars\\jackson-core-asl-1.9.13.jar\n",
       "C:\\Users\\Me\\.ivy2\\cache\\org.codehaus.jackson\\jackson-mapper-asl\\jars\\jackson-mapper-asl-1.9.13.jar\n",
       "C:\\Users\\Me\\.ivy2\\cache\\com.thoughtworks.paranamer\\paranamer\\bundles\\paranamer-2.8.jar\n",
       "C:\\Users\\Me\\.ivy2\\cache\\org.xerial.snappy\\snappy-java\\bundles\\snappy-java-1.1.7.3.jar\n",
       "C:\\Users\\Me\\.ivy2\\cache\\org.apache.commons\\commons-compress\\jars\\commons-compress-1.8.1.jar\n",
       "C:\\Users\\Me\\.ivy2\\cache\\org.tukaani\\xz\\jars\\xz-1.5.jar\n",
       "C:\\Users\\Me\\.ivy2\\cache\\org.slf4j\\slf4j-api\\jars\\slf4j-api-1.7.16.jar\n",
       "C:\\Users\\Me\\.ivy2\\cache\\org.apache.avro\\avro-mapred\\jars\\avro-mapred-1.8.2-hadoop2.jar\n",
       "C:\\Users\\Me\\.ivy2\\cache\\org.apache.avro\\avro-ipc\\bundles\\avro-ipc-1.8.2.jar\n",
       "C:\\Users\\Me\\.ivy2\\cache\\commons-codec\\commons-codec\\jars\\commons-codec-1.10.jar\n",
       "C:\\Users\\Me\\.ivy2\\cache\\com.twitter\\chill_2.11\\jars\\chill_2.11-0.9.3.jar\n",
       "C:\\Users\\Me\\.ivy2\\cache\\com.twitter\\chill-java\\jars\\chill-java-0.9.3.jar\n",
       "C:\\Users\\Me\\.ivy2\\cache\\com.esotericsoftware\\kryo-shaded\\bundles\\kryo-shaded-4.0.2.jar\n",
       "C:\\Users\\Me\\.ivy2\\cache\\com.esotericsoftware\\minlog\\bundles\\minlog-1.3.0.jar\n",
       "C:\\Users\\Me\\.ivy2\\cache\\org.objenesis\\objenesis\\jars\\objenesis-2.5.1.jar\n",
       "C:\\Users\\Me\\.ivy2\\cache\\org.apache.xbean\\xbean-asm6-shaded\\bundles\\xbean-asm6-shaded-4.8.jar\n",
       "C:\\Users\\Me\\.ivy2\\cache\\org.apache.hadoop\\hadoop-client\\jars\\hadoop-client-2.6.5.jar\n",
       "C:\\Users\\Me\\.ivy2\\cache\\org.apache.hadoop\\hadoop-common\\jars\\hadoop-common-2.6.5.jar\n",
       "C:\\Users\\Me\\.ivy2\\cache\\org.apache.hadoop\\hadoop-annotations\\jars\\hadoop-annotations-2.6.5.jar\n",
       "C:\\Users\\Me\\.ivy2\\cache\\com.google.guava\\guava\\bundles\\guava-14.0.1.jar\n",
       "C:\\Users\\Me\\.ivy2\\cache\\commons-cli\\commons-cli\\jars\\commons-cli-1.2.jar\n",
       "C:\\Users\\Me\\.ivy2\\cache\\org.apache.commons\\commons-math3\\jars\\commons-math3-3.4.1.jar\n",
       "C:\\Users\\Me\\.ivy2\\cache\\xmlenc\\xmlenc\\jars\\xmlenc-0.52.jar\n",
       "C:\\Users\\Me\\.ivy2\\cache\\commons-httpclient\\commons-httpclient\\jars\\commons-httpclient-3.1.jar\n",
       "C:\\Users\\Me\\.ivy2\\cache\\commons-io\\commons-io\\jars\\commons-io-2.4.jar\n",
       "C:\\Users\\Me\\.ivy2\\cache\\commons-net\\commons-net\\jars\\commons-net-3.1.jar\n",
       "C:\\Users\\Me\\.ivy2\\cache\\commons-collections\\commons-collections\\jars\\commons-collections-3.2.2.jar\n",
       "C:\\Users\\Me\\.ivy2\\cache\\log4j\\log4j\\bundles\\log4j-1.2.17.jar\n",
       "C:\\Users\\Me\\.ivy2\\cache\\commons-lang\\commons-lang\\jars\\commons-lang-2.6.jar\n",
       "C:\\Users\\Me\\.ivy2\\cache\\commons-configuration\\commons-configuration\\jars\\commons-configuration-1.6.jar\n",
       "C:\\Users\\Me\\.ivy2\\cache\\commons-digester\\commons-digester\\jars\\commons-digester-1.8.jar\n",
       "C:\\Users\\Me\\.ivy2\\cache\\commons-beanutils\\commons-beanutils\\jars\\commons-beanutils-1.9.3.jar\n",
       "C:\\Users\\Me\\.ivy2\\cache\\com.google.protobuf\\protobuf-java\\bundles\\protobuf-java-2.5.0.jar\n",
       "C:\\Users\\Me\\.ivy2\\cache\\com.google.code.gson\\gson\\jars\\gson-2.2.4.jar\n",
       "C:\\Users\\Me\\.ivy2\\cache\\org.apache.hadoop\\hadoop-auth\\jars\\hadoop-auth-2.6.5.jar\n",
       "C:\\Users\\Me\\.ivy2\\cache\\org.apache.httpcomponents\\httpclient\\jars\\httpclient-4.5.6.jar\n",
       "C:\\Users\\Me\\.ivy2\\cache\\org.apache.httpcomponents\\httpcore\\jars\\httpcore-4.4.10.jar\n",
       "C:\\Users\\Me\\.ivy2\\cache\\org.apache.directory.server\\apacheds-kerberos-codec\\bundles\\apacheds-kerberos-codec-2.0.0-M15.jar\n",
       "C:\\Users\\Me\\.ivy2\\cache\\org.apache.directory.server\\apacheds-i18n\\bundles\\apacheds-i18n-2.0.0-M15.jar\n",
       "C:\\Users\\Me\\.ivy2\\cache\\org.apache.directory.api\\api-asn1-api\\bundles\\api-asn1-api-1.0.0-M20.jar\n",
       "C:\\Users\\Me\\.ivy2\\cache\\org.apache.directory.api\\api-util\\bundles\\api-util-1.0.0-M20.jar\n",
       "C:\\Users\\Me\\.ivy2\\cache\\org.apache.curator\\curator-framework\\bundles\\curator-framework-2.6.0.jar\n",
       "C:\\Users\\Me\\.ivy2\\cache\\org.apache.curator\\curator-client\\bundles\\curator-client-2.6.0.jar\n",
       "C:\\Users\\Me\\.ivy2\\cache\\org.apache.zookeeper\\zookeeper\\jars\\zookeeper-3.4.6.jar\n",
       "C:\\Users\\Me\\.ivy2\\cache\\org.slf4j\\slf4j-log4j12\\jars\\slf4j-log4j12-1.7.16.jar\n",
       "C:\\Users\\Me\\.ivy2\\cache\\jline\\jline\\jars\\jline-2.14.6.jar\n",
       "C:\\Users\\Me\\.ivy2\\cache\\io.netty\\netty\\bundles\\netty-3.9.9.Final.jar\n",
       "C:\\Users\\Me\\.ivy2\\cache\\org.apache.curator\\curator-recipes\\bundles\\curator-recipes-2.6.0.jar\n",
       "C:\\Users\\Me\\.ivy2\\cache\\com.google.code.findbugs\\jsr305\\jars\\jsr305-1.3.9.jar\n",
       "C:\\Users\\Me\\.ivy2\\cache\\org.htrace\\htrace-core\\jars\\htrace-core-3.0.4.jar\n",
       "C:\\Users\\Me\\.ivy2\\cache\\org.apache.hadoop\\hadoop-hdfs\\jars\\hadoop-hdfs-2.6.5.jar\n",
       "C:\\Users\\Me\\.ivy2\\cache\\org.mortbay.jetty\\jetty-util\\jars\\jetty-util-6.1.26.jar\n",
       "C:\\Users\\Me\\.ivy2\\cache\\xerces\\xercesImpl\\jars\\xercesImpl-2.9.1.jar\n",
       "C:\\Users\\Me\\.ivy2\\cache\\org.apache.hadoop\\hadoop-mapreduce-client-app\\jars\\hadoop-mapreduce-client-app-2.6.5.jar\n",
       "C:\\Users\\Me\\.ivy2\\cache\\org.apache.hadoop\\hadoop-mapreduce-client-common\\jars\\hadoop-mapreduce-client-common-2.6.5.jar\n",
       "C:\\Users\\Me\\.ivy2\\cache\\org.apache.hadoop\\hadoop-yarn-common\\jars\\hadoop-yarn-common-2.6.5.jar\n",
       "C:\\Users\\Me\\.ivy2\\cache\\org.apache.hadoop\\hadoop-yarn-api\\jars\\hadoop-yarn-api-2.6.5.jar\n",
       "C:\\Users\\Me\\.ivy2\\cache\\javax.xml.bind\\jaxb-api\\jars\\jaxb-api-2.2.2.jar\n",
       "C:\\Users\\Me\\.ivy2\\cache\\javax.xml.stream\\stax-api\\jars\\stax-api-1.0-2.jar\n",
       "C:\\Users\\Me\\.ivy2\\cache\\javax.activation\\activation\\jars\\activation-1.1.1.jar\n",
       "C:\\Users\\Me\\.ivy2\\cache\\org.codehaus.jackson\\jackson-jaxrs\\jars\\jackson-jaxrs-1.9.13.jar\n",
       "C:\\Users\\Me\\.ivy2\\cache\\org.codehaus.jackson\\jackson-xc\\jars\\jackson-xc-1.9.13.jar\n",
       "C:\\Users\\Me\\.ivy2\\cache\\com.google.inject\\guice\\jars\\guice-3.0.jar\n",
       "C:\\Users\\Me\\.ivy2\\cache\\javax.inject\\javax.inject\\jars\\javax.inject-1.jar\n",
       "C:\\Users\\Me\\.ivy2\\cache\\aopalliance\\aopalliance\\jars\\aopalliance-1.0.jar\n",
       "C:\\Users\\Me\\.ivy2\\cache\\org.sonatype.sisu.inject\\cglib\\jars\\cglib-2.2.1-v20090111.jar\n",
       "C:\\Users\\Me\\.ivy2\\cache\\org.apache.hadoop\\hadoop-yarn-client\\jars\\hadoop-yarn-client-2.6.5.jar\n",
       "C:\\Users\\Me\\.ivy2\\cache\\org.apache.hadoop\\hadoop-mapreduce-client-core\\jars\\hadoop-mapreduce-client-core-2.6.5.jar\n",
       "C:\\Users\\Me\\.ivy2\\cache\\org.apache.hadoop\\hadoop-yarn-server-common\\jars\\hadoop-yarn-server-common-2.6.5.jar\n",
       "C:\\Users\\Me\\.ivy2\\cache\\org.fusesource.leveldbjni\\leveldbjni-all\\bundles\\leveldbjni-all-1.8.jar\n",
       "C:\\Users\\Me\\.ivy2\\cache\\org.apache.hadoop\\hadoop-mapreduce-client-shuffle\\jars\\hadoop-mapreduce-client-shuffle-2.6.5.jar\n",
       "C:\\Users\\Me\\.ivy2\\cache\\org.apache.hadoop\\hadoop-mapreduce-client-jobclient\\jars\\hadoop-mapreduce-client-jobclient-2.6.5.jar\n",
       "C:\\Users\\Me\\.ivy2\\cache\\org.apache.spark\\spark-launcher_2.11\\jars\\spark-launcher_2.11-2.4.4.jar\n",
       "C:\\Users\\Me\\.ivy2\\cache\\org.apache.spark\\spark-tags_2.11\\jars\\spark-tags_2.11-2.4.4.jar\n",
       "C:\\Users\\Me\\.ivy2\\cache\\org.spark-project.spark\\unused\\jars\\unused-1.0.0.jar\n",
       "C:\\Users\\Me\\.ivy2\\cache\\org.apache.spark\\spark-kvstore_2.11\\jars\\spark-kvstore_2.11-2.4.4.jar\n",
       "C:\\Users\\Me\\.ivy2\\cache\\com.fasterxml.jackson.core\\jackson-core\\bundles\\jackson-core-2.6.7.jar\n",
       "C:\\Users\\Me\\.ivy2\\cache\\com.fasterxml.jackson.core\\jackson-databind\\bundles\\jackson-databind-2.6.7.1.jar\n",
       "C:\\Users\\Me\\.ivy2\\cache\\com.fasterxml.jackson.core\\jackson-annotations\\bundles\\jackson-annotations-2.6.7.jar\n",
       "C:\\Users\\Me\\.ivy2\\cache\\org.apache.spark\\spark-network-common_2.11\\jars\\spark-network-common_2.11-2.4.4.jar\n",
       "C:\\Users\\Me\\.ivy2\\cache\\io.netty\\netty-all\\jars\\netty-all-4.1.17.Final.jar\n",
       "C:\\Users\\Me\\.ivy2\\cache\\org.apache.commons\\commons-lang3\\jars\\commons-lang3-3.5.jar\n",
       "C:\\Users\\Me\\.ivy2\\cache\\io.dropwizard.metrics\\metrics-core\\bundles\\metrics-core-3.1.5.jar\n",
       "C:\\Users\\Me\\.ivy2\\cache\\org.apache.commons\\commons-crypto\\jars\\commons-crypto-1.0.0.jar\n",
       "C:\\Users\\Me\\.ivy2\\cache\\org.apache.spark\\spark-network-shuffle_2.11\\jars\\spark-network-shuffle_2.11-2.4.4.jar\n",
       "C:\\Users\\Me\\.ivy2\\cache\\org.apache.spark\\spark-unsafe_2.11\\jars\\spark-unsafe_2.11-2.4.4.jar\n",
       "C:\\Users\\Me\\.ivy2\\cache\\javax.servlet\\javax.servlet-api\\jars\\javax.servlet-api-3.1.0.jar\n",
       "C:\\Users\\Me\\.ivy2\\cache\\org.slf4j\\jul-to-slf4j\\jars\\jul-to-slf4j-1.7.16.jar\n",
       "C:\\Users\\Me\\.ivy2\\cache\\org.slf4j\\jcl-over-slf4j\\jars\\jcl-over-slf4j-1.7.16.jar\n",
       "C:\\Users\\Me\\.ivy2\\cache\\com.ning\\compress-lzf\\bundles\\compress-lzf-1.0.3.jar\n",
       "C:\\Users\\Me\\.ivy2\\cache\\org.lz4\\lz4-java\\jars\\lz4-java-1.4.0.jar\n",
       "C:\\Users\\Me\\.ivy2\\cache\\com.github.luben\\zstd-jni\\bundles\\zstd-jni-1.3.2-2.jar\n",
       "C:\\Users\\Me\\.ivy2\\cache\\org.roaringbitmap\\RoaringBitmap\\jars\\RoaringBitmap-0.7.45.jar\n",
       "C:\\Users\\Me\\.ivy2\\cache\\org.roaringbitmap\\shims\\jars\\shims-0.7.45.jar\n",
       "C:\\Users\\Me\\.ivy2\\cache\\org.json4s\\json4s-jackson_2.11\\jars\\json4s-jackson_2.11-3.5.3.jar\n",
       "C:\\Users\\Me\\.ivy2\\cache\\org.json4s\\json4s-core_2.11\\jars\\json4s-core_2.11-3.5.3.jar\n",
       "C:\\Users\\Me\\.ivy2\\cache\\org.json4s\\json4s-ast_2.11\\jars\\json4s-ast_2.11-3.5.3.jar\n",
       "C:\\Users\\Me\\.ivy2\\cache\\org.json4s\\json4s-scalap_2.11\\jars\\json4s-scalap_2.11-3.5.3.jar\n",
       "C:\\Users\\Me\\.ivy2\\cache\\org.scala-lang.modules\\scala-xml_2.11\\bundles\\scala-xml_2.11-1.0.6.jar\n",
       "C:\\Users\\Me\\.ivy2\\cache\\org.glassfish.jersey.core\\jersey-client\\jars\\jersey-client-2.22.2.jar\n",
       "C:\\Users\\Me\\.ivy2\\cache\\javax.ws.rs\\javax.ws.rs-api\\jars\\javax.ws.rs-api-2.0.1.jar\n",
       "C:\\Users\\Me\\.ivy2\\cache\\org.glassfish.jersey.core\\jersey-common\\jars\\jersey-common-2.22.2.jar\n",
       "C:\\Users\\Me\\.ivy2\\cache\\javax.annotation\\javax.annotation-api\\jars\\javax.annotation-api-1.2.jar\n",
       "C:\\Users\\Me\\.ivy2\\cache\\org.glassfish.jersey.bundles.repackaged\\jersey-guava\\bundles\\jersey-guava-2.22.2.jar\n",
       "C:\\Users\\Me\\.ivy2\\cache\\org.glassfish.hk2\\hk2-api\\jars\\hk2-api-2.4.0-b34.jar\n",
       "C:\\Users\\Me\\.ivy2\\cache\\org.glassfish.hk2\\hk2-utils\\jars\\hk2-utils-2.4.0-b34.jar\n",
       "C:\\Users\\Me\\.ivy2\\cache\\org.glassfish.hk2.external\\aopalliance-repackaged\\jars\\aopalliance-repackaged-2.4.0-b34.jar\n",
       "C:\\Users\\Me\\.ivy2\\cache\\org.glassfish.hk2.external\\javax.inject\\jars\\javax.inject-2.4.0-b34.jar\n",
       "C:\\Users\\Me\\.ivy2\\cache\\org.glassfish.hk2\\hk2-locator\\jars\\hk2-locator-2.4.0-b34.jar\n",
       "C:\\Users\\Me\\.ivy2\\cache\\org.javassist\\javassist\\bundles\\javassist-3.18.1-GA.jar\n",
       "C:\\Users\\Me\\.ivy2\\cache\\org.glassfish.hk2\\osgi-resource-locator\\jars\\osgi-resource-locator-1.0.1.jar\n",
       "C:\\Users\\Me\\.ivy2\\cache\\org.glassfish.jersey.core\\jersey-server\\jars\\jersey-server-2.22.2.jar\n",
       "C:\\Users\\Me\\.ivy2\\cache\\org.glassfish.jersey.media\\jersey-media-jaxb\\jars\\jersey-media-jaxb-2.22.2.jar\n",
       "C:\\Users\\Me\\.ivy2\\cache\\javax.validation\\validation-api\\jars\\validation-api-1.1.0.Final.jar\n",
       "C:\\Users\\Me\\.ivy2\\cache\\org.glassfish.jersey.containers\\jersey-container-servlet\\jars\\jersey-container-servlet-2.22.2.jar\n",
       "C:\\Users\\Me\\.ivy2\\cache\\org.glassfish.jersey.containers\\jersey-container-servlet-core\\jars\\jersey-container-servlet-core-2.22.2.jar\n",
       "C:\\Users\\Me\\.ivy2\\cache\\com.clearspring.analytics\\stream\\jars\\stream-2.7.0.jar\n",
       "C:\\Users\\Me\\.ivy2\\cache\\io.dropwizard.metrics\\metrics-jvm\\bundles\\metrics-jvm-3.1.5.jar\n",
       "C:\\Users\\Me\\.ivy2\\cache\\io.dropwizard.metrics\\metrics-json\\bundles\\metrics-json-3.1.5.jar\n",
       "C:\\Users\\Me\\.ivy2\\cache\\io.dropwizard.metrics\\metrics-graphite\\bundles\\metrics-graphite-3.1.5.jar\n",
       "C:\\Users\\Me\\.ivy2\\cache\\com.fasterxml.jackson.module\\jackson-module-scala_2.11\\bundles\\jackson-module-scala_2.11-2.6.7.1.jar\n",
       "C:\\Users\\Me\\.ivy2\\cache\\org.scala-lang\\scala-reflect\\jars\\scala-reflect-2.11.12.jar\n",
       "C:\\Users\\Me\\.ivy2\\cache\\com.fasterxml.jackson.module\\jackson-module-paranamer\\bundles\\jackson-module-paranamer-2.7.9.jar\n",
       "C:\\Users\\Me\\.ivy2\\cache\\org.apache.ivy\\ivy\\jars\\ivy-2.4.0.jar\n",
       "C:\\Users\\Me\\.ivy2\\cache\\oro\\oro\\jars\\oro-2.0.8.jar\n",
       "C:\\Users\\Me\\.ivy2\\cache\\net.razorvine\\pyrolite\\jars\\pyrolite-4.13.jar\n",
       "C:\\Users\\Me\\.ivy2\\cache\\net.sf.py4j\\py4j\\jars\\py4j-0.10.7.jar\n",
       "C:\\Users\\Me\\.ivy2\\cache\\org.apache.spark\\spark-streaming_2.11\\jars\\spark-streaming_2.11-2.4.4.jar\n",
       "C:\\Users\\Me\\.ivy2\\cache\\org.apache.spark\\spark-sql_2.11\\jars\\spark-sql_2.11-2.4.4.jar\n",
       "C:\\Users\\Me\\.ivy2\\cache\\com.univocity\\univocity-parsers\\jars\\univocity-parsers-2.7.3.jar\n",
       "C:\\Users\\Me\\.ivy2\\cache\\org.apache.spark\\spark-sketch_2.11\\jars\\spark-sketch_2.11-2.4.4.jar\n",
       "C:\\Users\\Me\\.ivy2\\cache\\org.apache.spark\\spark-catalyst_2.11\\jars\\spark-catalyst_2.11-2.4.4.jar\n",
       "C:\\Users\\Me\\.ivy2\\cache\\org.codehaus.janino\\janino\\jars\\janino-3.0.9.jar\n",
       "C:\\Users\\Me\\.ivy2\\cache\\org.codehaus.janino\\commons-compiler\\jars\\commons-compiler-3.0.9.jar\n",
       "C:\\Users\\Me\\.ivy2\\cache\\org.antlr\\antlr4-runtime\\jars\\antlr4-runtime-4.7.jar\n",
       "C:\\Users\\Me\\.ivy2\\cache\\org.apache.orc\\orc-core\\jars\\orc-core-1.5.5-nohive.jar\n",
       "C:\\Users\\Me\\.ivy2\\cache\\org.apache.orc\\orc-shims\\jars\\orc-shims-1.5.5.jar\n",
       "C:\\Users\\Me\\.ivy2\\cache\\io.airlift\\aircompressor\\jars\\aircompressor-0.10.jar\n",
       "C:\\Users\\Me\\.ivy2\\cache\\org.apache.orc\\orc-mapreduce\\jars\\orc-mapreduce-1.5.5-nohive.jar\n",
       "C:\\Users\\Me\\.ivy2\\cache\\org.apache.parquet\\parquet-column\\jars\\parquet-column-1.10.1.jar\n",
       "C:\\Users\\Me\\.ivy2\\cache\\org.apache.parquet\\parquet-common\\jars\\parquet-common-1.10.1.jar\n",
       "C:\\Users\\Me\\.ivy2\\cache\\org.apache.parquet\\parquet-format\\jars\\parquet-format-2.4.0.jar\n",
       "C:\\Users\\Me\\.ivy2\\cache\\org.apache.parquet\\parquet-encoding\\jars\\parquet-encoding-1.10.1.jar\n",
       "C:\\Users\\Me\\.ivy2\\cache\\org.apache.parquet\\parquet-hadoop\\jars\\parquet-hadoop-1.10.1.jar\n",
       "C:\\Users\\Me\\.ivy2\\cache\\org.apache.parquet\\parquet-jackson\\jars\\parquet-jackson-1.10.1.jar\n",
       "C:\\Users\\Me\\.ivy2\\cache\\org.apache.arrow\\arrow-vector\\jars\\arrow-vector-0.10.0.jar\n",
       "C:\\Users\\Me\\.ivy2\\cache\\org.apache.arrow\\arrow-format\\jars\\arrow-format-0.10.0.jar\n",
       "C:\\Users\\Me\\.ivy2\\cache\\com.vlkan\\flatbuffers\\jars\\flatbuffers-1.2.0-3f79e055.jar\n",
       "C:\\Users\\Me\\.ivy2\\cache\\org.apache.arrow\\arrow-memory\\jars\\arrow-memory-0.10.0.jar\n",
       "C:\\Users\\Me\\.ivy2\\cache\\joda-time\\joda-time\\jars\\joda-time-2.9.3.jar\n",
       "C:\\Users\\Me\\.ivy2\\cache\\com.carrotsearch\\hppc\\bundles\\hppc-0.7.2.jar\n",
       "C:\\Users\\Me\\.ivy2\\cache\\org.apache.spark\\spark-graphx_2.11\\jars\\spark-graphx_2.11-2.4.4.jar\n",
       "C:\\Users\\Me\\.ivy2\\cache\\org.apache.spark\\spark-mllib-local_2.11\\jars\\spark-mllib-local_2.11-2.4.4.jar\n",
       "C:\\Users\\Me\\.ivy2\\cache\\org.scalanlp\\breeze_2.11\\jars\\breeze_2.11-0.13.2.jar\n",
       "C:\\Users\\Me\\.ivy2\\cache\\org.scalanlp\\breeze-macros_2.11\\jars\\breeze-macros_2.11-0.13.2.jar\n",
       "C:\\Users\\Me\\.ivy2\\cache\\com.github.fommil.netlib\\core\\jars\\core-1.1.2.jar\n",
       "C:\\Users\\Me\\.ivy2\\cache\\net.sourceforge.f2j\\arpack_combined_all\\jars\\arpack_combined_all-0.1.jar\n",
       "C:\\Users\\Me\\.ivy2\\cache\\net.sourceforge.f2j\\arpack_combined_all\\jars\\arpack_combined_all-0.1-javadoc.jar\n",
       "C:\\Users\\Me\\.ivy2\\cache\\net.sf.opencsv\\opencsv\\jars\\opencsv-2.3.jar\n",
       "C:\\Users\\Me\\.ivy2\\cache\\com.github.rwl\\jtransforms\\jars\\jtransforms-2.4.0.jar\n",
       "C:\\Users\\Me\\.ivy2\\cache\\org.spire-math\\spire_2.11\\jars\\spire_2.11-0.13.0.jar\n",
       "C:\\Users\\Me\\.ivy2\\cache\\org.spire-math\\spire-macros_2.11\\jars\\spire-macros_2.11-0.13.0.jar\n",
       "C:\\Users\\Me\\.ivy2\\cache\\org.typelevel\\machinist_2.11\\jars\\machinist_2.11-0.6.1.jar\n",
       "C:\\Users\\Me\\.ivy2\\cache\\com.chuusai\\shapeless_2.11\\bundles\\shapeless_2.11-2.3.2.jar\n",
       "C:\\Users\\Me\\.ivy2\\cache\\org.typelevel\\macro-compat_2.11\\jars\\macro-compat_2.11-1.1.1.jar\n",
       "C:\\Users\\Me\\.ivy2\\cache\\org.apache.spark\\spark-repl_2.11\\jars\\spark-repl_2.11-2.4.4.jar\n",
       "C:\\Users\\Me\\.ivy2\\cache\\org.scala-lang\\scala-compiler\\jars\\scala-compiler-2.11.12.jar\n",
       "C:\\Users\\Me\\.ivy2\\cache\\org.apache.spark\\spark-streaming-flume-assembly_2.11\\jars\\spark-streaming-flume-assembly_2.11-2.4.4.jar\n",
       "C:\\Users\\Me\\.ivy2\\cache\\org.scala-lang.modules\\scala-xml_2.11\\bundles\\scala-xml_2.11-1.0.5.jar\n",
       "C:\\Users\\Me\\.ivy2\\cache\\org.scala-lang.modules\\scala-parser-combinators_2.11\\bundles\\scala-parser-combinators_2.11-1.0.4.jar\n",
       "C:\\Users\\Me\\.ivy2\\cache\\org.scala-lang.modules\\scala-xml_2.11\\bundles\\scala-xml_2.11-1.2.0.jar\n",
       "C:\\Users\\Me\\.ivy2\\cache\\commons-io\\commons-io\\jars\\commons-io-2.5.jar"
      ]
     },
     "execution_count": 6,
     "metadata": {},
     "output_type": "execute_result"
    }
   ],
   "source": [
    ":classpath"
   ]
  },
  {
   "cell_type": "code",
   "execution_count": null,
   "metadata": {},
   "outputs": [],
   "source": []
  },
  {
   "cell_type": "markdown",
   "metadata": {},
   "source": [
    "# include supported libraries (%use)\n",
    "## Default repositories\n",
    "* Bintray JCenter\n",
    "* Maven Central\n",
    "* JitPack"
   ]
  },
  {
   "cell_type": "code",
   "execution_count": 1,
   "metadata": {
    "ExecuteTime": {
     "end_time": "2020-07-05T11:31+0800",
     "start_time": "2020-07-05T11:31+0800"
    }
   },
   "outputs": [
    {
     "data": {
      "text/html": [
       "   <div id=\"OGox0l\"></div>\n",
       "   <script type=\"text/javascript\" data-lets-plot-script=\"library\">\n",
       "       if(!window.letsPlotCallQueue) {\n",
       "           window.letsPlotCallQueue = [];\n",
       "       }; \n",
       "       window.letsPlotCall = function(f) {\n",
       "           window.letsPlotCallQueue.push(f);\n",
       "       };\n",
       "       (function() {\n",
       "           var script = document.createElement(\"script\");\n",
       "           script.type = \"text/javascript\";\n",
       "           script.src = \"https://dl.bintray.com/jetbrains/lets-plot/lets-plot-1.4.2.min.js\";\n",
       "           script.onload = function() {\n",
       "               window.letsPlotCall = function(f) {f();};\n",
       "               window.letsPlotCallQueue.forEach(function(f) {f();});\n",
       "               window.letsPlotCallQueue = [];\n",
       "               \n",
       "               \n",
       "           };\n",
       "           script.onerror = function(event) {\n",
       "               window.letsPlotCall = function(f) {};\n",
       "               window.letsPlotCallQueue = [];\n",
       "               var div = document.createElement(\"div\");\n",
       "               div.style.color = 'darkred';\n",
       "               div.textContent = 'Error loading Lets-Plot JS';\n",
       "               document.getElementById(\"OGox0l\").appendChild(div);\n",
       "           };\n",
       "           var e = document.getElementById(\"OGox0l\");\n",
       "           e.appendChild(script);\n",
       "       })();\n",
       "   </script>"
      ]
     },
     "metadata": {},
     "output_type": "display_data"
    }
   ],
   "source": [
    "%use lets-plot\n",
    "// %use klaxon(5.2) "
   ]
  },
  {
   "cell_type": "code",
   "execution_count": 3,
   "metadata": {
    "ExecuteTime": {
     "end_time": "2020-07-05T11:31+0800",
     "start_time": "2020-07-05T11:31+0800"
    },
    "scrolled": false
   },
   "outputs": [
    {
     "data": {
      "text/html": [
       "   <div id=\"bmpmZS\"></div>\n",
       "   <script type=\"text/javascript\" data-lets-plot-script=\"plot\">\n",
       "       (function() {\n",
       "           var plotSpec={\n",
       "'mapping':{\n",
       "},\n",
       "'data':{\n",
       "},\n",
       "'ggsize':{\n",
       "'width':500,\n",
       "'height':250\n",
       "},\n",
       "'kind':\"plot\",\n",
       "'scales':[],\n",
       "'layers':[{\n",
       "'stat':\"density\",\n",
       "'mapping':{\n",
       "'x':\"rating\",\n",
       "'fill':\"cond\"\n",
       "},\n",
       "'color':\"dark_green\",\n",
       "'data':{\n",
       "'rating':[-2.669740529105411,-2.6524920513942165,-2.635243573683022,-2.617995095971828,-2.6007466182606334,-2.583498140549439,-2.5662496628382443,-2.54900118512705,-2.5317527074158557,-2.514504229704661,-2.4972557519934666,-2.4800072742822725,-2.462758796571078,-2.4455103188598835,-2.428261841148689,-2.411013363437495,-2.3937648857263003,-2.3765164080151058,-2.3592679303039112,-2.342019452592717,-2.3247709748815226,-2.307522497170328,-2.2902740194591336,-2.2730255417479395,-2.255777064036745,-2.2385285863255504,-2.221280108614356,-2.2040316309031613,-2.1867831531919673,-2.1695346754807727,-2.152286197769578,-2.135037720058384,-2.1177892423471896,-2.100540764635995,-2.0832922869248005,-2.066043809213606,-2.048795331502412,-2.0315468537912174,-2.014298376080023,-1.9970498983688285,-1.9798014206576342,-1.9625529429464397,-1.9453044652352451,-1.9280559875240508,-1.9108075098128565,-1.893559032101662,-1.8763105543904675,-1.8590620766792731,-1.8418135989680786,-1.8245651212568843,-1.8073166435456898,-1.7900681658344952,-1.772819688123301,-1.7555712104121066,-1.738322732700912,-1.7210742549897176,-1.7038257772785232,-1.686577299567329,-1.6693288218561344,-1.65208034414494,-1.6348318664337456,-1.6175833887225513,-1.6003349110113567,-1.5830864333001624,-1.5658379555889679,-1.5485894778777733,-1.531341000166579,-1.5140925224553845,-1.4968440447441902,-1.4795955670329957,-1.4623470893218014,-1.4450986116106068,-1.4278501338994125,-1.410601656188218,-1.3933531784770237,-1.3761047007658291,-1.3588562230546348,-1.3416077453434403,-1.324359267632246,-1.3071107899210515,-1.2898623122098571,-1.2726138344986626,-1.2553653567874683,-1.2381168790762738,-1.2208684013650795,-1.203619923653885,-1.1863714459426906,-1.169122968231496,-1.1518744905203018,-1.1346260128091072,-1.117377535097913,-1.1001290573867184,-1.082880579675524,-1.0656321019643296,-1.0483836242531352,-1.0311351465419407,-1.0138866688307462,-0.9966381911195519,-0.9793897134083573,-0.962141235697163,-0.9448927579859685,-0.9276442802747742,-0.9103958025635797,-0.8931473248523853,-0.8758988471411908,-0.8586503694299965,-0.841401891718802,-0.8241534140076077,-0.8069049362964131,-0.7896564585852188,-0.7724079808740243,-0.75515950316283,-0.7379110254516354,-0.7206625477404411,-0.7034140700292466,-0.6861655923180523,-0.6689171146068578,-0.6516686368956632,-0.6344201591844691,-0.6171716814732746,-0.5999232037620801,-0.5826747260508855,-0.5654262483396915,-0.5481777706284969,-0.5309292929173024,-0.5136808152061079,-0.4964323374949138,-0.47918385978371925,-0.4619353820725247,-0.4446869043613302,-0.42743842665013565,-0.41018994893894156,-0.39294147122774703,-0.3756929935165525,-0.35844451580535797,-0.3411960380941639,-0.32394756038296935,-0.3066990826717748,-0.2894506049605803,-0.2722021272493862,-0.25495364953819166,-0.23770517182699713,-0.2204566941158026,-0.2032082164046085,-0.18595973869341398,-0.16871126098221945,-0.15146278327102491,-0.13421430555983083,-0.1169658278486363,-0.09971735013744176,-0.08246887242624723,-0.06522039471505314,-0.04797191700385861,-0.03072343929266408,-0.013474961581469547,0.003773516129724541,0.021021993840919073,0.038270471552113605,0.05551894926330814,0.07276742697450223,0.09001590468569676,0.10726438239689129,0.12451286010808582,0.14176133781928035,0.15900981553047444,0.17625829324166897,0.1935067709528635,0.21075524866405804,0.22800372637525212,0.24525220408644666,0.2625006817976412,0.2797491595088357,0.2969976372200298,0.31424611493122434,0.3314945926424189,0.3487430703536134,0.3659915480648075,0.383240025776002,0.40048850348719656,0.4177369811983911,0.4349854589095852,0.4522339366207797,0.46948241433197424,0.4867308920431688,0.5039793697543629,0.5212278474655574,0.5384763251767519,0.5557248028879465,0.5729732805991405,0.5902217583103351,0.6074702360215296,0.6247187137327241,0.6419671914439187,0.6592156691551128,0.6764641468663073,0.6937126245775018,0.7109611022886964,0.7282095799998904,0.745458057711085,0.7627065354222795,0.779955013133474,0.7972034908446681,0.8144519685558627,0.8317004462670572,0.8489489239782517,0.8661974016894458,0.8834458794006403,0.9006943571118349,0.9179428348230294,0.9351913125342235,0.952439790245418,0.9696882679566126,0.9869367456678071,1.0041852233790012,1.0214337010901957,1.0386821788013902,1.0559306565125848,1.0731791342237789,1.0904276119349734,1.107676089646168,1.1249245673573625,1.1421730450685565,1.159421522779751,1.1766700004909456,1.1939184782021401,1.2111669559133347,1.2284154336245288,1.2456639113357233,1.2629123890469178,1.2801608667581124,1.2974093444693064,1.314657822180501,1.3319062998916955,1.34915477760289,1.3664032553140846,1.383651733025279,1.4009002107364728,1.4181486884476673,1.4353971661588618,1.4526456438700563,1.4698941215812509,1.4871425992924454,1.50439107700364,1.5216395547148345,1.5388880324260281,1.5561365101372227,1.5733849878484172,1.5906334655596117,1.6078819432708062,1.6251304209820008,1.6423788986931953,1.6596273764043898,1.6768758541155835,1.694124331826778,1.7113728095379726,1.728621287249167,1.7458697649603616,1.7631182426715561,1.7803667203827507,1.7976151980939452,1.8148636758051397,1.8321121535163334,1.849360631227528,1.8666091089387224,1.883857586649917,1.9011060643611115,1.918354542072306,1.9356030197835006,1.952851497494695,1.9700999752058888,1.9873484529170833,2.004596930628278,2.0218454083394723,2.039093886050667,2.0563423637618614,2.073590841473056,2.0908393191842505,2.108087796895444,2.1253362746066387,2.142584752317833,2.1598332300290277,2.1770817077402222,2.194330185451417,2.2115786631626113,2.228827140873806,2.2460756185849995,2.263324096296194,2.2805725740073886,2.297821051718583,2.3150695294297776,2.332318007140972,2.3495664848521667,2.366814962563361,2.3840634402745557,2.4013119179857494,2.418560395696944,2.4358088734081385,2.453057351119333,2.4703058288305275,2.487554306541722,2.5048027842529166,2.522051261964111,2.5392997396753048,2.5565482173864993,2.573796695097694,2.5910451728088884,2.608293650520083,2.6255421282312774,2.642790605942472,2.6600390836536665,2.67728756136486,2.6945360390760547,2.711784516787249,2.7290329944984437,2.7462814722096383,2.763529949920833,2.7807784276320273,2.798026905343222,2.8152753830544155,2.83252386076561,2.8497723384768046,2.867020816187999,2.8842692938991936,2.901517771610388,2.9187662493215827,2.936014727032777,2.9532632047439717,2.9705116824551654,2.98776016016636,3.0050086378775545,3.022257115588749,3.0395055932999435,3.056754071011138,3.0740025487223326,3.091251026433527,3.1084995041447208,3.1257479818559153,3.14299645956711,3.1602449372783044,3.177493414989499,3.1947418927006934,3.211990370411888,3.2292388481230825,3.246487325834276,3.2637358035454707,3.280984281256665,3.2982327589678597,3.3154812366790543,3.332729714390249,3.3499781921014433,3.367226669812638,3.3844751475238315,3.401723625235026,3.4189721029462206,3.436220580657415,3.4534690583686096,3.470717536079804,3.4879660137909987,3.505214491502193,3.5224629692133878,3.5397114469245814,3.556959924635776,3.5742084023469705,3.591456880058165,3.6087053577693595,3.625953835480554,3.6432023131917486,3.660450790902943,3.6776992686141368,3.6949477463253313,3.712196224036526,3.7294447017477204,3.746693179458915,3.7639416571701094,3.781190134881304,3.7984386125924985,3.815687090303692,3.8329355680148867,3.850184045726081,3.8674325234372757,3.8846810011484703,3.901929478859665,3.9191779565708593,3.936426434282054,3.9536749119932484,3.970923389704442,3.9881718674156366,4.005420345126831,4.022668822838026,4.03991730054922,4.057165778260415,4.074414255971609,4.091662733682804,4.108911211393997,4.126159689105192,4.1434081668163865,4.160656644527581,4.1779051222387755,4.19515359994997,4.212402077661165,4.229650555372359,4.246899033083553,4.264147510794747,4.281395988505942,4.298644466217136,4.315892943928331,4.333141421639525,4.35038989935072,4.3676383770619145,4.384886854773108,4.402135332484303,4.419383810195497,4.436632287906692,4.453880765617886,4.471129243329081,4.488377721040275,4.50562619875147,4.522874676462664,4.540123154173858,4.557371631885053,4.574620109596247,4.591868587307442,4.609117065018636,4.626365542729831,4.643614020441025,4.66086249815222,4.678110975863413,4.695359453574608,4.7126079312858025,4.729856408996997,4.7471048867081915,4.764353364419386,4.781601842130581,4.798850319841775,4.816098797552969,4.833347275264163,4.850595752975358,4.867844230686552,4.885092708397747,4.902341186108941,4.919589663820136,4.9368381415313305,4.954086619242524,4.971335096953719,4.988583574664913,5.005832052376108,5.023080530087302,5.040329007798497,5.057577485509691,5.074825963220886,5.09207444093208,5.109322918643274,5.126571396354469,5.143819874065663,5.161068351776858,5.178316829488052,5.195565307199247,5.212813784910441,5.230062262621636,5.247310740332829,5.264559218044024,5.2818076957552185,5.299056173466413,5.3163046511776075,5.333553128888802,5.350801606599996,5.368050084311191,5.385298562022385,5.40254703973358,5.419795517444774,5.437043995155969,5.454292472867163,5.4715409505783565,5.488789428289552,5.506037906000746,5.523286383711941,5.540534861423135,5.55778333913433,5.575031816845524,5.592280294556717,5.609528772267913,5.626777249979106,5.644025727690302,5.6612742054014955,5.678522683112691,5.695771160823885,5.71301963853508,5.730268116246274,5.747516593957467,5.764765071668663,5.782013549379856,5.799262027091052,5.816510504802245,5.833758982513441,5.8510074602246345,5.86825593793583,5.8855044156470235,5.902752893358217,5.920001371069413,5.937249848780606,5.954498326491802,5.971746804202995,5.988995281914191,6.006243759625384,6.023492237336578,6.040740715047773,6.057989192758967,6.0752376704701625,6.092486148181356,6.109734625892552,6.126983103603745,6.144231581314941,-2.669740529105411,-2.6524920513942165,-2.635243573683022,-2.617995095971828,-2.6007466182606334,-2.583498140549439,-2.5662496628382443,-2.54900118512705,-2.5317527074158557,-2.514504229704661,-2.4972557519934666,-2.4800072742822725,-2.462758796571078,-2.4455103188598835,-2.428261841148689,-2.411013363437495,-2.3937648857263003,-2.3765164080151058,-2.3592679303039112,-2.342019452592717,-2.3247709748815226,-2.307522497170328,-2.2902740194591336,-2.2730255417479395,-2.255777064036745,-2.2385285863255504,-2.221280108614356,-2.2040316309031613,-2.1867831531919673,-2.1695346754807727,-2.152286197769578,-2.135037720058384,-2.1177892423471896,-2.100540764635995,-2.0832922869248005,-2.066043809213606,-2.048795331502412,-2.0315468537912174,-2.014298376080023,-1.9970498983688285,-1.9798014206576342,-1.9625529429464397,-1.9453044652352451,-1.9280559875240508,-1.9108075098128565,-1.893559032101662,-1.8763105543904675,-1.8590620766792731,-1.8418135989680786,-1.8245651212568843,-1.8073166435456898,-1.7900681658344952,-1.772819688123301,-1.7555712104121066,-1.738322732700912,-1.7210742549897176,-1.7038257772785232,-1.686577299567329,-1.6693288218561344,-1.65208034414494,-1.6348318664337456,-1.6175833887225513,-1.6003349110113567,-1.5830864333001624,-1.5658379555889679,-1.5485894778777733,-1.531341000166579,-1.5140925224553845,-1.4968440447441902,-1.4795955670329957,-1.4623470893218014,-1.4450986116106068,-1.4278501338994125,-1.410601656188218,-1.3933531784770237,-1.3761047007658291,-1.3588562230546348,-1.3416077453434403,-1.324359267632246,-1.3071107899210515,-1.2898623122098571,-1.2726138344986626,-1.2553653567874683,-1.2381168790762738,-1.2208684013650795,-1.203619923653885,-1.1863714459426906,-1.169122968231496,-1.1518744905203018,-1.1346260128091072,-1.117377535097913,-1.1001290573867184,-1.082880579675524,-1.0656321019643296,-1.0483836242531352,-1.0311351465419407,-1.0138866688307462,-0.9966381911195519,-0.9793897134083573,-0.962141235697163,-0.9448927579859685,-0.9276442802747742,-0.9103958025635797,-0.8931473248523853,-0.8758988471411908,-0.8586503694299965,-0.841401891718802,-0.8241534140076077,-0.8069049362964131,-0.7896564585852188,-0.7724079808740243,-0.75515950316283,-0.7379110254516354,-0.7206625477404411,-0.7034140700292466,-0.6861655923180523,-0.6689171146068578,-0.6516686368956632,-0.6344201591844691,-0.6171716814732746,-0.5999232037620801,-0.5826747260508855,-0.5654262483396915,-0.5481777706284969,-0.5309292929173024,-0.5136808152061079,-0.4964323374949138,-0.47918385978371925,-0.4619353820725247,-0.4446869043613302,-0.42743842665013565,-0.41018994893894156,-0.39294147122774703,-0.3756929935165525,-0.35844451580535797,-0.3411960380941639,-0.32394756038296935,-0.3066990826717748,-0.2894506049605803,-0.2722021272493862,-0.25495364953819166,-0.23770517182699713,-0.2204566941158026,-0.2032082164046085,-0.18595973869341398,-0.16871126098221945,-0.15146278327102491,-0.13421430555983083,-0.1169658278486363,-0.09971735013744176,-0.08246887242624723,-0.06522039471505314,-0.04797191700385861,-0.03072343929266408,-0.013474961581469547,0.003773516129724541,0.021021993840919073,0.038270471552113605,0.05551894926330814,0.07276742697450223,0.09001590468569676,0.10726438239689129,0.12451286010808582,0.14176133781928035,0.15900981553047444,0.17625829324166897,0.1935067709528635,0.21075524866405804,0.22800372637525212,0.24525220408644666,0.2625006817976412,0.2797491595088357,0.2969976372200298,0.31424611493122434,0.3314945926424189,0.3487430703536134,0.3659915480648075,0.383240025776002,0.40048850348719656,0.4177369811983911,0.4349854589095852,0.4522339366207797,0.46948241433197424,0.4867308920431688,0.5039793697543629,0.5212278474655574,0.5384763251767519,0.5557248028879465,0.5729732805991405,0.5902217583103351,0.6074702360215296,0.6247187137327241,0.6419671914439187,0.6592156691551128,0.6764641468663073,0.6937126245775018,0.7109611022886964,0.7282095799998904,0.745458057711085,0.7627065354222795,0.779955013133474,0.7972034908446681,0.8144519685558627,0.8317004462670572,0.8489489239782517,0.8661974016894458,0.8834458794006403,0.9006943571118349,0.9179428348230294,0.9351913125342235,0.952439790245418,0.9696882679566126,0.9869367456678071,1.0041852233790012,1.0214337010901957,1.0386821788013902,1.0559306565125848,1.0731791342237789,1.0904276119349734,1.107676089646168,1.1249245673573625,1.1421730450685565,1.159421522779751,1.1766700004909456,1.1939184782021401,1.2111669559133347,1.2284154336245288,1.2456639113357233,1.2629123890469178,1.2801608667581124,1.2974093444693064,1.314657822180501,1.3319062998916955,1.34915477760289,1.3664032553140846,1.383651733025279,1.4009002107364728,1.4181486884476673,1.4353971661588618,1.4526456438700563,1.4698941215812509,1.4871425992924454,1.50439107700364,1.5216395547148345,1.5388880324260281,1.5561365101372227,1.5733849878484172,1.5906334655596117,1.6078819432708062,1.6251304209820008,1.6423788986931953,1.6596273764043898,1.6768758541155835,1.694124331826778,1.7113728095379726,1.728621287249167,1.7458697649603616,1.7631182426715561,1.7803667203827507,1.7976151980939452,1.8148636758051397,1.8321121535163334,1.849360631227528,1.8666091089387224,1.883857586649917,1.9011060643611115,1.918354542072306,1.9356030197835006,1.952851497494695,1.9700999752058888,1.9873484529170833,2.004596930628278,2.0218454083394723,2.039093886050667,2.0563423637618614,2.073590841473056,2.0908393191842505,2.108087796895444,2.1253362746066387,2.142584752317833,2.1598332300290277,2.1770817077402222,2.194330185451417,2.2115786631626113,2.228827140873806,2.2460756185849995,2.263324096296194,2.2805725740073886,2.297821051718583,2.3150695294297776,2.332318007140972,2.3495664848521667,2.366814962563361,2.3840634402745557,2.4013119179857494,2.418560395696944,2.4358088734081385,2.453057351119333,2.4703058288305275,2.487554306541722,2.5048027842529166,2.522051261964111,2.5392997396753048,2.5565482173864993,2.573796695097694,2.5910451728088884,2.608293650520083,2.6255421282312774,2.642790605942472,2.6600390836536665,2.67728756136486,2.6945360390760547,2.711784516787249,2.7290329944984437,2.7462814722096383,2.763529949920833,2.7807784276320273,2.798026905343222,2.8152753830544155,2.83252386076561,2.8497723384768046,2.867020816187999,2.8842692938991936,2.901517771610388,2.9187662493215827,2.936014727032777,2.9532632047439717,2.9705116824551654,2.98776016016636,3.0050086378775545,3.022257115588749,3.0395055932999435,3.056754071011138,3.0740025487223326,3.091251026433527,3.1084995041447208,3.1257479818559153,3.14299645956711,3.1602449372783044,3.177493414989499,3.1947418927006934,3.211990370411888,3.2292388481230825,3.246487325834276,3.2637358035454707,3.280984281256665,3.2982327589678597,3.3154812366790543,3.332729714390249,3.3499781921014433,3.367226669812638,3.3844751475238315,3.401723625235026,3.4189721029462206,3.436220580657415,3.4534690583686096,3.470717536079804,3.4879660137909987,3.505214491502193,3.5224629692133878,3.5397114469245814,3.556959924635776,3.5742084023469705,3.591456880058165,3.6087053577693595,3.625953835480554,3.6432023131917486,3.660450790902943,3.6776992686141368,3.6949477463253313,3.712196224036526,3.7294447017477204,3.746693179458915,3.7639416571701094,3.781190134881304,3.7984386125924985,3.815687090303692,3.8329355680148867,3.850184045726081,3.8674325234372757,3.8846810011484703,3.901929478859665,3.9191779565708593,3.936426434282054,3.9536749119932484,3.970923389704442,3.9881718674156366,4.005420345126831,4.022668822838026,4.03991730054922,4.057165778260415,4.074414255971609,4.091662733682804,4.108911211393997,4.126159689105192,4.1434081668163865,4.160656644527581,4.1779051222387755,4.19515359994997,4.212402077661165,4.229650555372359,4.246899033083553,4.264147510794747,4.281395988505942,4.298644466217136,4.315892943928331,4.333141421639525,4.35038989935072,4.3676383770619145,4.384886854773108,4.402135332484303,4.419383810195497,4.436632287906692,4.453880765617886,4.471129243329081,4.488377721040275,4.50562619875147,4.522874676462664,4.540123154173858,4.557371631885053,4.574620109596247,4.591868587307442,4.609117065018636,4.626365542729831,4.643614020441025,4.66086249815222,4.678110975863413,4.695359453574608,4.7126079312858025,4.729856408996997,4.7471048867081915,4.764353364419386,4.781601842130581,4.798850319841775,4.816098797552969,4.833347275264163,4.850595752975358,4.867844230686552,4.885092708397747,4.902341186108941,4.919589663820136,4.9368381415313305,4.954086619242524,4.971335096953719,4.988583574664913,5.005832052376108,5.023080530087302,5.040329007798497,5.057577485509691,5.074825963220886,5.09207444093208,5.109322918643274,5.126571396354469,5.143819874065663,5.161068351776858,5.178316829488052,5.195565307199247,5.212813784910441,5.230062262621636,5.247310740332829,5.264559218044024,5.2818076957552185,5.299056173466413,5.3163046511776075,5.333553128888802,5.350801606599996,5.368050084311191,5.385298562022385,5.40254703973358,5.419795517444774,5.437043995155969,5.454292472867163,5.4715409505783565,5.488789428289552,5.506037906000746,5.523286383711941,5.540534861423135,5.55778333913433,5.575031816845524,5.592280294556717,5.609528772267913,5.626777249979106,5.644025727690302,5.6612742054014955,5.678522683112691,5.695771160823885,5.71301963853508,5.730268116246274,5.747516593957467,5.764765071668663,5.782013549379856,5.799262027091052,5.816510504802245,5.833758982513441,5.8510074602246345,5.86825593793583,5.8855044156470235,5.902752893358217,5.920001371069413,5.937249848780606,5.954498326491802,5.971746804202995,5.988995281914191,6.006243759625384,6.023492237336578,6.040740715047773,6.057989192758967,6.0752376704701625,6.092486148181356,6.109734625892552,6.126983103603745,6.144231581314941],\n",
       "'cond':[\"A\",\"A\",\"A\",\"A\",\"A\",\"A\",\"A\",\"A\",\"A\",\"A\",\"A\",\"A\",\"A\",\"A\",\"A\",\"A\",\"A\",\"A\",\"A\",\"A\",\"A\",\"A\",\"A\",\"A\",\"A\",\"A\",\"A\",\"A\",\"A\",\"A\",\"A\",\"A\",\"A\",\"A\",\"A\",\"A\",\"A\",\"A\",\"A\",\"A\",\"A\",\"A\",\"A\",\"A\",\"A\",\"A\",\"A\",\"A\",\"A\",\"A\",\"A\",\"A\",\"A\",\"A\",\"A\",\"A\",\"A\",\"A\",\"A\",\"A\",\"A\",\"A\",\"A\",\"A\",\"A\",\"A\",\"A\",\"A\",\"A\",\"A\",\"A\",\"A\",\"A\",\"A\",\"A\",\"A\",\"A\",\"A\",\"A\",\"A\",\"A\",\"A\",\"A\",\"A\",\"A\",\"A\",\"A\",\"A\",\"A\",\"A\",\"A\",\"A\",\"A\",\"A\",\"A\",\"A\",\"A\",\"A\",\"A\",\"A\",\"A\",\"A\",\"A\",\"A\",\"A\",\"A\",\"A\",\"A\",\"A\",\"A\",\"A\",\"A\",\"A\",\"A\",\"A\",\"A\",\"A\",\"A\",\"A\",\"A\",\"A\",\"A\",\"A\",\"A\",\"A\",\"A\",\"A\",\"A\",\"A\",\"A\",\"A\",\"A\",\"A\",\"A\",\"A\",\"A\",\"A\",\"A\",\"A\",\"A\",\"A\",\"A\",\"A\",\"A\",\"A\",\"A\",\"A\",\"A\",\"A\",\"A\",\"A\",\"A\",\"A\",\"A\",\"A\",\"A\",\"A\",\"A\",\"A\",\"A\",\"A\",\"A\",\"A\",\"A\",\"A\",\"A\",\"A\",\"A\",\"A\",\"A\",\"A\",\"A\",\"A\",\"A\",\"A\",\"A\",\"A\",\"A\",\"A\",\"A\",\"A\",\"A\",\"A\",\"A\",\"A\",\"A\",\"A\",\"A\",\"A\",\"A\",\"A\",\"A\",\"A\",\"A\",\"A\",\"A\",\"A\",\"A\",\"A\",\"A\",\"A\",\"A\",\"A\",\"A\",\"A\",\"A\",\"A\",\"A\",\"A\",\"A\",\"A\",\"A\",\"A\",\"A\",\"A\",\"A\",\"A\",\"A\",\"A\",\"A\",\"A\",\"A\",\"A\",\"A\",\"A\",\"A\",\"A\",\"A\",\"A\",\"A\",\"A\",\"A\",\"A\",\"A\",\"A\",\"A\",\"A\",\"A\",\"A\",\"A\",\"A\",\"A\",\"A\",\"A\",\"A\",\"A\",\"A\",\"A\",\"A\",\"A\",\"A\",\"A\",\"A\",\"A\",\"A\",\"A\",\"A\",\"A\",\"A\",\"A\",\"A\",\"A\",\"A\",\"A\",\"A\",\"A\",\"A\",\"A\",\"A\",\"A\",\"A\",\"A\",\"A\",\"A\",\"A\",\"A\",\"A\",\"A\",\"A\",\"A\",\"A\",\"A\",\"A\",\"A\",\"A\",\"A\",\"A\",\"A\",\"A\",\"A\",\"A\",\"A\",\"A\",\"A\",\"A\",\"A\",\"A\",\"A\",\"A\",\"A\",\"A\",\"A\",\"A\",\"A\",\"A\",\"A\",\"A\",\"A\",\"A\",\"A\",\"A\",\"A\",\"A\",\"A\",\"A\",\"A\",\"A\",\"A\",\"A\",\"A\",\"A\",\"A\",\"A\",\"A\",\"A\",\"A\",\"A\",\"A\",\"A\",\"A\",\"A\",\"A\",\"A\",\"A\",\"A\",\"A\",\"A\",\"A\",\"A\",\"A\",\"A\",\"A\",\"A\",\"A\",\"A\",\"A\",\"A\",\"A\",\"A\",\"A\",\"A\",\"A\",\"A\",\"A\",\"A\",\"A\",\"A\",\"A\",\"A\",\"A\",\"A\",\"A\",\"A\",\"A\",\"A\",\"A\",\"A\",\"A\",\"A\",\"A\",\"A\",\"A\",\"A\",\"A\",\"A\",\"A\",\"A\",\"A\",\"A\",\"A\",\"A\",\"A\",\"A\",\"A\",\"A\",\"A\",\"A\",\"A\",\"A\",\"A\",\"A\",\"A\",\"A\",\"A\",\"A\",\"A\",\"A\",\"A\",\"A\",\"A\",\"A\",\"A\",\"A\",\"A\",\"A\",\"A\",\"A\",\"A\",\"A\",\"A\",\"A\",\"A\",\"A\",\"A\",\"A\",\"A\",\"A\",\"A\",\"A\",\"A\",\"A\",\"A\",\"A\",\"A\",\"A\",\"A\",\"A\",\"A\",\"A\",\"A\",\"A\",\"A\",\"A\",\"A\",\"A\",\"A\",\"A\",\"A\",\"A\",\"A\",\"A\",\"A\",\"A\",\"A\",\"A\",\"A\",\"A\",\"A\",\"A\",\"A\",\"A\",\"A\",\"A\",\"A\",\"A\",\"A\",\"A\",\"A\",\"A\",\"A\",\"A\",\"A\",\"A\",\"A\",\"A\",\"A\",\"A\",\"A\",\"A\",\"A\",\"A\",\"A\",\"A\",\"A\",\"A\",\"A\",\"A\",\"A\",\"A\",\"A\",\"A\",\"A\",\"A\",\"A\",\"A\",\"A\",\"A\",\"A\",\"A\",\"A\",\"A\",\"A\",\"A\",\"A\",\"A\",\"A\",\"A\",\"A\",\"A\",\"A\",\"A\",\"A\",\"A\",\"A\",\"A\",\"A\",\"A\",\"A\",\"A\",\"A\",\"A\",\"A\",\"B\",\"B\",\"B\",\"B\",\"B\",\"B\",\"B\",\"B\",\"B\",\"B\",\"B\",\"B\",\"B\",\"B\",\"B\",\"B\",\"B\",\"B\",\"B\",\"B\",\"B\",\"B\",\"B\",\"B\",\"B\",\"B\",\"B\",\"B\",\"B\",\"B\",\"B\",\"B\",\"B\",\"B\",\"B\",\"B\",\"B\",\"B\",\"B\",\"B\",\"B\",\"B\",\"B\",\"B\",\"B\",\"B\",\"B\",\"B\",\"B\",\"B\",\"B\",\"B\",\"B\",\"B\",\"B\",\"B\",\"B\",\"B\",\"B\",\"B\",\"B\",\"B\",\"B\",\"B\",\"B\",\"B\",\"B\",\"B\",\"B\",\"B\",\"B\",\"B\",\"B\",\"B\",\"B\",\"B\",\"B\",\"B\",\"B\",\"B\",\"B\",\"B\",\"B\",\"B\",\"B\",\"B\",\"B\",\"B\",\"B\",\"B\",\"B\",\"B\",\"B\",\"B\",\"B\",\"B\",\"B\",\"B\",\"B\",\"B\",\"B\",\"B\",\"B\",\"B\",\"B\",\"B\",\"B\",\"B\",\"B\",\"B\",\"B\",\"B\",\"B\",\"B\",\"B\",\"B\",\"B\",\"B\",\"B\",\"B\",\"B\",\"B\",\"B\",\"B\",\"B\",\"B\",\"B\",\"B\",\"B\",\"B\",\"B\",\"B\",\"B\",\"B\",\"B\",\"B\",\"B\",\"B\",\"B\",\"B\",\"B\",\"B\",\"B\",\"B\",\"B\",\"B\",\"B\",\"B\",\"B\",\"B\",\"B\",\"B\",\"B\",\"B\",\"B\",\"B\",\"B\",\"B\",\"B\",\"B\",\"B\",\"B\",\"B\",\"B\",\"B\",\"B\",\"B\",\"B\",\"B\",\"B\",\"B\",\"B\",\"B\",\"B\",\"B\",\"B\",\"B\",\"B\",\"B\",\"B\",\"B\",\"B\",\"B\",\"B\",\"B\",\"B\",\"B\",\"B\",\"B\",\"B\",\"B\",\"B\",\"B\",\"B\",\"B\",\"B\",\"B\",\"B\",\"B\",\"B\",\"B\",\"B\",\"B\",\"B\",\"B\",\"B\",\"B\",\"B\",\"B\",\"B\",\"B\",\"B\",\"B\",\"B\",\"B\",\"B\",\"B\",\"B\",\"B\",\"B\",\"B\",\"B\",\"B\",\"B\",\"B\",\"B\",\"B\",\"B\",\"B\",\"B\",\"B\",\"B\",\"B\",\"B\",\"B\",\"B\",\"B\",\"B\",\"B\",\"B\",\"B\",\"B\",\"B\",\"B\",\"B\",\"B\",\"B\",\"B\",\"B\",\"B\",\"B\",\"B\",\"B\",\"B\",\"B\",\"B\",\"B\",\"B\",\"B\",\"B\",\"B\",\"B\",\"B\",\"B\",\"B\",\"B\",\"B\",\"B\",\"B\",\"B\",\"B\",\"B\",\"B\",\"B\",\"B\",\"B\",\"B\",\"B\",\"B\",\"B\",\"B\",\"B\",\"B\",\"B\",\"B\",\"B\",\"B\",\"B\",\"B\",\"B\",\"B\",\"B\",\"B\",\"B\",\"B\",\"B\",\"B\",\"B\",\"B\",\"B\",\"B\",\"B\",\"B\",\"B\",\"B\",\"B\",\"B\",\"B\",\"B\",\"B\",\"B\",\"B\",\"B\",\"B\",\"B\",\"B\",\"B\",\"B\",\"B\",\"B\",\"B\",\"B\",\"B\",\"B\",\"B\",\"B\",\"B\",\"B\",\"B\",\"B\",\"B\",\"B\",\"B\",\"B\",\"B\",\"B\",\"B\",\"B\",\"B\",\"B\",\"B\",\"B\",\"B\",\"B\",\"B\",\"B\",\"B\",\"B\",\"B\",\"B\",\"B\",\"B\",\"B\",\"B\",\"B\",\"B\",\"B\",\"B\",\"B\",\"B\",\"B\",\"B\",\"B\",\"B\",\"B\",\"B\",\"B\",\"B\",\"B\",\"B\",\"B\",\"B\",\"B\",\"B\",\"B\",\"B\",\"B\",\"B\",\"B\",\"B\",\"B\",\"B\",\"B\",\"B\",\"B\",\"B\",\"B\",\"B\",\"B\",\"B\",\"B\",\"B\",\"B\",\"B\",\"B\",\"B\",\"B\",\"B\",\"B\",\"B\",\"B\",\"B\",\"B\",\"B\",\"B\",\"B\",\"B\",\"B\",\"B\",\"B\",\"B\",\"B\",\"B\",\"B\",\"B\",\"B\",\"B\",\"B\",\"B\",\"B\",\"B\",\"B\",\"B\",\"B\",\"B\",\"B\",\"B\",\"B\",\"B\",\"B\",\"B\",\"B\",\"B\",\"B\",\"B\",\"B\",\"B\",\"B\",\"B\",\"B\",\"B\",\"B\",\"B\",\"B\",\"B\",\"B\",\"B\",\"B\",\"B\",\"B\",\"B\",\"B\",\"B\",\"B\",\"B\",\"B\",\"B\",\"B\",\"B\",\"B\",\"B\",\"B\",\"B\",\"B\",\"B\",\"B\",\"B\",\"B\",\"B\",\"B\",\"B\",\"B\",\"B\",\"B\",\"B\",\"B\",\"B\",\"B\",\"B\",\"B\",\"B\",\"B\",\"B\",\"B\",\"B\",\"B\",\"B\",\"B\",\"B\",\"B\",\"B\",\"B\",\"B\",\"B\",\"B\",\"B\",\"B\",\"B\",\"B\",\"B\",\"B\",\"B\",\"B\",\"B\",\"B\",\"B\",\"B\",\"B\",\"B\",\"B\",\"B\",\"B\"],\n",
       "'..density..':[0.020775164646934997,0.021143636677477522,0.021462786627733245,0.02173131055335908,0.021948420947000346,0.022113859336420624,0.02222790142370463,0.022291354932264976,0.022305550514083713,0.02227232624264303,0.02219400637156799,0.022073375169976508,0.021913646748601644,0.021718431862622026,0.021491702715640843,0.021237756793447766,0.020961180726381666,0.020666815116820832,0.020359721176256042,0.02004514989829944,0.019728514354481516,0.01941536554413148,0.019111372063845115,0.018822303692096906,0.01855401881654385,0.018312455471373282,0.018103625605108357,0.017933612070412115,0.017808567720639278,0.017734715916262914,0.017718351689928174,0.017765842792777452,0.017883629846811695,0.018078224857341896,0.018356207394045063,0.018724217825941813,0.01918894709123889,0.019757122593385745,0.020435489935475674,0.02123079033170819,0.02214973366245327,0.023198967264135548,0.02438504066264638,0.025714366565734684,0.027193178522866797,0.02882748573812092,0.03062302558129115,0.03258521438380791,0.0347190971294242,0.03702929665572265,0.03951996297293906,0.042194723283563544,0.04505663325239908,0.048108130035330925,0.05135098752935583,0.05478627425987484,0.05841431427723905,0.06223465139616469,0.06624601708160531,0.0704463022651194,0.0748325333681209,0.07940085281325406,0.08414650432219803,0.08906382332621812,0.09414623285255125,0.09938624529209678,0.10477547049796324,0.11030463070551998,0.11596358279760959,0.12174134845803368,0.12762615275689757,0.13360547168769013,0.1396660891234777,0.1457941635745424,0.15197530500961076,0.15819466184634187,0.16443701802441738,0.17068689984868443,0.17692869203446215,0.18314676210834807,0.18932559202344604,0.19544991554725993,0.20150485968426857,0.2074760881150821,0.2133499443822334,0.21911359234129343,0.22475515123676693,0.23026382266573556,0.23563000666743641,0.24084540423077958,0.24590310364851187,0.2507976483677343,0.25552508429003473,0.26008298485562525,0.26447045269632297,0.26868809715076325,0.2727379874878609,0.2766235822649683,0.2803496358374862,0.28392208361778515,0.28734790823394873,0.2906349892441341,0.2937919395026786,0.29682793163375576,0.2997525183343731,0.30257545039090866,0.30530649634593515,0.30795526769239845,0.31053105330187336,0.31304266651819973,0.3154983079765321,0.3179054467533464,0.32027072193064965,0.32259986608515306,0.32489765160961526,0.3271678601587039,0.3294132749053796,0.3316356947148559,0.3338359688090835,0.336014050020725,0.33816906433436533,0.3402993940939242,0.3424027720252294,0.3444763830845834,0.34651697109763896,0.34852094719469945,0.35048449717249425,0.3524036851100892,0.35427455082736936,0.3560931990866489,0.3578558787887057,0.35955905079084083,0.36119944336356086,0.3627740946919428,0.36428038220642933,0.36571603888587423,0.36707915700473426,0.36836818008986705,0.36958188410548126,0.3707193490943994,0.3717799226683733,0.37276317685982713,0.3736688599234117,0.37449684471055106,0.37524707523697143,0.37591951302595045,0.3765140847428232,0.3770306325435524,0.37746886844622574,0.3778283339032517,0.37810836560764627,0.37830806841247555,0.3784262960812515,0.3784616404212934,0.3784124291839187,0.378276732946393,0.37805238102229183,0.37773698628039115,0.37732797858842415,0.37682264643798286,0.3762181861515185,0.37551175792297753,0.3747005478014617,0.3737818345940586,0.37275306054160545,0.3716119045117577,0.3703563563598772,0.3689847910325086,0.36749604093338273,0.36588946504065467,0.36416501325914186,0.3623232845148736,0.3603655771532573,0.35829393028779755,0.35611115486412764,0.3538208533537356,0.3514274271718547,0.34893607112219777,0.3463527544040447,0.3436841879702602,0.3409377782926586,0.33812156786751607,0.33524416307211813,0.3323146502556591,0.3293425012071666,0.3263374693819804,0.32330947847978275,0.3202685051448377,0.3172244576977693,0.3141870529035758,0.3111656928299807,0.30816934385233063,0.3052064198163966,0.30228467128054953,0.2994110826272331,0.296591778665297,0.2938319421454818,0.29113574338809023,0.2885062829820436,0.2859455482658974,0.28345438405161416,0.2810324778082464,0.2786783592916981,0.27638941439399184,0.2741619127953135,0.271991048837553,0.2698709949006958,0.2677949664533846,0.26575529786508684,0.263743528007144,0.2617504946301939,0.2597664364818793,0.2577811021168561,0.25578386434620426,0.2537638392709453,0.25171000884046035,0.24961134586798486,0.24745694041973354,0.2452361264704196,0.2429386076861157,0.24055458115676098,0.2380748578577004,0.23549097857589113,0.23279532399620462,0.2299812176115248,0.22704302010237376,0.2239762138328426,0.22077747613467852,0.21744474010481543,0.21397724172695246,0.2103755522473351,0.2066415948897066,0.20277864518413133,0.19879131440708064,0.19468551588249167,0.19046841417058452,0.18614835746701805,0.18173479384225746,0.17723817226185554,0.17266982963414532,0.16804186542383281,0.16336700563946954,0.15865845824149866,0.15392976221791335,0.1491946327299999,0.1444668048357566,0.1397598783495174,0.13508716639064455,0.13046155011124058,0.12589534197357388,0.12140015977498059,0.11698681339552806,0.11266520597731677,0.10844425094077784,0.10433180591054006,0.10033462426999373,0.0964583246987096,0.09270737867968197,0.089085115603248,0.08559374475043337,0.08223439311872838,0.07900715776546603,0.07591117109454051,0.07294467730652215,0.0701051180742786,0.06738922539862308,0.06479311954243881,0.06231240993689616,0.059942296998119066,0.057677672883987216,0.05551321935450601,0.053443501070141945,0.051463052864629606,0.04956645975531483,0.04774842869793677,0.046003851346515016,0.044327857335339775,0.04271585785184155,0.041163579509647726,0.03966708875436673,0.038222807235287974,0.03682751874991212,0.03547836851170075,0.03417285560243486,0.032908819548000866,0.031684422000294934,0.030498124519356608,0.029348663430900358,0.028235022688098334,0.027156405596516203,0.02611220617184508,0.02510198079625907,0.024125420725831962,0.023182325883493927,0.022272580254374147,0.021396129087612424,0.020552958004916414,0.01974307402474757,0.01896648843478614,0.018223201386187826,0.01751318804219551,0.01683638609114587,0.016192684429216852,0.015581912830027198,0.015003832444369387,0.014458127011298883,0.013944394708452728,0.013462140621464952,0.013010769866200762,0.012589581449781053,0.012197763003735545,0.011834386562152766,0.011498405586887663,0.01118865345879305,0.010903843657249503,0.010642571839342418,0.010403320004941931,0.010184462895429873,0.00998427672327971,0.009800950269093757,0.009632598314477984,0.00947727730609298,0.009333003071405437,0.009197770333221033,0.009069573701119786,0.008946429756380587,0.008826399795523637,0.008707612758467055,0.00858828784224573,0.008466756291473386,0.008341481862841112,0.008211079482914439,0.00807433165568394,0.00793020222753657,0.007777847180822174,0.007616622200829224,0.007446086842246677,0.007266005207325979,0.007076343136088018,0.006877261996153549,0.006669109243311208,0.006452406001178745,0.006227831976951732,0.005996208088330009,0.0057584772227536095,0.005515683583020678,0.005268951092640747,0.005019461339826615,0.004768431531240747,0.0045170929063137666,0.004266670031348403,0.004018361351232308,0.0037733213271713265,0.0035326444333521096,0.0032973512258642206,0.0030683766355857818,0.0028465605750234474,0.002632640889131872,0.0024272486235679424,0.0022309055320789387,0.0020440236989378137,0.0018669071133951584,0.0016997550015988893,0.0015426666976332709,0.001395647819272148,0.0012586175054989032,0.0011314164713726203,0.0010138156407872448,9.055251283062965E-4,8.062033566854217E-4,7.15466115982636E-4,6.328953923417278E-4,5.580478186715768E-4,4.904626246289688E-4,4.2966898871131217E-4,3.75192720134618E-4,3.265622218722016E-4,2.8331370823597024E-4,2.4499567028785747E-4,2.1117259988353266E-4,1.8142799809568264E-4,1.5536670606407357E-4,1.3261660599072869E-4,1.1282974713578254E-4,9.568295643244657E-5,8.087799593759614E-5,6.81413300131042E-5,5.722356415983597E-5,4.789861507874051E-5,3.996266808865871E-5,3.323297375513901E-5,2.7546530728512892E-5,2.2758696579678082E-5,1.874176305891051E-5,1.5383526858205993E-5,1.2585881773177123E-5,1.0263453249170988E-5,8.342291742973125E-6,6.758637195355303E-6,5.45776322689505E-6,4.392906455913362E-6,3.524283592108196E-6,2.818196667834378E-6,2.2462249056674342E-6,1.7845002527629076E-6,1.4130625012601434E-6,1.1152891183038261E-6,8.773943868806232E-7,6.879921678477974E-7,5.37716494306828E-7,4.1889426458455006E-7,3.252644755949679E-7,2.5173870404299244E-7,1.9419787245724383E-7,1.4932070794133994E-7,1.1443969509736522E-7,8.742072559525801E-8,6.656304333717688E-8,5.0516466954154044E-8,3.8213233823951244E-8,2.8812147389316255E-8,2.165301953045277E-8,1.6219680788470505E-8,1.2110083167726682E-8,9.012243752006048E-9,6.6849737747295064E-9,4.942508846677645E-9,3.64230379991035E-9,2.6753822298022506E-9,1.9587385233894113E-9,1.4293811271151182E-9,1.0396821098014224E-9,7.537616613337173E-10,5.446888188582663E-10,3.923230432484644E-10,2.816567170650866E-10,2.0154746736910682E-10,1.4375253515779997E-10,1.0219616836513929E-10,7.241601893280052E-11,5.1146463417586015E-11,3.6006217651488556E-11,2.5265059429441234E-11,1.7670306133379912E-11,1.2318242514637414E-11,8.559223216754487E-12,5.927900161460006E-12,4.092119743606214E-12,2.815637306719214E-12,1.9310166219284163E-12,1.3200070078367142E-12,8.993886127989225E-13,6.108006002277004E-13,4.1345899827343997E-13,2.789628447541437E-13,1.876036138769063E-13,1.2575259583133776E-13,8.401825140478227E-14,5.595143635944903E-14,3.713896208229112E-14,2.457136061257429E-14,1.6203527475555083E-14,1.0650521041327609E-14,6.9777123185800235E-15,4.5565504802688085E-15,2.965788878750379E-15,1.924089186862474E-15,1.2442025462192545E-15,8.019326445573364E-16,5.151878591919904E-16,3.2989388636429403E-16,2.1055416393672533E-16,1.3394741037222477E-16,8.493481182575356E-17,5.368068586285495E-17,3.3816706098213284E-17,2.1233689868010832E-17,1.3289252603069678E-17,8.290038798341046E-18,5.154582433778681E-18,3.1945621039610717E-18,1.9733771779226313E-18,1.2150377936908195E-18,7.456763894899726E-19,4.561334450542734E-19,2.781085635336806E-19,1.6901207211770668E-19,1.0237690838347945E-19,6.181120557496552E-20,3.7197464476142286E-20,2.231209656376636E-20,1.3339770060055987E-20,7.949452636046016E-21,4.72179391561468E-21,2.795488757330036E-21,1.6496408078852039E-21,9.702908869368086E-22,5.688469490899496E-22,3.32406749485291E-22,1.9360882688222397E-22,1.1239872714057753E-22,6.503970343798871E-23,3.7512553792598616E-23,2.156530623730416E-23,1.2357071165822671E-23,7.05758935832155E-24,4.0177059016174125E-24,2.2797163814748448E-24,1.2893309758363133E-24,7.268234534267544E-25,4.0838931305491538E-25,2.287181998528045E-25,0.0120494274498636,0.012136327477096373,0.012209899131962583,0.012270033796334486,0.012316685603832388,0.01234987293576233,0.012369679586252897,0.012376255588571684,0.01236981769726929,0.012350649523493414,0.012319101323506944,0.012275589443104452,0.012220595423222094,0.012154664774550072,0.012078405431359707,0.011992485897024395,0.011897633095825349,0.011794629947569319,0.011684312683291122,0.01156756792185525,0.01144532952859824,0.011318575278259493,0.011188323345328504,0.011055628645591007,0.010921579053085571,0.010787291516892235,0.010653908102171223,0.010522591979664203,0.010394523387473266,0.010270895588358338,0.010152910845057287,0.010041776435250447,0.009938700726781236,0.009844889332623454,0.009761541363873184,0.009689845797756506,0.009630977976300924,0.009586096249936362,0.009556338778885712,0.009542820503791063,0.009546630295612995,0.009568828293448618,0.009610443437549559,0.009672471203493405,0.009755871542176376,0.009861567029058473,0.009990441224906327,0.010143337249147465,0.01032105656587147,0.010524357981488342,0.010753956852080988,0.01101052449756248,0.011294687818867853,0.011607029113569596,0.011948086084501174,0.012318352035200588,0.012718276245240679,0.013148264517792498,0.01360867989106778,0.01409984350460578,0.014622035610706048,0.015175496720662292,0.015760428874824275,0.016376997024905963,0.01702533051637396,0.017705524658192005,0.018417642366674196,0.019161715869714442,0.019937748457222324,0.02074571626321382,0.021585570064685696,0.022457237082157237,0.023360622766598428,0.024295612557390465,0.025262073595990232,0.026259856380104127,0.02728879634342526,0.028348715346357283,0.02943942306364435,0.030560718255453298,0.03171238990921212,0.03289421824040075,0.034105975541513865,0.03534742686956796,0.036618330563801475,0.037918438586611404,0.039247496682273425,0.040605244349596246,0.04199141462635009,0.04340573368507549,0.04484792024170247,0.04631768478028039,0.04781472859901429,0.04933874268471234,0.05088940642464814,0.05246638616671681,0.054069333640594054,0.05569788425437801,0.05735165528288198,0.059030243965340644,0.0607332255317734,0.062460151178598426,0.06421054601530313,0.06598390700502643,0.06777970092279494,0.06959736235585753,0.07143629177108264,0.07329585367469735,0.07517537488976646,0.07707414297671596,0.07899140482189897,0.08092636541868221,0.0828781868647955,0.0848459875987305,0.08682884189681303,0.08882577965118736,0.09083578644737207,0.09285780395824803,0.09489073066936139,0.09693342294824453,0.09898469646810364,0.10104332799370154,0.10310805753457243,0.10517759086788922,0.1072506024303331,0.10932573857524862,0.11140162118819034,0.11347685165072084,0.11555001513900258,0.11761968524039335,0.11968442886788601,0.12174281144890536,0.12379340236166508,0.12583478058907172,0.12786554055702962,0.12988429812102115,0.13188969666201003,0.13388041325009947,0.13585516483199955,0.13781271439624498,0.13975187706830827,0.14167152608628678,0.1435705986067625,0.1454481012897458,0.14730311561136847,0.14913480285320455,0.1509424087177892,0.15272526752110357,0.1544828059145067,0.15621454609082416,0.15792010843207827,0.1595992135596253,0.16125168375127802,0.16287744369429788,0.1644765205479324,0.16604904329440948,0.16759524136295462,0.1691154425174214,0.17061007000446657,0.17207963896581543,0.17352475212497168,0.1749460947656734,0.17634442902640934,0.1777205875423042,0.17907546647259198,0.1804100179586181,0.18172524206380505,0.18302217825313946,0.1843018964754724,0.18556548791714722,0.18681405550012387,0.18804870420178432,0.18927053127691706,0.1904806164649178,0.1916800122669913,0.19286973437901525,0.1940507523657332,0.19522398066104799,0.19639026997736753,0.19755039920424255,0.198705067872915,0.19985488925890604,0.20100038418945868,0.20214197561652988,0.20327998400921118,0.2044146236119429,0.20554599960683587,0.20667410620983712,0.20779882572152983,0.2089199285440858,0.21003707416646086,0.2111498131103862,0.21225758982021783,0.21335974647036315,0.21445552765489836,0.21554408591527757,0.21662448805376702,0.2176957221725537,0.21875670537145947,0.21980629203091684,0.22084328260141178,0.2218664328160418,0.2228744632392258,0.22386606906196643,0.22483993005245242,0.22579472057020453,0.2267291195524059,0.22764182038252978,0.2285315405538296,0.22939703104367395,0.23023708531903112,0.2310505478985636,0.23183632240273627,0.23259337902994504,0.23332076140389732,0.2340175927451724,0.23468308132797863,0.23531652519150317,0.23591731608377509,0.23648494262455252,0.23701899268226367,0.23751915496837903,0.23798521986065524,0.2384170794743744,0.23881472700789563,0.239178255395471,0.23950785530626567,0.23980381253378305,0.24006650482441536,0.24029639819751375,0.2404940428122298,0.24066006843835935,0.24079517958954585,0.24090015037745224,0.24097581914495764,0.24102308293504737,0.2410428918499546,0.2410362433522889,0.24100417655644357,0.24094776655457903,0.2408681188170135,0.24076636370202145,0.24064365110491315,0.24050114527096528,0.24034001979138764,0.24016145279613166,0.2399666223520817,0.23975670207010086,0.239532856919646,0.23929623924524826,0.23904798497521187,0.23878921000943826,0.23852100677039803,0.23824444089900634,0.23796054807551986,0.2376703309446071,0.2373747561234381,0.237074751271997,0.23677120220583753,0.23646495003311993,0.23615678829998746,0.23584746013107552,0.2355376553551588,0.2352280076095773,0.23491909142101175,0.23461141926440843,0.23430543860620673,0.23400152894249016,0.23369999884712161,0.23340108304927137,0.2331049395639193,0.2328116469028013,0.2325212013968253,0.2322335146641162,0.23194841126047605,0.23166562655115322,0.2313848048442965,0.231105497827336,0.23082716334771242,0.23054916457888042,0.23027076961130669,0.22999115150630176,0.22970938884793743,0.229424466825085,0.22913527887174556,0.2288406288894271,0.2285392340703585,0.22822972833492639,0.2279106663908986,0.22758052841589063,0.22723772535814374,0.2268806048441835,0.22650745767532446,0.2261165248884256,0.2257060053498359,0.22527406384519544,0.22481883962177063,0.2243384553343566,0.22383102634057603,0.22329467028669825,0.22272751692095558,0.22212771806781093,0.22149345769376874,0.2208229619931625,0.22011450942092442,0.21936644059867214,0.2185771680205229,0.21774518548589816,0.21686907718817242,0.21594752639034653,0.21497932362196376,0.21396337433517762,0.2128987059622088,0.2117844743213227,0.21061996932387178,0.2094046199408125,0.2081379983933477,0.20681982353891776,0.20544996343055796,0.2040284370346072,0.2025554150988057,0.2010312201698825,0.19945632576673156,0.19783135472213687,0.19615707671266022,0.19443440500268117,0.19266439243462488,0.19084822670305296,0.18898722495549505,0.1870828277676135,0.1851365925444518,0.18315018640315156,0.18112537859552164,0.17906403253127595,0.17696809746453124,0.1748395999073377,0.17268063483454857,0.17049335674427848,0.16827997063751962,0.16604272297925946,0.16378389270163962,0.16150578230739598,0.15921070912903587,0.1569009967959875,0.15457896695834103,0.15224693131185868,0.1499071839646752,0.14756199418164045,0.14521359953758217,0.14286419950598633,0.14051594950471774,0.13817095541552976,0.13583126858926037,0.133498881343857,0.1311757229577451,0.12886365615661907,0.1265644740875226,0.12427989777013373,0.12201157401152951,0.11976107376739106,0.11752989092965409,0.11531944151803711,0.11313106325070128,0.11096601546752137,0.10882547937808847,0.10671055860561453,0.10462227999736423,0.10256159467209125,0.10052937927519005,0.09852643741285766,0.09655350123749512,0.09461123315779946,0.09270022764851361,0.09082101313653985,0.08897405394207537,0.0871597522555382,0.08537845013328565,0.08363043149744281,0.0819159241275155,0.08023510163381323,0.07858808540502818,0.07697494652454943,0.0753957076522186,0.07385034487021375,0.07233878949355081,0.0708609298473023,0.06941661301401418,0.06800564655595287,0.06662780021771003,0.06528280761533531,0.06397036791854589,0.06269014753268687,0.061441781786984756,0.060224876635269285,0.059039010374742594,0.05788373538757662,0.05675857990913214,0.055663049825453594,0.05459663050142077,0.05355878863956584,0.052548974168124846,0.05156662215541623,0.05061115474615747,0.04968198311388327,0.04877850942223353,0.04790012878658333,0.047046231226301645,0.046216203596891076,0.045409431490386926,0.04462530109171361,0.04386320097821337,0.0431225238493002,0.042402668173148514,0.041703039737518564,0.0410230530922367,0.0403621328714954,0.03971971498500084,0.039095247668069454,0.03848819238203907,0.03789802455780212,0.0373242341768644,0.03676632618605831,0.036223820743873605,0.03569625329827738,0.03518317449785627,0.034684149940091176,0.03419875976254572,0.03372659808467601,0.033267272309829295,0.032820402298757954,0.03238561942761063,0.0319625655448458,0.03155089184282266,0.031150257660940265,0.030760329238098502,0.030380778432930605,0.030011281430695314,0.029651517455906762,0.0293011675097225,0.028959913150796223,0.028627435337744207,0.028303413350568976,0.02798752380734984,0.027679439791253632,0.027378830101460715,0.027085358639958895,0.026798683944352836,0.0265184588748953,0.026244330461891403,0.025975939917491267,0.025712922813694222,0.025454909426171436,0.025201525241305547,0.024952391621670834,0.024707126623071608,0.024465345954243857,0.024226664068436942,0.02399069537435087,0.02375705555233734,0.02352536296039844,0.023295240113354144,0.023066315217615728,0.022838223743305967,0.022610610015020943,0.022383128802332883,0.022155446891194384,0.021927244617715072,0.021698217346340153,0.021468076875251714,0.021236552752830883,0.02100339349023896,0.020768367656585837,0.020531264844725255,0.020291896497432446,0.02005009658554597,0.01980572213157072,0.019558653574212402,0.019308794971313065,0.01905607404065985,0.018800442040107487,0.01854187349036942,0.018280365745659253,0.018015938419082042,0.017748632671260554,0.017478510372111605,0.01720565314694835,0.01693016131915658,0.016652152762569573,0.016371761677334243,0.01608913730352031,0.015804442586969763,0.015517852811919346,0.015229554214760887,0.014939742592937191,0.014648621922424127,0.014356402996526645,0.014063302097845681,0.013769539714262084,0.013475339308662636,0.013180926150916872,0.012886526219327352,0.012592365177444729,0.012298667430780348,0.01200565526659346,0.01171354807859094,0.011422561677084008,0.011132907683911175,0.010844793010281201,0.010558419414630456,0.0102739831366342,0.009991674602679648,0.009711678197400639]\n",
       "},\n",
       "'alpha':0.3,\n",
       "'position':\"identity\",\n",
       "'geom':\"density\"\n",
       "}]\n",
       "};\n",
       "           var plotContainer = document.getElementById(\"bmpmZS\");\n",
       "           window.letsPlotCall(function() {{\n",
       "               LetsPlot.buildPlotFromProcessedSpecs(plotSpec, -1, -1, plotContainer);\n",
       "           }});\n",
       "       })();    \n",
       "   </script>"
      ]
     },
     "execution_count": 3,
     "metadata": {},
     "output_type": "execute_result"
    }
   ],
   "source": [
    "val rand = java.util.Random()\n",
    "val data1 = mapOf<String, Any>(\n",
    "    \"rating\" to List(200) { rand.nextGaussian() } + List(200) { rand.nextGaussian() * 1.5 + 1.5 },\n",
    "    \"cond\" to List(200) { \"A\" } + List(200) { \"B\" }\n",
    ")\n",
    "\n",
    "var p = lets_plot(data1)\n",
    "p += geom_density(color=\"dark_green\", alpha=.3) {x=\"rating\"; fill=\"cond\"}\n",
    "p + ggsize(500, 250)"
   ]
  },
  {
   "cell_type": "markdown",
   "metadata": {},
   "source": [
    "Configuring Maven dependencies"
   ]
  },
  {
   "cell_type": "code",
   "execution_count": 1,
   "metadata": {
    "ExecuteTime": {
     "end_time": "2020-07-05T06:14+0800",
     "start_time": "2020-07-05T06:13+0800"
    }
   },
   "outputs": [],
   "source": [
    "@file:Repository(\"https://repo1.maven.org/maven2\")\n",
    "@file:DependsOn(\"org.nield:kotlin-statistics:1.2.1\")"
   ]
  },
  {
   "cell_type": "code",
   "execution_count": 2,
   "metadata": {
    "ExecuteTime": {
     "end_time": "2020-07-05T06:14+0800",
     "start_time": "2020-07-05T06:14+0800"
    }
   },
   "outputs": [],
   "source": [
    "import java.time.LocalDate\n",
    "import java.time.temporal.ChronoUnit\n",
    "import org.nield.kotlinstatistics.*\n",
    "\n",
    "data class Patient(val firstName: String,\n",
    "                   val lastName: String,\n",
    "                   val gender: Gender,\n",
    "                   val birthday: LocalDate,\n",
    "                   val whiteBloodCellCount: Int) {\n",
    "\n",
    "    val age = ChronoUnit.YEARS.between(birthday, LocalDate.now())\n",
    "}\n",
    "\n",
    "val patients = listOf(\n",
    "        Patient(\"John\", \"Simone\", Gender.MALE, LocalDate.of(1989, 1, 7), 4500),\n",
    "        Patient(\"Sarah\", \"Marley\", Gender.FEMALE, LocalDate.of(1970, 2, 5), 6700),\n",
    "        Patient(\"Jessica\", \"Arnold\", Gender.FEMALE, LocalDate.of(1980, 3, 9), 3400),\n",
    "        Patient(\"Sam\", \"Beasley\", Gender.MALE, LocalDate.of(1981, 4, 17), 8800),\n",
    "        Patient(\"Dan\", \"Forney\", Gender.MALE, LocalDate.of(1985, 9, 13), 5400),\n",
    "        Patient(\"Lauren\", \"Michaels\", Gender.FEMALE, LocalDate.of(1975, 8, 21), 5000),\n",
    "        Patient(\"Michael\", \"Erlich\", Gender.MALE, LocalDate.of(1985, 12, 17), 4100),\n",
    "        Patient(\"Jason\", \"Miles\", Gender.MALE, LocalDate.of(1991, 11, 1), 3900),\n",
    "        Patient(\"Rebekah\", \"Earley\", Gender.FEMALE, LocalDate.of(1985, 2, 18), 4600),\n",
    "        Patient(\"James\", \"Larson\", Gender.MALE, LocalDate.of(1974, 4, 10), 5100),\n",
    "        Patient(\"Dan\", \"Ulrech\", Gender.MALE, LocalDate.of(1991, 7, 11), 6000),\n",
    "        Patient(\"Heather\", \"Eisner\", Gender.FEMALE, LocalDate.of(1994, 3, 6), 6000),\n",
    "        Patient(\"Jasper\", \"Martin\", Gender.MALE, LocalDate.of(1971, 7, 1), 6000)\n",
    ")\n",
    "\n",
    "enum class Gender {\n",
    "    MALE,\n",
    "    FEMALE\n",
    "}\n",
    "\n",
    "val clusters = patients.multiKMeansCluster(k = 3,\n",
    "        maxIterations = 10000,\n",
    "        trialCount = 50,\n",
    "        xSelector = { it.age.toDouble() },\n",
    "        ySelector = { it.whiteBloodCellCount.toDouble() }\n",
    ")"
   ]
  },
  {
   "cell_type": "code",
   "execution_count": 3,
   "metadata": {
    "ExecuteTime": {
     "end_time": "2020-07-05T06:14+0800",
     "start_time": "2020-07-05T06:14+0800"
    }
   },
   "outputs": [
    {
     "name": "stdout",
     "output_type": "stream",
     "text": [
      "CENTROID: 0\r\n",
      "\tPatient(firstName=Dan, lastName=Forney, gender=MALE, birthday=1985-09-13, whiteBloodCellCount=5400)\r\n",
      "\tPatient(firstName=Lauren, lastName=Michaels, gender=FEMALE, birthday=1975-08-21, whiteBloodCellCount=5000)\r\n",
      "\tPatient(firstName=James, lastName=Larson, gender=MALE, birthday=1974-04-10, whiteBloodCellCount=5100)\r\n",
      "\tPatient(firstName=Dan, lastName=Ulrech, gender=MALE, birthday=1991-07-11, whiteBloodCellCount=6000)\r\n",
      "\tPatient(firstName=Heather, lastName=Eisner, gender=FEMALE, birthday=1994-03-06, whiteBloodCellCount=6000)\r\n",
      "\tPatient(firstName=Jasper, lastName=Martin, gender=MALE, birthday=1971-07-01, whiteBloodCellCount=6000)\r\n",
      "CENTROID: 1\r\n",
      "\tPatient(firstName=John, lastName=Simone, gender=MALE, birthday=1989-01-07, whiteBloodCellCount=4500)\r\n",
      "\tPatient(firstName=Jessica, lastName=Arnold, gender=FEMALE, birthday=1980-03-09, whiteBloodCellCount=3400)\r\n",
      "\tPatient(firstName=Michael, lastName=Erlich, gender=MALE, birthday=1985-12-17, whiteBloodCellCount=4100)\r\n",
      "\tPatient(firstName=Jason, lastName=Miles, gender=MALE, birthday=1991-11-01, whiteBloodCellCount=3900)\r\n",
      "\tPatient(firstName=Rebekah, lastName=Earley, gender=FEMALE, birthday=1985-02-18, whiteBloodCellCount=4600)\r\n",
      "CENTROID: 2\r\n",
      "\tPatient(firstName=Sarah, lastName=Marley, gender=FEMALE, birthday=1970-02-05, whiteBloodCellCount=6700)\r\n",
      "\tPatient(firstName=Sam, lastName=Beasley, gender=MALE, birthday=1981-04-17, whiteBloodCellCount=8800)\r\n"
     ]
    }
   ],
   "source": [
    "clusters.forEachIndexed { index, item ->\n",
    "    println(\"CENTROID: $index\")\n",
    "    item.points.forEach {\n",
    "        println(\"\\t$it\")\n",
    "    }\n",
    "}"
   ]
  },
  {
   "cell_type": "code",
   "execution_count": 39,
   "metadata": {
    "ExecuteTime": {
     "end_time": "2020-07-05T09:47+0800",
     "start_time": "2020-07-05T09:47+0800"
    }
   },
   "outputs": [],
   "source": [
    "@file:Repository(\"https://jcenter.bintray.com\")\n",
    "@file:DependsOn(\"com.beust:klaxon:5.0.1\")\n",
    "import com.beust.klaxon.*"
   ]
  },
  {
   "cell_type": "code",
   "execution_count": 40,
   "metadata": {
    "ExecuteTime": {
     "end_time": "2020-07-05T09:47+0800",
     "start_time": "2020-07-05T09:47+0800"
    }
   },
   "outputs": [],
   "source": [
    "// %use klaxon\n",
    "%use klaxon(5.2) // 指定版本"
   ]
  },
  {
   "cell_type": "markdown",
   "metadata": {},
   "source": [
    "## Koma"
   ]
  },
  {
   "cell_type": "code",
   "execution_count": 10,
   "metadata": {
    "ExecuteTime": {
     "end_time": "2020-07-05T15:07+0800",
     "start_time": "2020-07-05T07:07:01.279Z"
    },
    "collapsed": true
   },
   "outputs": [
    {
     "name": "stdout",
     "output_type": "stream",
     "text": [
      ":: problems summary ::\n",
      ":::: WARNINGS\n",
      "\t\tmodule not found: com.kyonifer#koma-core-ejml;0.12ABCDEF\n",
      "\n",
      "\t==== jcenter.bintray.com: tried\n",
      "\n",
      "\t  https://jcenter.bintray.com/com/kyonifer/koma-core-ejml/0.12ABCDEF/koma-core-ejml-0.12ABCDEF.pom\n",
      "\n",
      "\t  -- artifact com.kyonifer#koma-core-ejml;0.12ABCDEF!koma-core-ejml.jar:\n",
      "\n",
      "\t  https://jcenter.bintray.com/com/kyonifer/koma-core-ejml/0.12ABCDEF/koma-core-ejml-0.12ABCDEF.jar\n",
      "\n",
      "\t==== repo.maven.apache.org: tried\n",
      "\n",
      "\t  https://repo.maven.apache.org/maven2/com/kyonifer/koma-core-ejml/0.12ABCDEF/koma-core-ejml-0.12ABCDEF.pom\n",
      "\n",
      "\t  -- artifact com.kyonifer#koma-core-ejml;0.12ABCDEF!koma-core-ejml.jar:\n",
      "\n",
      "\t  https://repo.maven.apache.org/maven2/com/kyonifer/koma-core-ejml/0.12ABCDEF/koma-core-ejml-0.12ABCDEF.jar\n",
      "\n",
      "\t==== jitpack.io: tried\n",
      "\n",
      "\t  https://jitpack.io/com/kyonifer/koma-core-ejml/0.12ABCDEF/koma-core-ejml-0.12ABCDEF.pom\n",
      "\n",
      "\t  -- artifact com.kyonifer#koma-core-ejml;0.12ABCDEF!koma-core-ejml.jar:\n",
      "\n",
      "\t  https://jitpack.io/com/kyonifer/koma-core-ejml/0.12ABCDEF/koma-core-ejml-0.12ABCDEF.jar\n",
      "\n",
      "\t==== jetbrains.bintray.com: tried\n",
      "\n",
      "\t  https://jetbrains.bintray.com/lets-plot-maven/com/kyonifer/koma-core-ejml/0.12ABCDEF/koma-core-ejml-0.12ABCDEF.pom\n",
      "\n",
      "\t  -- artifact com.kyonifer#koma-core-ejml;0.12ABCDEF!koma-core-ejml.jar:\n",
      "\n",
      "\t  https://jetbrains.bintray.com/lets-plot-maven/com/kyonifer/koma-core-ejml/0.12ABCDEF/koma-core-ejml-0.12ABCDEF.jar\n",
      "\n",
      "\t==== central: tried\n",
      "\n",
      "\t  https://repo1.maven.org/maven2/com/kyonifer/koma-core-ejml/0.12ABCDEF/koma-core-ejml-0.12ABCDEF.pom\n",
      "\n",
      "\t  -- artifact com.kyonifer#koma-core-ejml;0.12ABCDEF!koma-core-ejml.jar:\n",
      "\n",
      "\t  https://repo1.maven.org/maven2/com/kyonifer/koma-core-ejml/0.12ABCDEF/koma-core-ejml-0.12ABCDEF.jar\n",
      "\n",
      "\t==== jcenter.bintray.com: tried\n",
      "\n",
      "\t  https://jcenter.bintray.com/kyonifer/maven/com/kyonifer/koma-core-ejml/0.12ABCDEF/koma-core-ejml-0.12ABCDEF.pom\n",
      "\n",
      "\t  -- artifact com.kyonifer#koma-core-ejml;0.12ABCDEF!koma-core-ejml.jar:\n",
      "\n",
      "\t  https://jcenter.bintray.com/kyonifer/maven/com/kyonifer/koma-core-ejml/0.12ABCDEF/koma-core-ejml-0.12ABCDEF.jar\n",
      "\n",
      "\t==== jcenter.bintray.com: tried\n",
      "\n",
      "\t  https://jcenter.bintray.com/kyonifer/maven/com/kyonifer/koma-core-ejml/0.12ABCDEF/koma-core-ejml-0.12ABCDEF.pom\n",
      "\n",
      "\t  -- artifact com.kyonifer#koma-core-ejml;0.12ABCDEF!koma-core-ejml.jar:\n",
      "\n",
      "\t  https://jcenter.bintray.com/kyonifer/maven/com/kyonifer/koma-core-ejml/0.12ABCDEF/koma-core-ejml-0.12ABCDEF.jar\n",
      "\n",
      "\t==== jcenter.bintray.com: tried\n",
      "\n",
      "\t  https://jcenter.bintray.com/kyonifer/maven/com/kyonifer/koma-core-ejml/0.12ABCDEF/koma-core-ejml-0.12ABCDEF.pom\n",
      "\n",
      "\t  -- artifact com.kyonifer#koma-core-ejml;0.12ABCDEF!koma-core-ejml.jar:\n",
      "\n",
      "\t  https://jcenter.bintray.com/kyonifer/maven/com/kyonifer/koma-core-ejml/0.12ABCDEF/koma-core-ejml-0.12ABCDEF.jar\n",
      "\n",
      "\t==== jcenter.bintray.com: tried\n",
      "\n",
      "\t  https://jcenter.bintray.com/kyonifer/maven/com/kyonifer/koma-core-ejml/0.12ABCDEF/koma-core-ejml-0.12ABCDEF.pom\n",
      "\n",
      "\t  -- artifact com.kyonifer#koma-core-ejml;0.12ABCDEF!koma-core-ejml.jar:\n",
      "\n",
      "\t  https://jcenter.bintray.com/kyonifer/maven/com/kyonifer/koma-core-ejml/0.12ABCDEF/koma-core-ejml-0.12ABCDEF.jar\n",
      "\n",
      "\t==== jcenter.bintray.com: tried\n",
      "\n",
      "\t  https://jcenter.bintray.com/kyonifer/maven/com/kyonifer/koma-core-ejml/0.12ABCDEF/koma-core-ejml-0.12ABCDEF.pom\n",
      "\n",
      "\t  -- artifact com.kyonifer#koma-core-ejml;0.12ABCDEF!koma-core-ejml.jar:\n",
      "\n",
      "\t  https://jcenter.bintray.com/kyonifer/maven/com/kyonifer/koma-core-ejml/0.12ABCDEF/koma-core-ejml-0.12ABCDEF.jar\n",
      "\n",
      "\t==== jcenter.bintray.com: tried\n",
      "\n",
      "\t  https://jcenter.bintray.com/kyonifer/maven/com/kyonifer/koma-core-ejml/0.12ABCDEF/koma-core-ejml-0.12ABCDEF.pom\n",
      "\n",
      "\t  -- artifact com.kyonifer#koma-core-ejml;0.12ABCDEF!koma-core-ejml.jar:\n",
      "\n",
      "\t  https://jcenter.bintray.com/kyonifer/maven/com/kyonifer/koma-core-ejml/0.12ABCDEF/koma-core-ejml-0.12ABCDEF.jar\n",
      "\n",
      "\t==== jcenter.bintray.com: tried\n",
      "\n",
      "\t  https://jcenter.bintray.com/kyonifer/maven/com/kyonifer/koma-core-ejml/0.12ABCDEF/koma-core-ejml-0.12ABCDEF.pom\n",
      "\n",
      "\t  -- artifact com.kyonifer#koma-core-ejml;0.12ABCDEF!koma-core-ejml.jar:\n",
      "\n",
      "\t  https://jcenter.bintray.com/kyonifer/maven/com/kyonifer/koma-core-ejml/0.12ABCDEF/koma-core-ejml-0.12ABCDEF.jar\n",
      "\n",
      "\t==== jcenter.bintray.com: tried\n",
      "\n",
      "\t  https://jcenter.bintray.com/kyonifer/maven/com/kyonifer/koma-core-ejml/0.12ABCDEF/koma-core-ejml-0.12ABCDEF.pom\n",
      "\n",
      "\t  -- artifact com.kyonifer#koma-core-ejml;0.12ABCDEF!koma-core-ejml.jar:\n",
      "\n",
      "\t  https://jcenter.bintray.com/kyonifer/maven/com/kyonifer/koma-core-ejml/0.12ABCDEF/koma-core-ejml-0.12ABCDEF.jar\n",
      "\n",
      "\t==== jcenter.bintray.com: tried\n",
      "\n",
      "\t  https://jcenter.bintray.com/kyonifer/maven/com/kyonifer/koma-core-ejml/0.12ABCDEF/koma-core-ejml-0.12ABCDEF.pom\n",
      "\n",
      "\t  -- artifact com.kyonifer#koma-core-ejml;0.12ABCDEF!koma-core-ejml.jar:\n",
      "\n",
      "\t  https://jcenter.bintray.com/kyonifer/maven/com/kyonifer/koma-core-ejml/0.12ABCDEF/koma-core-ejml-0.12ABCDEF.jar\n",
      "\n",
      "\t==== jcenter.bintray.com: tried\n",
      "\n",
      "\t  https://jcenter.bintray.com/kyonifer/maven/com/kyonifer/koma-core-ejml/0.12ABCDEF/koma-core-ejml-0.12ABCDEF.pom\n",
      "\n",
      "\t  -- artifact com.kyonifer#koma-core-ejml;0.12ABCDEF!koma-core-ejml.jar:\n",
      "\n",
      "\t  https://jcenter.bintray.com/kyonifer/maven/com/kyonifer/koma-core-ejml/0.12ABCDEF/koma-core-ejml-0.12ABCDEF.jar\n",
      "\n",
      ":: problems summary ::\n",
      ":::: WARNINGS\n",
      "\t\tmodule not found: com.kyonifer#koma-core-ejml;0.13\n",
      "\n",
      "\t==== jcenter.bintray.com: tried\n",
      "\n",
      "\t  https://jcenter.bintray.com/com/kyonifer/koma-core-ejml/0.13/koma-core-ejml-0.13.pom\n",
      "\n",
      "\t  -- artifact com.kyonifer#koma-core-ejml;0.13!koma-core-ejml.jar:\n",
      "\n",
      "\t  https://jcenter.bintray.com/com/kyonifer/koma-core-ejml/0.13/koma-core-ejml-0.13.jar\n",
      "\n",
      "\t==== repo.maven.apache.org: tried\n",
      "\n",
      "\t  https://repo.maven.apache.org/maven2/com/kyonifer/koma-core-ejml/0.13/koma-core-ejml-0.13.pom\n",
      "\n",
      "\t  -- artifact com.kyonifer#koma-core-ejml;0.13!koma-core-ejml.jar:\n",
      "\n",
      "\t  https://repo.maven.apache.org/maven2/com/kyonifer/koma-core-ejml/0.13/koma-core-ejml-0.13.jar\n",
      "\n",
      "\t==== jitpack.io: tried\n",
      "\n",
      "\t  https://jitpack.io/com/kyonifer/koma-core-ejml/0.13/koma-core-ejml-0.13.pom\n",
      "\n",
      "\t  -- artifact com.kyonifer#koma-core-ejml;0.13!koma-core-ejml.jar:\n",
      "\n",
      "\t  https://jitpack.io/com/kyonifer/koma-core-ejml/0.13/koma-core-ejml-0.13.jar\n",
      "\n",
      "\t==== jetbrains.bintray.com: tried\n",
      "\n",
      "\t  https://jetbrains.bintray.com/lets-plot-maven/com/kyonifer/koma-core-ejml/0.13/koma-core-ejml-0.13.pom\n",
      "\n",
      "\t  -- artifact com.kyonifer#koma-core-ejml;0.13!koma-core-ejml.jar:\n",
      "\n",
      "\t  https://jetbrains.bintray.com/lets-plot-maven/com/kyonifer/koma-core-ejml/0.13/koma-core-ejml-0.13.jar\n",
      "\n",
      "\t==== central: tried\n",
      "\n",
      "\t  https://repo1.maven.org/maven2/com/kyonifer/koma-core-ejml/0.13/koma-core-ejml-0.13.pom\n",
      "\n",
      "\t  -- artifact com.kyonifer#koma-core-ejml;0.13!koma-core-ejml.jar:\n",
      "\n",
      "\t  https://repo1.maven.org/maven2/com/kyonifer/koma-core-ejml/0.13/koma-core-ejml-0.13.jar\n",
      "\n",
      "\t==== jcenter.bintray.com: tried\n",
      "\n",
      "\t  https://jcenter.bintray.com/kyonifer/maven/com/kyonifer/koma-core-ejml/0.13/koma-core-ejml-0.13.pom\n",
      "\n",
      "\t  -- artifact com.kyonifer#koma-core-ejml;0.13!koma-core-ejml.jar:\n",
      "\n",
      "\t  https://jcenter.bintray.com/kyonifer/maven/com/kyonifer/koma-core-ejml/0.13/koma-core-ejml-0.13.jar\n",
      "\n",
      "\t==== jcenter.bintray.com: tried\n",
      "\n",
      "\t  https://jcenter.bintray.com/kyonifer/maven/com/kyonifer/koma-core-ejml/0.13/koma-core-ejml-0.13.pom\n",
      "\n",
      "\t  -- artifact com.kyonifer#koma-core-ejml;0.13!koma-core-ejml.jar:\n",
      "\n",
      "\t  https://jcenter.bintray.com/kyonifer/maven/com/kyonifer/koma-core-ejml/0.13/koma-core-ejml-0.13.jar\n",
      "\n",
      "\t==== jcenter.bintray.com: tried\n",
      "\n",
      "\t  https://jcenter.bintray.com/kyonifer/maven/com/kyonifer/koma-core-ejml/0.13/koma-core-ejml-0.13.pom\n",
      "\n",
      "\t  -- artifact com.kyonifer#koma-core-ejml;0.13!koma-core-ejml.jar:\n",
      "\n",
      "\t  https://jcenter.bintray.com/kyonifer/maven/com/kyonifer/koma-core-ejml/0.13/koma-core-ejml-0.13.jar\n",
      "\n",
      "\t==== jcenter.bintray.com: tried\n",
      "\n",
      "\t  https://jcenter.bintray.com/kyonifer/maven/com/kyonifer/koma-core-ejml/0.13/koma-core-ejml-0.13.pom\n",
      "\n",
      "\t  -- artifact com.kyonifer#koma-core-ejml;0.13!koma-core-ejml.jar:\n",
      "\n",
      "\t  https://jcenter.bintray.com/kyonifer/maven/com/kyonifer/koma-core-ejml/0.13/koma-core-ejml-0.13.jar\n",
      "\n",
      "\t==== jcenter.bintray.com: tried\n",
      "\n",
      "\t  https://jcenter.bintray.com/kyonifer/maven/com/kyonifer/koma-core-ejml/0.13/koma-core-ejml-0.13.pom\n",
      "\n",
      "\t  -- artifact com.kyonifer#koma-core-ejml;0.13!koma-core-ejml.jar:\n",
      "\n",
      "\t  https://jcenter.bintray.com/kyonifer/maven/com/kyonifer/koma-core-ejml/0.13/koma-core-ejml-0.13.jar\n",
      "\n",
      "\t==== jcenter.bintray.com: tried\n",
      "\n"
     ]
    },
    {
     "name": "stdout",
     "output_type": "stream",
     "text": [
      "\t  https://jcenter.bintray.com/kyonifer/maven/com/kyonifer/koma-core-ejml/0.13/koma-core-ejml-0.13.pom\n",
      "\n",
      "\t  -- artifact com.kyonifer#koma-core-ejml;0.13!koma-core-ejml.jar:\n",
      "\n",
      "\t  https://jcenter.bintray.com/kyonifer/maven/com/kyonifer/koma-core-ejml/0.13/koma-core-ejml-0.13.jar\n",
      "\n",
      "\t==== jcenter.bintray.com: tried\n",
      "\n",
      "\t  https://jcenter.bintray.com/kyonifer/maven/com/kyonifer/koma-core-ejml/0.13/koma-core-ejml-0.13.pom\n",
      "\n",
      "\t  -- artifact com.kyonifer#koma-core-ejml;0.13!koma-core-ejml.jar:\n",
      "\n",
      "\t  https://jcenter.bintray.com/kyonifer/maven/com/kyonifer/koma-core-ejml/0.13/koma-core-ejml-0.13.jar\n",
      "\n",
      "\t==== jcenter.bintray.com: tried\n",
      "\n",
      "\t  https://jcenter.bintray.com/kyonifer/maven/com/kyonifer/koma-core-ejml/0.13/koma-core-ejml-0.13.pom\n",
      "\n",
      "\t  -- artifact com.kyonifer#koma-core-ejml;0.13!koma-core-ejml.jar:\n",
      "\n",
      "\t  https://jcenter.bintray.com/kyonifer/maven/com/kyonifer/koma-core-ejml/0.13/koma-core-ejml-0.13.jar\n",
      "\n",
      "\t==== jcenter.bintray.com: tried\n",
      "\n",
      "\t  https://jcenter.bintray.com/kyonifer/maven/com/kyonifer/koma-core-ejml/0.13/koma-core-ejml-0.13.pom\n",
      "\n",
      "\t  -- artifact com.kyonifer#koma-core-ejml;0.13!koma-core-ejml.jar:\n",
      "\n",
      "\t  https://jcenter.bintray.com/kyonifer/maven/com/kyonifer/koma-core-ejml/0.13/koma-core-ejml-0.13.jar\n",
      "\n",
      "\t==== jcenter.bintray.com: tried\n",
      "\n",
      "\t  https://jcenter.bintray.com/kyonifer/maven/com/kyonifer/koma-core-ejml/0.13/koma-core-ejml-0.13.pom\n",
      "\n",
      "\t  -- artifact com.kyonifer#koma-core-ejml;0.13!koma-core-ejml.jar:\n",
      "\n",
      "\t  https://jcenter.bintray.com/kyonifer/maven/com/kyonifer/koma-core-ejml/0.13/koma-core-ejml-0.13.jar\n",
      "\n",
      "\t==== dl.bintray.com: tried\n",
      "\n",
      "\t  https://dl.bintray.com/kyonifer/maven/com/kyonifer/koma-core-ejml/0.13/koma-core-ejml-0.13.pom\n",
      "\n",
      "\t  -- artifact com.kyonifer#koma-core-ejml;0.13!koma-core-ejml.jar:\n",
      "\n",
      "\t  https://dl.bintray.com/kyonifer/maven/com/kyonifer/koma-core-ejml/0.13/koma-core-ejml-0.13.jar\n",
      "\n",
      ":: problems summary ::\n",
      ":::: WARNINGS\n",
      "\t\tmodule not found: com.kyonifer#koma-plotting;0.13\n",
      "\n",
      "\t==== jcenter.bintray.com: tried\n",
      "\n",
      "\t  https://jcenter.bintray.com/com/kyonifer/koma-plotting/0.13/koma-plotting-0.13.pom\n",
      "\n",
      "\t  -- artifact com.kyonifer#koma-plotting;0.13!koma-plotting.jar:\n",
      "\n",
      "\t  https://jcenter.bintray.com/com/kyonifer/koma-plotting/0.13/koma-plotting-0.13.jar\n",
      "\n",
      "\t==== repo.maven.apache.org: tried\n",
      "\n",
      "\t  https://repo.maven.apache.org/maven2/com/kyonifer/koma-plotting/0.13/koma-plotting-0.13.pom\n",
      "\n",
      "\t  -- artifact com.kyonifer#koma-plotting;0.13!koma-plotting.jar:\n",
      "\n",
      "\t  https://repo.maven.apache.org/maven2/com/kyonifer/koma-plotting/0.13/koma-plotting-0.13.jar\n",
      "\n",
      "\t==== jitpack.io: tried\n",
      "\n",
      "\t  https://jitpack.io/com/kyonifer/koma-plotting/0.13/koma-plotting-0.13.pom\n",
      "\n",
      "\t  -- artifact com.kyonifer#koma-plotting;0.13!koma-plotting.jar:\n",
      "\n",
      "\t  https://jitpack.io/com/kyonifer/koma-plotting/0.13/koma-plotting-0.13.jar\n",
      "\n",
      "\t==== jetbrains.bintray.com: tried\n",
      "\n",
      "\t  https://jetbrains.bintray.com/lets-plot-maven/com/kyonifer/koma-plotting/0.13/koma-plotting-0.13.pom\n",
      "\n",
      "\t  -- artifact com.kyonifer#koma-plotting;0.13!koma-plotting.jar:\n",
      "\n",
      "\t  https://jetbrains.bintray.com/lets-plot-maven/com/kyonifer/koma-plotting/0.13/koma-plotting-0.13.jar\n",
      "\n",
      "\t==== central: tried\n",
      "\n",
      "\t  https://repo1.maven.org/maven2/com/kyonifer/koma-plotting/0.13/koma-plotting-0.13.pom\n",
      "\n",
      "\t  -- artifact com.kyonifer#koma-plotting;0.13!koma-plotting.jar:\n",
      "\n",
      "\t  https://repo1.maven.org/maven2/com/kyonifer/koma-plotting/0.13/koma-plotting-0.13.jar\n",
      "\n",
      "\t==== jcenter.bintray.com: tried\n",
      "\n",
      "\t  https://jcenter.bintray.com/kyonifer/maven/com/kyonifer/koma-plotting/0.13/koma-plotting-0.13.pom\n",
      "\n",
      "\t  -- artifact com.kyonifer#koma-plotting;0.13!koma-plotting.jar:\n",
      "\n",
      "\t  https://jcenter.bintray.com/kyonifer/maven/com/kyonifer/koma-plotting/0.13/koma-plotting-0.13.jar\n",
      "\n",
      "\t==== jcenter.bintray.com: tried\n",
      "\n",
      "\t  https://jcenter.bintray.com/kyonifer/maven/com/kyonifer/koma-plotting/0.13/koma-plotting-0.13.pom\n",
      "\n",
      "\t  -- artifact com.kyonifer#koma-plotting;0.13!koma-plotting.jar:\n",
      "\n",
      "\t  https://jcenter.bintray.com/kyonifer/maven/com/kyonifer/koma-plotting/0.13/koma-plotting-0.13.jar\n",
      "\n",
      "\t==== jcenter.bintray.com: tried\n",
      "\n",
      "\t  https://jcenter.bintray.com/kyonifer/maven/com/kyonifer/koma-plotting/0.13/koma-plotting-0.13.pom\n",
      "\n",
      "\t  -- artifact com.kyonifer#koma-plotting;0.13!koma-plotting.jar:\n",
      "\n",
      "\t  https://jcenter.bintray.com/kyonifer/maven/com/kyonifer/koma-plotting/0.13/koma-plotting-0.13.jar\n",
      "\n",
      "\t==== jcenter.bintray.com: tried\n",
      "\n",
      "\t  https://jcenter.bintray.com/kyonifer/maven/com/kyonifer/koma-plotting/0.13/koma-plotting-0.13.pom\n",
      "\n",
      "\t  -- artifact com.kyonifer#koma-plotting;0.13!koma-plotting.jar:\n",
      "\n",
      "\t  https://jcenter.bintray.com/kyonifer/maven/com/kyonifer/koma-plotting/0.13/koma-plotting-0.13.jar\n",
      "\n",
      "\t==== jcenter.bintray.com: tried\n",
      "\n",
      "\t  https://jcenter.bintray.com/kyonifer/maven/com/kyonifer/koma-plotting/0.13/koma-plotting-0.13.pom\n",
      "\n",
      "\t  -- artifact com.kyonifer#koma-plotting;0.13!koma-plotting.jar:\n",
      "\n",
      "\t  https://jcenter.bintray.com/kyonifer/maven/com/kyonifer/koma-plotting/0.13/koma-plotting-0.13.jar\n",
      "\n",
      "\t==== jcenter.bintray.com: tried\n",
      "\n",
      "\t  https://jcenter.bintray.com/kyonifer/maven/com/kyonifer/koma-plotting/0.13/koma-plotting-0.13.pom\n",
      "\n",
      "\t  -- artifact com.kyonifer#koma-plotting;0.13!koma-plotting.jar:\n",
      "\n",
      "\t  https://jcenter.bintray.com/kyonifer/maven/com/kyonifer/koma-plotting/0.13/koma-plotting-0.13.jar\n",
      "\n",
      "\t==== jcenter.bintray.com: tried\n",
      "\n",
      "\t  https://jcenter.bintray.com/kyonifer/maven/com/kyonifer/koma-plotting/0.13/koma-plotting-0.13.pom\n",
      "\n",
      "\t  -- artifact com.kyonifer#koma-plotting;0.13!koma-plotting.jar:\n",
      "\n",
      "\t  https://jcenter.bintray.com/kyonifer/maven/com/kyonifer/koma-plotting/0.13/koma-plotting-0.13.jar\n",
      "\n",
      "\t==== jcenter.bintray.com: tried\n",
      "\n",
      "\t  https://jcenter.bintray.com/kyonifer/maven/com/kyonifer/koma-plotting/0.13/koma-plotting-0.13.pom\n",
      "\n",
      "\t  -- artifact com.kyonifer#koma-plotting;0.13!koma-plotting.jar:\n",
      "\n",
      "\t  https://jcenter.bintray.com/kyonifer/maven/com/kyonifer/koma-plotting/0.13/koma-plotting-0.13.jar\n",
      "\n",
      "\t==== jcenter.bintray.com: tried\n",
      "\n",
      "\t  https://jcenter.bintray.com/kyonifer/maven/com/kyonifer/koma-plotting/0.13/koma-plotting-0.13.pom\n",
      "\n",
      "\t  -- artifact com.kyonifer#koma-plotting;0.13!koma-plotting.jar:\n",
      "\n",
      "\t  https://jcenter.bintray.com/kyonifer/maven/com/kyonifer/koma-plotting/0.13/koma-plotting-0.13.jar\n",
      "\n",
      "\t==== jcenter.bintray.com: tried\n",
      "\n",
      "\t  https://jcenter.bintray.com/kyonifer/maven/com/kyonifer/koma-plotting/0.13/koma-plotting-0.13.pom\n",
      "\n",
      "\t  -- artifact com.kyonifer#koma-plotting;0.13!koma-plotting.jar:\n",
      "\n",
      "\t  https://jcenter.bintray.com/kyonifer/maven/com/kyonifer/koma-plotting/0.13/koma-plotting-0.13.jar\n",
      "\n",
      "\t==== dl.bintray.com: tried\n",
      "\n",
      "\t  https://dl.bintray.com/kyonifer/maven/com/kyonifer/koma-plotting/0.13/koma-plotting-0.13.pom\n",
      "\n",
      "\t  -- artifact com.kyonifer#koma-plotting;0.13!koma-plotting.jar:\n",
      "\n",
      "\t  https://dl.bintray.com/kyonifer/maven/com/kyonifer/koma-plotting/0.13/koma-plotting-0.13.jar\n",
      "\n"
     ]
    },
    {
     "name": "stderr",
     "output_type": "stream",
     "text": [
      "Failed to resolve com.kyonifer:koma-core-ejml:0.13:\n",
      "File 'com.kyonifer:koma-core-ejml:0.13' not found\n",
      "unresolved dependency: com.kyonifer#koma-core-ejml;0.13: not found\n",
      "Failed to resolve com.kyonifer:koma-plotting:0.13:\n",
      "File 'com.kyonifer:koma-plotting:0.13' not found\n",
      "unresolved dependency: com.kyonifer#koma-plotting;0.13: not found"
     ]
    }
   ],
   "source": [
    "%use koma"
   ]
  },
  {
   "cell_type": "code",
   "execution_count": 9,
   "metadata": {
    "ExecuteTime": {
     "end_time": "2020-07-05T15:05+0800",
     "start_time": "2020-07-05T15:05+0800"
    },
    "collapsed": true
   },
   "outputs": [
    {
     "name": "stdout",
     "output_type": "stream",
     "text": [
      ":: problems summary ::\n",
      ":::: WARNINGS\n",
      "\t\tmodule not found: com.kyonifer#koma-plotting;0.1ABCDEF\n",
      "\n",
      "\t==== jcenter.bintray.com: tried\n",
      "\n",
      "\t  https://jcenter.bintray.com/com/kyonifer/koma-plotting/0.1ABCDEF/koma-plotting-0.1ABCDEF.pom\n",
      "\n",
      "\t  -- artifact com.kyonifer#koma-plotting;0.1ABCDEF!koma-plotting.jar:\n",
      "\n",
      "\t  https://jcenter.bintray.com/com/kyonifer/koma-plotting/0.1ABCDEF/koma-plotting-0.1ABCDEF.jar\n",
      "\n",
      "\t==== repo.maven.apache.org: tried\n",
      "\n",
      "\t  https://repo.maven.apache.org/maven2/com/kyonifer/koma-plotting/0.1ABCDEF/koma-plotting-0.1ABCDEF.pom\n",
      "\n",
      "\t  -- artifact com.kyonifer#koma-plotting;0.1ABCDEF!koma-plotting.jar:\n",
      "\n",
      "\t  https://repo.maven.apache.org/maven2/com/kyonifer/koma-plotting/0.1ABCDEF/koma-plotting-0.1ABCDEF.jar\n",
      "\n",
      "\t==== jitpack.io: tried\n",
      "\n",
      "\t  https://jitpack.io/com/kyonifer/koma-plotting/0.1ABCDEF/koma-plotting-0.1ABCDEF.pom\n",
      "\n",
      "\t  -- artifact com.kyonifer#koma-plotting;0.1ABCDEF!koma-plotting.jar:\n",
      "\n",
      "\t  https://jitpack.io/com/kyonifer/koma-plotting/0.1ABCDEF/koma-plotting-0.1ABCDEF.jar\n",
      "\n",
      "\t==== jetbrains.bintray.com: tried\n",
      "\n",
      "\t  https://jetbrains.bintray.com/lets-plot-maven/com/kyonifer/koma-plotting/0.1ABCDEF/koma-plotting-0.1ABCDEF.pom\n",
      "\n",
      "\t  -- artifact com.kyonifer#koma-plotting;0.1ABCDEF!koma-plotting.jar:\n",
      "\n",
      "\t  https://jetbrains.bintray.com/lets-plot-maven/com/kyonifer/koma-plotting/0.1ABCDEF/koma-plotting-0.1ABCDEF.jar\n",
      "\n",
      "\t==== central: tried\n",
      "\n",
      "\t  https://repo1.maven.org/maven2/com/kyonifer/koma-plotting/0.1ABCDEF/koma-plotting-0.1ABCDEF.pom\n",
      "\n",
      "\t  -- artifact com.kyonifer#koma-plotting;0.1ABCDEF!koma-plotting.jar:\n",
      "\n",
      "\t  https://repo1.maven.org/maven2/com/kyonifer/koma-plotting/0.1ABCDEF/koma-plotting-0.1ABCDEF.jar\n",
      "\n",
      "\t==== jcenter.bintray.com: tried\n",
      "\n",
      "\t  https://jcenter.bintray.com/kyonifer/maven/com/kyonifer/koma-plotting/0.1ABCDEF/koma-plotting-0.1ABCDEF.pom\n",
      "\n",
      "\t  -- artifact com.kyonifer#koma-plotting;0.1ABCDEF!koma-plotting.jar:\n",
      "\n",
      "\t  https://jcenter.bintray.com/kyonifer/maven/com/kyonifer/koma-plotting/0.1ABCDEF/koma-plotting-0.1ABCDEF.jar\n",
      "\n",
      "\t==== jcenter.bintray.com: tried\n",
      "\n",
      "\t  https://jcenter.bintray.com/kyonifer/maven/com/kyonifer/koma-plotting/0.1ABCDEF/koma-plotting-0.1ABCDEF.pom\n",
      "\n",
      "\t  -- artifact com.kyonifer#koma-plotting;0.1ABCDEF!koma-plotting.jar:\n",
      "\n",
      "\t  https://jcenter.bintray.com/kyonifer/maven/com/kyonifer/koma-plotting/0.1ABCDEF/koma-plotting-0.1ABCDEF.jar\n",
      "\n",
      "\t==== jcenter.bintray.com: tried\n",
      "\n",
      "\t  https://jcenter.bintray.com/kyonifer/maven/com/kyonifer/koma-plotting/0.1ABCDEF/koma-plotting-0.1ABCDEF.pom\n",
      "\n",
      "\t  -- artifact com.kyonifer#koma-plotting;0.1ABCDEF!koma-plotting.jar:\n",
      "\n",
      "\t  https://jcenter.bintray.com/kyonifer/maven/com/kyonifer/koma-plotting/0.1ABCDEF/koma-plotting-0.1ABCDEF.jar\n",
      "\n",
      "\t==== jcenter.bintray.com: tried\n",
      "\n",
      "\t  https://jcenter.bintray.com/kyonifer/maven/com/kyonifer/koma-plotting/0.1ABCDEF/koma-plotting-0.1ABCDEF.pom\n",
      "\n",
      "\t  -- artifact com.kyonifer#koma-plotting;0.1ABCDEF!koma-plotting.jar:\n",
      "\n",
      "\t  https://jcenter.bintray.com/kyonifer/maven/com/kyonifer/koma-plotting/0.1ABCDEF/koma-plotting-0.1ABCDEF.jar\n",
      "\n"
     ]
    }
   ],
   "source": [
    "@file:Repository(\"https://jcenter.bintray.com/kyonifer/maven\")\n",
    "@file:DependsOn(\"com.kyonifer:koma-core-ejml:0.12\")\n",
    "@file:DependsOn(\"com.kyonifer:koma-plotting:0.12\")"
   ]
  },
  {
   "cell_type": "code",
   "execution_count": 42,
   "metadata": {
    "ExecuteTime": {
     "end_time": "2020-07-05T09:47+0800",
     "start_time": "2020-07-05T09:47+0800"
    }
   },
   "outputs": [],
   "source": [
    "import koma.*\n",
    "import koma.extensions.*\n",
    "\n",
    "var a = randn(100,2)\n",
    "var b = cumsum(a)\n",
    "\n",
    "figure(1)\n",
    "// Second parameter is color\n",
    "plot(a, 'b', \"First Run\")\n",
    "plot(a+1, 'y', \"First Run Offset\")\n",
    "xlabel(\"Time (s)\")\n",
    "ylabel(\"Magnitude\")\n",
    "title(\"White Noise\")\n",
    "\n",
    "figure(2)\n",
    "plot(b, 'g') // green\n",
    "xlabel(\"Velocity (lightweeks/minute)\")\n",
    "ylabel(\"Intelligence\")\n",
    "title(\"Random Walk\")"
   ]
  },
  {
   "cell_type": "code",
   "execution_count": 43,
   "metadata": {
    "ExecuteTime": {
     "end_time": "2020-07-05T09:47+0800",
     "start_time": "2020-07-05T09:47+0800"
    }
   },
   "outputs": [
    {
     "data": {
      "text/plain": [
       "com.beust.klaxon.Klaxon@3a1237db"
      ]
     },
     "execution_count": 43,
     "metadata": {},
     "output_type": "execute_result"
    }
   ],
   "source": [
    "Klaxon()"
   ]
  },
  {
   "cell_type": "markdown",
   "metadata": {},
   "source": [
    "# parse json"
   ]
  },
  {
   "cell_type": "code",
   "execution_count": 7,
   "metadata": {
    "ExecuteTime": {
     "end_time": "2020-07-05T11:03+0800",
     "start_time": "2020-07-05T11:03+0800"
    }
   },
   "outputs": [],
   "source": [
    "data class User(val id: Int, val first_name:String, val email:String, val gender:String)"
   ]
  },
  {
   "cell_type": "code",
   "execution_count": 47,
   "metadata": {
    "ExecuteTime": {
     "end_time": "2020-07-05T09:48+0800",
     "start_time": "2020-07-05T09:48+0800"
    }
   },
   "outputs": [],
   "source": [
    "import java.io.*\n",
    "var users = Klaxon().parseArray<User>(File(\"data/user.json\").readText())"
   ]
  },
  {
   "cell_type": "code",
   "execution_count": 48,
   "metadata": {
    "ExecuteTime": {
     "end_time": "2020-07-05T09:48+0800",
     "start_time": "2020-07-05T09:48+0800"
    }
   },
   "outputs": [
    {
     "data": {
      "text/plain": [
       "4"
      ]
     },
     "execution_count": 48,
     "metadata": {},
     "output_type": "execute_result"
    }
   ],
   "source": [
    "users?.count()"
   ]
  },
  {
   "cell_type": "code",
   "execution_count": 15,
   "metadata": {
    "ExecuteTime": {
     "end_time": "2020-06-21T22:13+0800",
     "start_time": "2020-06-21T22:13+0800"
    }
   },
   "outputs": [
    {
     "data": {
      "text/plain": [
       "2"
      ]
     },
     "execution_count": 15,
     "metadata": {},
     "output_type": "execute_result"
    }
   ],
   "source": [
    "users?.filter{\n",
    "    it.gender.contains(\"Male\")\n",
    "}?.count()"
   ]
  },
  {
   "cell_type": "code",
   "execution_count": 49,
   "metadata": {
    "ExecuteTime": {
     "end_time": "2020-07-05T09:48+0800",
     "start_time": "2020-07-05T09:48+0800"
    }
   },
   "outputs": [
    {
     "name": "stdout",
     "output_type": "stream",
     "text": [
      "Hello Gx\r\n"
     ]
    }
   ],
   "source": [
    "class Greeter(val name: String){\n",
    "    fun greet(){\n",
    "        println(\"Hello $name\")\n",
    "    }\n",
    "}\n",
    "Greeter(\"Gx\").greet()"
   ]
  },
  {
   "cell_type": "markdown",
   "metadata": {},
   "source": [
    "# Plot: lets-plot\n",
    "* is a library for declaratively creating plots based on tabular data. This library is inspired by R’s ggplot and The Grammar of Graphics, and is integrated tightly with the Kotlin kernel. It is multi-platform and can be used not just with JVM, but also from JS and Python."
   ]
  },
  {
   "cell_type": "code",
   "execution_count": 44,
   "metadata": {
    "ExecuteTime": {
     "end_time": "2020-07-05T09:47+0800",
     "start_time": "2020-07-05T09:47+0800"
    }
   },
   "outputs": [
    {
     "data": {
      "text/html": [
       "   <div id=\"Ru0cLI\"></div>\n",
       "   <script type=\"text/javascript\">\n",
       "       if(!window.letsPlotCallQueue) {\n",
       "           window.letsPlotCallQueue = [];\n",
       "       }; \n",
       "       window.letsPlotCall = function(f) {\n",
       "           window.letsPlotCallQueue.push(f);\n",
       "       };\n",
       "       (function() {\n",
       "           var script = document.createElement(\"script\");\n",
       "           script.type = \"text/javascript\";\n",
       "           script.src = \"https://dl.bintray.com/jetbrains/lets-plot/lets-plot-1.0.0.min.js\";\n",
       "           script.onload = function() {\n",
       "               window.letsPlotCall = function(f) {f();};\n",
       "               window.letsPlotCallQueue.forEach(function(f) {f();});\n",
       "               window.letsPlotCallQueue = [];\n",
       "               \n",
       "               \n",
       "           };\n",
       "           script.onerror = function(event) {\n",
       "               window.letsPlotCall = function(f) {};\n",
       "               window.letsPlotCallQueue = [];\n",
       "               var div = document.createElement(\"div\");\n",
       "               div.style.color = 'darkred';\n",
       "               div.textContent = 'Error loading Lets-Plot JS';\n",
       "               document.getElementById(\"Ru0cLI\").appendChild(div);\n",
       "           };\n",
       "           var e = document.getElementById(\"Ru0cLI\");\n",
       "           e.appendChild(script);\n",
       "       })();\n",
       "   </script>"
      ]
     },
     "metadata": {},
     "output_type": "display_data"
    }
   ],
   "source": [
    "%use lets-plot"
   ]
  },
  {
   "cell_type": "code",
   "execution_count": 50,
   "metadata": {
    "ExecuteTime": {
     "end_time": "2020-07-05T09:48+0800",
     "start_time": "2020-07-05T09:48+0800"
    }
   },
   "outputs": [
    {
     "data": {
      "text/html": [
       "   <div id=\"yGgciQ\"></div>\n",
       "   <script type=\"text/javascript\">\n",
       "       (function() {\n",
       "           var plotSpec={\n",
       "'mapping':{\n",
       "},\n",
       "'data':{\n",
       "},\n",
       "'ggsize':{\n",
       "'width':500,\n",
       "'height':250\n",
       "},\n",
       "'kind':\"plot\",\n",
       "'scales':[],\n",
       "'layers':[{\n",
       "'stat':\"count\",\n",
       "'mapping':{\n",
       "'x':\"gender\"\n",
       "},\n",
       "'data':{\n",
       "'gender':[\"Female\",\"Male\"],\n",
       "'..count..':[2.0,2.0]\n",
       "},\n",
       "'position':\"stack\",\n",
       "'geom':\"bar\"\n",
       "}]\n",
       "};\n",
       "           var plotContainer = document.getElementById(\"yGgciQ\");\n",
       "           window.letsPlotCall(function() {{\n",
       "               LetsPlot.buildPlotFromProcessedSpecs(plotSpec, -1, -1, plotContainer);\n",
       "           }});\n",
       "       })();    \n",
       "   </script>"
      ]
     },
     "execution_count": 50,
     "metadata": {},
     "output_type": "execute_result"
    }
   ],
   "source": [
    "val data = mapOf(\"gender\" to users?.map{it.gender})\n",
    "lets_plot(data) + stat_count() + ggsize(500,250)"
   ]
  },
  {
   "cell_type": "code",
   "execution_count": 52,
   "metadata": {
    "ExecuteTime": {
     "end_time": "2020-07-05T09:48+0800",
     "start_time": "2020-07-05T09:48+0800"
    }
   },
   "outputs": [
    {
     "data": {
      "text/html": [
       "   <div id=\"6VegwY\"></div>\n",
       "   <script type=\"text/javascript\">\n",
       "       (function() {\n",
       "           var plotSpec={\n",
       "'mapping':{\n",
       "},\n",
       "'data':{\n",
       "},\n",
       "'kind':\"plot\",\n",
       "'scales':[],\n",
       "'layers':[{\n",
       "'stat':\"count\",\n",
       "'mapping':{\n",
       "'x':\"cat1\",\n",
       "'fill':\"cat2\"\n",
       "},\n",
       "'data':{\n",
       "'cat2':[\"c\",\"c\",\"d\",\"d\"],\n",
       "'cat1':[\"a\",\"b\",\"b\",\"a\"],\n",
       "'..count..':[3.0,1.0,2.0,2.0]\n",
       "},\n",
       "'position':\"stack\",\n",
       "'geom':\"bar\"\n",
       "}]\n",
       "};\n",
       "           var plotContainer = document.getElementById(\"6VegwY\");\n",
       "           window.letsPlotCall(function() {{\n",
       "               LetsPlot.buildPlotFromProcessedSpecs(plotSpec, -1, -1, plotContainer);\n",
       "           }});\n",
       "       })();    \n",
       "   </script>"
      ]
     },
     "execution_count": 52,
     "metadata": {},
     "output_type": "execute_result"
    }
   ],
   "source": [
    "val data = mapOf<String, Any>(\n",
    "    \"cat1\" to listOf(\"a\",\"a\",\"b\",\"a\",\"a\",\"a\",\"b\",\"b\")\n",
    "    \"cat2\" to listOf(\"c\",\"c\",\"d\",\"d\",\"d\",\"c\",\"d\",\"c\")\n",
    ")\n",
    "val p = ggplot(data)\n",
    "val layer = geom_bar{\n",
    "    x = \"cat1\",\n",
    "    fill = \"cat2\"\n",
    "}\n",
    "(p+layer)"
   ]
  },
  {
   "cell_type": "code",
   "execution_count": 2,
   "metadata": {
    "ExecuteTime": {
     "end_time": "2020-07-05T16:45+0800",
     "start_time": "2020-07-05T16:45+0800"
    }
   },
   "outputs": [],
   "source": [
    "%use krangl"
   ]
  },
  {
   "cell_type": "code",
   "execution_count": 1,
   "metadata": {
    "ExecuteTime": {
     "end_time": "2020-07-05T16:45+0800",
     "start_time": "2020-07-05T16:45+0800"
    }
   },
   "outputs": [],
   "source": [
    "// @file:Repository(\"https://jitpack.io\")\n",
    "// @file:DependsOn(\"com.github.User:Repo:Tag\")\n",
    "@file:DependsOn(\"com.github.holgerbrandl:kravis:-SNAPSHOT\")\n",
    "// %use kravis"
   ]
  },
  {
   "cell_type": "code",
   "execution_count": 16,
   "metadata": {
    "ExecuteTime": {
     "end_time": "2020-07-05T16:55+0800",
     "start_time": "2020-07-05T16:55+0800"
    }
   },
   "outputs": [
    {
     "data": {
      "text/plain": [
       "ggplot(mapping=aes(x=`sleep_total`,y=`rem_proportion`,color=`vore`,size=`brainwt`), data=data01) + \n",
       "\tgeom_point(stat='identity', position=position_identity(), na.rm=FALSE, inherit.aes=TRUE, alpha=0.7) + \n",
       "\tguides(size='none') + \n",
       "\tggtitle(\"Correlation between dream and total sleep time\")"
      ]
     },
     "execution_count": 16,
     "metadata": {},
     "output_type": "execute_result"
    }
   ],
   "source": [
    "import krangl.*\n",
    "import kravis.*\n",
    "import krangl.sleepData\n",
    "\n",
    "sleepData\n",
    "    .addColumn(\"rem_proportion\") { it[\"sleep_rem\"] / it[\"sleep_total\"] }\n",
    "        // Analyze correlation\n",
    "    .plot(x = \"sleep_total\", y = \"rem_proportion\", color = \"vore\", size = \"brainwt\")\n",
    "        .geomPoint(alpha = 0.7)\n",
    "        .guides(size = LegendType.none)\n",
    "        .title(\"Correlation between dream and total sleep time\")"
   ]
  },
  {
   "cell_type": "code",
   "execution_count": 26,
   "metadata": {
    "ExecuteTime": {
     "end_time": "2020-07-05T16:58+0800",
     "start_time": "2020-07-05T16:58+0800"
    },
    "collapsed": true
   },
   "outputs": [
    {
     "name": "stdout",
     "output_type": "stream",
     "text": [
      "{name=Cheetah, genus=Acinonyx, vore=carni, order=Carnivora, conservation=lc, sleep_total=12.1, sleep_rem=null, sleep_cycle=null, awake=11.9, brainwt=null, bodywt=50.0}\n",
      "{name=Owl monkey, genus=Aotus, vore=omni, order=Primates, conservation=null, sleep_total=17.0, sleep_rem=1.8, sleep_cycle=null, awake=7.0, brainwt=0.0155, bodywt=0.48}\n",
      "{name=Mountain beaver, genus=Aplodontia, vore=herbi, order=Rodentia, conservation=nt, sleep_total=14.4, sleep_rem=2.4, sleep_cycle=null, awake=9.6, brainwt=null, bodywt=1.35}\n",
      "{name=Greater short-tailed shrew, genus=Blarina, vore=omni, order=Soricomorpha, conservation=lc, sleep_total=14.9, sleep_rem=2.3, sleep_cycle=0.133333333, awake=9.1, brainwt=2.9E-4, bodywt=0.019}\n",
      "{name=Cow, genus=Bos, vore=herbi, order=Artiodactyla, conservation=domesticated, sleep_total=4.0, sleep_rem=0.7, sleep_cycle=0.666666667, awake=20.0, brainwt=0.423, bodywt=600.0}\n",
      "{name=Three-toed sloth, genus=Bradypus, vore=herbi, order=Pilosa, conservation=null, sleep_total=14.4, sleep_rem=2.2, sleep_cycle=0.766666667, awake=9.6, brainwt=null, bodywt=3.85}\n",
      "{name=Northern fur seal, genus=Callorhinus, vore=carni, order=Carnivora, conservation=vu, sleep_total=8.7, sleep_rem=1.4, sleep_cycle=0.383333333, awake=15.3, brainwt=null, bodywt=20.49}\n",
      "{name=Vesper mouse, genus=Calomys, vore=null, order=Rodentia, conservation=null, sleep_total=7.0, sleep_rem=null, sleep_cycle=null, awake=17.0, brainwt=null, bodywt=0.045}\n",
      "{name=Dog, genus=Canis, vore=carni, order=Carnivora, conservation=domesticated, sleep_total=10.1, sleep_rem=2.9, sleep_cycle=0.333333333, awake=13.9, brainwt=0.07, bodywt=14.0}\n",
      "{name=Roe deer, genus=Capreolus, vore=herbi, order=Artiodactyla, conservation=lc, sleep_total=3.0, sleep_rem=null, sleep_cycle=null, awake=21.0, brainwt=0.0982, bodywt=14.8}\n",
      "{name=Goat, genus=Capri, vore=herbi, order=Artiodactyla, conservation=lc, sleep_total=5.3, sleep_rem=0.6, sleep_cycle=null, awake=18.7, brainwt=0.115, bodywt=33.5}\n",
      "{name=Guinea pig, genus=Cavis, vore=herbi, order=Rodentia, conservation=domesticated, sleep_total=9.4, sleep_rem=0.8, sleep_cycle=0.216666667, awake=14.6, brainwt=0.0055, bodywt=0.728}\n",
      "{name=Grivet, genus=Cercopithecus, vore=omni, order=Primates, conservation=lc, sleep_total=10.0, sleep_rem=0.7, sleep_cycle=null, awake=14.0, brainwt=null, bodywt=4.75}\n",
      "{name=Chinchilla, genus=Chinchilla, vore=herbi, order=Rodentia, conservation=domesticated, sleep_total=12.5, sleep_rem=1.5, sleep_cycle=0.116666667, awake=11.5, brainwt=0.0064, bodywt=0.42}\n",
      "{name=Star-nosed mole, genus=Condylura, vore=omni, order=Soricomorpha, conservation=lc, sleep_total=10.3, sleep_rem=2.2, sleep_cycle=null, awake=13.7, brainwt=0.001, bodywt=0.06}\n",
      "{name=African giant pouched rat, genus=Cricetomys, vore=omni, order=Rodentia, conservation=null, sleep_total=8.3, sleep_rem=2.0, sleep_cycle=null, awake=15.7, brainwt=0.0066, bodywt=1.0}\n",
      "{name=Lesser short-tailed shrew, genus=Cryptotis, vore=omni, order=Soricomorpha, conservation=lc, sleep_total=9.1, sleep_rem=1.4, sleep_cycle=0.15, awake=14.9, brainwt=1.4E-4, bodywt=0.005}\n",
      "{name=Long-nosed armadillo, genus=Dasypus, vore=carni, order=Cingulata, conservation=lc, sleep_total=17.4, sleep_rem=3.1, sleep_cycle=0.383333333, awake=6.6, brainwt=0.0108, bodywt=3.5}\n",
      "{name=Tree hyrax, genus=Dendrohyrax, vore=herbi, order=Hyracoidea, conservation=lc, sleep_total=5.3, sleep_rem=0.5, sleep_cycle=null, awake=18.7, brainwt=0.0123, bodywt=2.95}\n",
      "{name=North American Opossum, genus=Didelphis, vore=omni, order=Didelphimorphia, conservation=lc, sleep_total=18.0, sleep_rem=4.9, sleep_cycle=0.333333333, awake=6.0, brainwt=0.0063, bodywt=1.7}\n",
      "{name=Asian elephant, genus=Elephas, vore=herbi, order=Proboscidea, conservation=en, sleep_total=3.9, sleep_rem=null, sleep_cycle=null, awake=20.1, brainwt=4.603, bodywt=2547.0}\n",
      "{name=Big brown bat, genus=Eptesicus, vore=insecti, order=Chiroptera, conservation=lc, sleep_total=19.7, sleep_rem=3.9, sleep_cycle=0.116666667, awake=4.3, brainwt=3.0E-4, bodywt=0.023}\n",
      "{name=Horse, genus=Equus, vore=herbi, order=Perissodactyla, conservation=domesticated, sleep_total=2.9, sleep_rem=0.6, sleep_cycle=1.0, awake=21.1, brainwt=0.655, bodywt=521.0}\n",
      "{name=Donkey, genus=Equus, vore=herbi, order=Perissodactyla, conservation=domesticated, sleep_total=3.1, sleep_rem=0.4, sleep_cycle=null, awake=20.9, brainwt=0.419, bodywt=187.0}\n",
      "{name=European hedgehog, genus=Erinaceus, vore=omni, order=Erinaceomorpha, conservation=lc, sleep_total=10.1, sleep_rem=3.5, sleep_cycle=0.283333333, awake=13.9, brainwt=0.0035, bodywt=0.77}\n",
      "{name=Patas monkey, genus=Erythrocebus, vore=omni, order=Primates, conservation=lc, sleep_total=10.9, sleep_rem=1.1, sleep_cycle=null, awake=13.1, brainwt=0.115, bodywt=10.0}\n",
      "{name=Western american chipmunk, genus=Eutamias, vore=herbi, order=Rodentia, conservation=null, sleep_total=14.9, sleep_rem=null, sleep_cycle=null, awake=9.1, brainwt=null, bodywt=0.071}\n",
      "{name=Domestic cat, genus=Felis, vore=carni, order=Carnivora, conservation=domesticated, sleep_total=12.5, sleep_rem=3.2, sleep_cycle=0.416666667, awake=11.5, brainwt=0.0256, bodywt=3.3}\n",
      "{name=Galago, genus=Galago, vore=omni, order=Primates, conservation=null, sleep_total=9.8, sleep_rem=1.1, sleep_cycle=0.55, awake=14.2, brainwt=0.005, bodywt=0.2}\n",
      "{name=Giraffe, genus=Giraffa, vore=herbi, order=Artiodactyla, conservation=cd, sleep_total=1.9, sleep_rem=0.4, sleep_cycle=null, awake=22.1, brainwt=null, bodywt=899.995}\n",
      "{name=Pilot whale, genus=Globicephalus, vore=carni, order=Cetacea, conservation=cd, sleep_total=2.7, sleep_rem=0.1, sleep_cycle=null, awake=21.35, brainwt=null, bodywt=800.0}\n",
      "{name=Gray seal, genus=Haliochoerus, vore=carni, order=Carnivora, conservation=lc, sleep_total=6.2, sleep_rem=1.5, sleep_cycle=null, awake=17.8, brainwt=0.325, bodywt=85.0}\n",
      "{name=Gray hyrax, genus=Heterohyrax, vore=herbi, order=Hyracoidea, conservation=lc, sleep_total=6.3, sleep_rem=0.6, sleep_cycle=null, awake=17.7, brainwt=0.01227, bodywt=2.625}\n",
      "{name=Human, genus=Homo, vore=omni, order=Primates, conservation=null, sleep_total=8.0, sleep_rem=1.9, sleep_cycle=1.5, awake=16.0, brainwt=1.32, bodywt=62.0}\n",
      "{name=Mongoose lemur, genus=Lemur, vore=herbi, order=Primates, conservation=vu, sleep_total=9.5, sleep_rem=0.9, sleep_cycle=null, awake=14.5, brainwt=null, bodywt=1.67}\n",
      "{name=African elephant, genus=Loxodonta, vore=herbi, order=Proboscidea, conservation=vu, sleep_total=3.3, sleep_rem=null, sleep_cycle=null, awake=20.7, brainwt=5.712, bodywt=6654.0}\n",
      "{name=Thick-tailed opposum, genus=Lutreolina, vore=carni, order=Didelphimorphia, conservation=lc, sleep_total=19.4, sleep_rem=6.6, sleep_cycle=null, awake=4.6, brainwt=null, bodywt=0.37}\n",
      "{name=Macaque, genus=Macaca, vore=omni, order=Primates, conservation=null, sleep_total=10.1, sleep_rem=1.2, sleep_cycle=0.75, awake=13.9, brainwt=0.179, bodywt=6.8}\n",
      "{name=Mongolian gerbil, genus=Meriones, vore=herbi, order=Rodentia, conservation=lc, sleep_total=14.2, sleep_rem=1.9, sleep_cycle=null, awake=9.8, brainwt=null, bodywt=0.053}\n",
      "{name=Golden hamster, genus=Mesocricetus, vore=herbi, order=Rodentia, conservation=en, sleep_total=14.3, sleep_rem=3.1, sleep_cycle=0.2, awake=9.7, brainwt=0.001, bodywt=0.12}\n",
      "{name=Vole , genus=Microtus, vore=herbi, order=Rodentia, conservation=null, sleep_total=12.8, sleep_rem=null, sleep_cycle=null, awake=11.2, brainwt=null, bodywt=0.035}\n",
      "{name=House mouse, genus=Mus, vore=herbi, order=Rodentia, conservation=nt, sleep_total=12.5, sleep_rem=1.4, sleep_cycle=0.183333333, awake=11.5, brainwt=4.0E-4, bodywt=0.022}\n",
      "{name=Little brown bat, genus=Myotis, vore=insecti, order=Chiroptera, conservation=null, sleep_total=19.9, sleep_rem=2.0, sleep_cycle=0.2, awake=4.1, brainwt=2.5E-4, bodywt=0.01}\n",
      "{name=Round-tailed muskrat, genus=Neofiber, vore=herbi, order=Rodentia, conservation=nt, sleep_total=14.6, sleep_rem=null, sleep_cycle=null, awake=9.4, brainwt=null, bodywt=0.266}\n",
      "{name=Slow loris, genus=Nyctibeus, vore=carni, order=Primates, conservation=null, sleep_total=11.0, sleep_rem=null, sleep_cycle=null, awake=13.0, brainwt=0.0125, bodywt=1.4}\n",
      "{name=Degu, genus=Octodon, vore=herbi, order=Rodentia, conservation=lc, sleep_total=7.7, sleep_rem=0.9, sleep_cycle=null, awake=16.3, brainwt=null, bodywt=0.21}\n",
      "{name=Northern grasshopper mouse, genus=Onychomys, vore=carni, order=Rodentia, conservation=lc, sleep_total=14.5, sleep_rem=null, sleep_cycle=null, awake=9.5, brainwt=null, bodywt=0.028}\n"
     ]
    },
    {
     "name": "stdout",
     "output_type": "stream",
     "text": [
      "{name=Rabbit, genus=Oryctolagus, vore=herbi, order=Lagomorpha, conservation=domesticated, sleep_total=8.4, sleep_rem=0.9, sleep_cycle=0.416666667, awake=15.6, brainwt=0.0121, bodywt=2.5}\n",
      "{name=Sheep, genus=Ovis, vore=herbi, order=Artiodactyla, conservation=domesticated, sleep_total=3.8, sleep_rem=0.6, sleep_cycle=null, awake=20.2, brainwt=0.175, bodywt=55.5}\n",
      "{name=Chimpanzee, genus=Pan, vore=omni, order=Primates, conservation=null, sleep_total=9.7, sleep_rem=1.4, sleep_cycle=1.416666667, awake=14.3, brainwt=0.44, bodywt=52.2}\n",
      "{name=Tiger, genus=Panthera, vore=carni, order=Carnivora, conservation=en, sleep_total=15.8, sleep_rem=null, sleep_cycle=null, awake=8.2, brainwt=null, bodywt=162.564}\n",
      "{name=Jaguar, genus=Panthera, vore=carni, order=Carnivora, conservation=nt, sleep_total=10.4, sleep_rem=null, sleep_cycle=null, awake=13.6, brainwt=0.157, bodywt=100.0}\n",
      "{name=Lion, genus=Panthera, vore=carni, order=Carnivora, conservation=vu, sleep_total=13.5, sleep_rem=null, sleep_cycle=null, awake=10.5, brainwt=null, bodywt=161.499}\n",
      "{name=Baboon, genus=Papio, vore=omni, order=Primates, conservation=null, sleep_total=9.4, sleep_rem=1.0, sleep_cycle=0.666666667, awake=14.6, brainwt=0.18, bodywt=25.235}\n",
      "{name=Desert hedgehog, genus=Paraechinus, vore=null, order=Erinaceomorpha, conservation=lc, sleep_total=10.3, sleep_rem=2.7, sleep_cycle=null, awake=13.7, brainwt=0.0024, bodywt=0.55}\n",
      "{name=Potto, genus=Perodicticus, vore=omni, order=Primates, conservation=lc, sleep_total=11.0, sleep_rem=null, sleep_cycle=null, awake=13.0, brainwt=null, bodywt=1.1}\n",
      "{name=Deer mouse, genus=Peromyscus, vore=null, order=Rodentia, conservation=null, sleep_total=11.5, sleep_rem=null, sleep_cycle=null, awake=12.5, brainwt=null, bodywt=0.021}\n",
      "{name=Phalanger, genus=Phalanger, vore=null, order=Diprotodontia, conservation=null, sleep_total=13.7, sleep_rem=1.8, sleep_cycle=null, awake=10.3, brainwt=0.0114, bodywt=1.62}\n",
      "{name=Caspian seal, genus=Phoca, vore=carni, order=Carnivora, conservation=vu, sleep_total=3.5, sleep_rem=0.4, sleep_cycle=null, awake=20.5, brainwt=null, bodywt=86.0}\n",
      "{name=Common porpoise, genus=Phocoena, vore=carni, order=Cetacea, conservation=vu, sleep_total=5.6, sleep_rem=null, sleep_cycle=null, awake=18.45, brainwt=null, bodywt=53.18}\n",
      "{name=Potoroo, genus=Potorous, vore=herbi, order=Diprotodontia, conservation=null, sleep_total=11.1, sleep_rem=1.5, sleep_cycle=null, awake=12.9, brainwt=null, bodywt=1.1}\n",
      "{name=Giant armadillo, genus=Priodontes, vore=insecti, order=Cingulata, conservation=en, sleep_total=18.1, sleep_rem=6.1, sleep_cycle=null, awake=5.9, brainwt=0.081, bodywt=60.0}\n",
      "{name=Rock hyrax, genus=Procavia, vore=null, order=Hyracoidea, conservation=lc, sleep_total=5.4, sleep_rem=0.5, sleep_cycle=null, awake=18.6, brainwt=0.021, bodywt=3.6}\n",
      "{name=Laboratory rat, genus=Rattus, vore=herbi, order=Rodentia, conservation=lc, sleep_total=13.0, sleep_rem=2.4, sleep_cycle=0.183333333, awake=11.0, brainwt=0.0019, bodywt=0.32}\n",
      "{name=African striped mouse, genus=Rhabdomys, vore=omni, order=Rodentia, conservation=null, sleep_total=8.7, sleep_rem=null, sleep_cycle=null, awake=15.3, brainwt=null, bodywt=0.044}\n",
      "{name=Squirrel monkey, genus=Saimiri, vore=omni, order=Primates, conservation=null, sleep_total=9.6, sleep_rem=1.4, sleep_cycle=null, awake=14.4, brainwt=0.02, bodywt=0.743}\n",
      "{name=Eastern american mole, genus=Scalopus, vore=insecti, order=Soricomorpha, conservation=lc, sleep_total=8.4, sleep_rem=2.1, sleep_cycle=0.166666667, awake=15.6, brainwt=0.0012, bodywt=0.075}\n",
      "{name=Cotton rat, genus=Sigmodon, vore=herbi, order=Rodentia, conservation=null, sleep_total=11.3, sleep_rem=1.1, sleep_cycle=0.15, awake=12.7, brainwt=0.00118, bodywt=0.148}\n",
      "{name=Mole rat, genus=Spalax, vore=null, order=Rodentia, conservation=null, sleep_total=10.6, sleep_rem=2.4, sleep_cycle=null, awake=13.4, brainwt=0.003, bodywt=0.122}\n",
      "{name=Arctic ground squirrel, genus=Spermophilus, vore=herbi, order=Rodentia, conservation=lc, sleep_total=16.6, sleep_rem=null, sleep_cycle=null, awake=7.4, brainwt=0.0057, bodywt=0.92}\n",
      "{name=Thirteen-lined ground squirrel, genus=Spermophilus, vore=herbi, order=Rodentia, conservation=lc, sleep_total=13.8, sleep_rem=3.4, sleep_cycle=0.216666667, awake=10.2, brainwt=0.004, bodywt=0.101}\n",
      "{name=Golden-mantled ground squirrel, genus=Spermophilus, vore=herbi, order=Rodentia, conservation=lc, sleep_total=15.9, sleep_rem=3.0, sleep_cycle=null, awake=8.1, brainwt=null, bodywt=0.205}\n",
      "{name=Musk shrew, genus=Suncus, vore=null, order=Soricomorpha, conservation=null, sleep_total=12.8, sleep_rem=2.0, sleep_cycle=0.183333333, awake=11.2, brainwt=3.3E-4, bodywt=0.048}\n",
      "{name=Pig, genus=Sus, vore=omni, order=Artiodactyla, conservation=domesticated, sleep_total=9.1, sleep_rem=2.4, sleep_cycle=0.5, awake=14.9, brainwt=0.18, bodywt=86.25}\n",
      "{name=Short-nosed echidna, genus=Tachyglossus, vore=insecti, order=Monotremata, conservation=null, sleep_total=8.6, sleep_rem=null, sleep_cycle=null, awake=15.4, brainwt=0.025, bodywt=4.5}\n",
      "{name=Eastern american chipmunk, genus=Tamias, vore=herbi, order=Rodentia, conservation=null, sleep_total=15.8, sleep_rem=null, sleep_cycle=null, awake=8.2, brainwt=null, bodywt=0.112}\n",
      "{name=Brazilian tapir, genus=Tapirus, vore=herbi, order=Perissodactyla, conservation=vu, sleep_total=4.4, sleep_rem=1.0, sleep_cycle=0.9, awake=19.6, brainwt=0.169, bodywt=207.501}\n",
      "{name=Tenrec, genus=Tenrec, vore=omni, order=Afrosoricida, conservation=null, sleep_total=15.6, sleep_rem=2.3, sleep_cycle=null, awake=8.4, brainwt=0.0026, bodywt=0.9}\n",
      "{name=Tree shrew, genus=Tupaia, vore=omni, order=Scandentia, conservation=null, sleep_total=8.9, sleep_rem=2.6, sleep_cycle=0.233333333, awake=15.1, brainwt=0.0025, bodywt=0.104}\n",
      "{name=Bottle-nosed dolphin, genus=Tursiops, vore=carni, order=Cetacea, conservation=null, sleep_total=5.2, sleep_rem=null, sleep_cycle=null, awake=18.8, brainwt=null, bodywt=173.33}\n",
      "{name=Genet, genus=Genetta, vore=carni, order=Carnivora, conservation=null, sleep_total=6.3, sleep_rem=1.3, sleep_cycle=null, awake=17.7, brainwt=0.0175, bodywt=2.0}\n",
      "{name=Arctic fox, genus=Vulpes, vore=carni, order=Carnivora, conservation=null, sleep_total=12.5, sleep_rem=null, sleep_cycle=null, awake=11.5, brainwt=0.0445, bodywt=3.38}\n",
      "{name=Red fox, genus=Vulpes, vore=carni, order=Carnivora, conservation=null, sleep_total=9.8, sleep_rem=2.4, sleep_cycle=0.35, awake=14.2, brainwt=0.0504, bodywt=4.23}\n"
     ]
    }
   ],
   "source": [
    "sleepData.rows.forEach{\n",
    "    println(it)\n",
    "}"
   ]
  },
  {
   "cell_type": "code",
   "execution_count": 6,
   "metadata": {
    "ExecuteTime": {
     "end_time": "2020-07-05T16:49+0800",
     "start_time": "2020-07-05T08:49:38.909Z"
    }
   },
   "outputs": [
    {
     "name": "stderr",
     "output_type": "stream",
     "text": [
      "Line_6.jupyter.kts (4:10 - 16) Unresolved reference: ggplot\n",
      "Line_6.jupyter.kts (4:30 - 31) Unresolved reference: x\n",
      "Line_6.jupyter.kts (4:51 - 52) Unresolved reference: y"
     ]
    }
   ],
   "source": [
    "import kravis.* \n",
    "import krangl.irisData \n",
    "\n",
    "irisData.ggplot(\"Species\" to x, \"Petal.Length\" to y)\n",
    "    .geomBoxplot()\n",
    "    .geomPoint(position = PositionJitter(width = 0.1), alpha = 0.3)\n",
    "    .title(\"Petal Length by Species\")"
   ]
  },
  {
   "cell_type": "markdown",
   "metadata": {},
   "source": [
    "# {K}otlin DSL for data w{rangl}ing\n",
    "* provides functionality for data manipulation using a functional-style API; it allows you to filter, transform, aggregate, and reshape tabular data."
   ]
  },
  {
   "cell_type": "code",
   "execution_count": null,
   "metadata": {
    "ExecuteTime": {
     "start_time": "2020-07-05T07:39:43.627Z"
    }
   },
   "outputs": [],
   "source": [
    "%use krangl"
   ]
  },
  {
   "cell_type": "code",
   "execution_count": 49,
   "metadata": {
    "ExecuteTime": {
     "end_time": "2020-04-01T11:13+0800",
     "start_time": "2020-04-01T11:13+0800"
    },
    "scrolled": true
   },
   "outputs": [],
   "source": [
    "// Read data-frame from disk\n",
    "val iris = DataFrame.readCSV(\"data/iris.csv\")"
   ]
  },
  {
   "cell_type": "code",
   "execution_count": 56,
   "metadata": {
    "ExecuteTime": {
     "end_time": "2020-04-01T11:15+0800",
     "start_time": "2020-04-01T11:15+0800"
    }
   },
   "outputs": [
    {
     "name": "stdout",
     "output_type": "stream",
     "text": [
      "A DataFrame: 5 x 5\r\n",
      "    Sepal.Length   Sepal.Width   Petal.Length   Petal.Width   Species\r\n",
      "1            5.1           3.5            1.4           0.2    setosa\r\n",
      "2            4.9             3            1.4           0.2    setosa\r\n",
      "3            4.7           3.2            1.3           0.2    setosa\r\n",
      "4            4.6           3.1            1.5           0.2    setosa\r\n",
      "5              5           3.6            1.4           0.2    setosa\r\n",
      "iris is DataFrame: true\r\n"
     ]
    }
   ],
   "source": [
    "println(iris.head(5))\n",
    "println(\"iris is DataFrame: ${iris is DataFrame}\")"
   ]
  },
  {
   "cell_type": "code",
   "execution_count": 53,
   "metadata": {
    "ExecuteTime": {
     "end_time": "2020-04-01T11:14+0800",
     "start_time": "2020-04-01T11:14+0800"
    }
   },
   "outputs": [
    {
     "name": "stdout",
     "output_type": "stream",
     "text": [
      "DataFrame with 150 observations\r\n",
      "Sepal.Length  [Dbl]  5.1, 4.9, 4.7, 4.6, 5, 5.4, 4.6, 5, 4.4, 4.9, 5.4, 4.8, 4.8, 4.3, 5.8, 5.7, 5.4, 5.1, 5.7, 5.1, 5.4,...\r\n",
      "Sepal.Width   [Dbl]  3.5, 3, 3.2, 3.1, 3.6, 3.9, 3.4, 3.4, 2.9, 3.1, 3.7, 3.4, 3, 3, 4, 4.4, 3.9, 3.5, 3.8, 3.8, 3.4, 3.7...\r\n",
      "Petal.Length  [Dbl]  1.4, 1.4, 1.3, 1.5, 1.4, 1.7, 1.4, 1.5, 1.4, 1.5, 1.5, 1.6, 1.4, 1.1, 1.2, 1.5, 1.3, 1.4, 1.7, 1.5, ...\r\n",
      "Petal.Width   [Dbl]  0.2, 0.2, 0.2, 0.2, 0.2, 0.4, 0.3, 0.2, 0.2, 0.1, 0.2, 0.2, 0.1, 0.1, 0.2, 0.4, 0.4, 0.3, 0.3, 0.3, ...\r\n",
      "Species       [Str]  setosa, setosa, setosa, setosa, setosa, setosa, setosa, setosa, setosa, setosa, setosa, setosa, seto...\r\n"
     ]
    }
   ],
   "source": [
    "iris.schema()"
   ]
  },
  {
   "cell_type": "code",
   "execution_count": 58,
   "metadata": {
    "ExecuteTime": {
     "end_time": "2020-04-01T11:16+0800",
     "start_time": "2020-04-01T11:16+0800"
    }
   },
   "outputs": [
    {
     "data": {
      "text/html": [
       "<html><body><table><tr><th style=\"text-align:left\">Sepal.Length</th><th style=\"text-align:left\">Sepal.Width</th><th style=\"text-align:left\">Petal.Length</th><th style=\"text-align:left\">Petal.Width</th><th style=\"text-align:left\">Species</th></tr><tr><td style=\"text-align:left\" title=\"5.0\">5.0</td><td style=\"text-align:left\" title=\"2.0\">2.0</td><td style=\"text-align:left\" title=\"3.5\">3.5</td><td style=\"text-align:left\" title=\"1.0\">1.0</td><td style=\"text-align:left\" title=\"versicolor\">versicolor</td></tr><tr><td style=\"text-align:left\" title=\"6.0\">6.0</td><td style=\"text-align:left\" title=\"2.2\">2.2</td><td style=\"text-align:left\" title=\"4.0\">4.0</td><td style=\"text-align:left\" title=\"1.0\">1.0</td><td style=\"text-align:left\" title=\"versicolor\">versicolor</td></tr><tr><td style=\"text-align:left\" title=\"6.2\">6.2</td><td style=\"text-align:left\" title=\"2.2\">2.2</td><td style=\"text-align:left\" title=\"4.5\">4.5</td><td style=\"text-align:left\" title=\"1.5\">1.5</td><td style=\"text-align:left\" title=\"versicolor\">versicolor</td></tr><tr><td style=\"text-align:left\" title=\"6.0\">6.0</td><td style=\"text-align:left\" title=\"2.2\">2.2</td><td style=\"text-align:left\" title=\"5.0\">5.0</td><td style=\"text-align:left\" title=\"1.5\">1.5</td><td style=\"text-align:left\" title=\"virginica\">virginica</td></tr><tr><td style=\"text-align:left\" title=\"4.5\">4.5</td><td style=\"text-align:left\" title=\"2.3\">2.3</td><td style=\"text-align:left\" title=\"1.3\">1.3</td><td style=\"text-align:left\" title=\"0.3\">0.3</td><td style=\"text-align:left\" title=\"setosa\">setosa</td></tr></table></body></html>"
      ]
     },
     "execution_count": 58,
     "metadata": {},
     "output_type": "execute_result"
    }
   ],
   "source": [
    "iris.sortedBy(\"Sepal.Width\").head(5)"
   ]
  },
  {
   "cell_type": "code",
   "execution_count": 59,
   "metadata": {
    "ExecuteTime": {
     "end_time": "2020-04-01T11:17+0800",
     "start_time": "2020-04-01T11:17+0800"
    }
   },
   "outputs": [
    {
     "data": {
      "text/html": [
       "<html><body><table><tr><th style=\"text-align:left\">Sepal.Length</th><th style=\"text-align:left\">Sepal.Width</th><th style=\"text-align:left\">Petal.Length</th><th style=\"text-align:left\">Petal.Width</th><th style=\"text-align:left\">Species</th></tr><tr><td style=\"text-align:left\" title=\"5.7\">5.7</td><td style=\"text-align:left\" title=\"4.4\">4.4</td><td style=\"text-align:left\" title=\"1.5\">1.5</td><td style=\"text-align:left\" title=\"0.4\">0.4</td><td style=\"text-align:left\" title=\"setosa\">setosa</td></tr><tr><td style=\"text-align:left\" title=\"5.5\">5.5</td><td style=\"text-align:left\" title=\"4.2\">4.2</td><td style=\"text-align:left\" title=\"1.4\">1.4</td><td style=\"text-align:left\" title=\"0.2\">0.2</td><td style=\"text-align:left\" title=\"setosa\">setosa</td></tr><tr><td style=\"text-align:left\" title=\"5.2\">5.2</td><td style=\"text-align:left\" title=\"4.1\">4.1</td><td style=\"text-align:left\" title=\"1.5\">1.5</td><td style=\"text-align:left\" title=\"0.1\">0.1</td><td style=\"text-align:left\" title=\"setosa\">setosa</td></tr><tr><td style=\"text-align:left\" title=\"5.8\">5.8</td><td style=\"text-align:left\" title=\"4.0\">4.0</td><td style=\"text-align:left\" title=\"1.2\">1.2</td><td style=\"text-align:left\" title=\"0.2\">0.2</td><td style=\"text-align:left\" title=\"setosa\">setosa</td></tr><tr><td style=\"text-align:left\" title=\"5.4\">5.4</td><td style=\"text-align:left\" title=\"3.9\">3.9</td><td style=\"text-align:left\" title=\"1.3\">1.3</td><td style=\"text-align:left\" title=\"0.4\">0.4</td><td style=\"text-align:left\" title=\"setosa\">setosa</td></tr></table></body></html>"
      ]
     },
     "execution_count": 59,
     "metadata": {},
     "output_type": "execute_result"
    }
   ],
   "source": [
    "iris.sortedByDescending(\"Sepal.Width\").head(5)"
   ]
  },
  {
   "cell_type": "code",
   "execution_count": 84,
   "metadata": {
    "ExecuteTime": {
     "end_time": "2020-04-01T11:33+0800",
     "start_time": "2020-04-01T11:33+0800"
    }
   },
   "outputs": [
    {
     "name": "stdout",
     "output_type": "stream",
     "text": [
      "A DataFrame: 3 x 4\r\n",
      "1          Max         Doe    23       55\r\n",
      "2        Franz       Smith    23       88\r\n",
      "3        Horst      Keanes    12       82\r\n",
      "\r\n",
      "DataFrame with 3 observations\r\n",
      "first_name  [Str]  Max, Franz, Horst\r\n",
      "last_name   [Str]  Doe, Smith, Keanes\r\n",
      "age         [Int]  23, 23, 12\r\n",
      "weight      [Int]  55, 88, 82\r\n",
      "newDF:A DataFrame: 3 x 5\r\n",
      "    first_name   last_name   age   weight      full_name\r\n",
      "1          Max         Doe    23       55        Max Doe\r\n",
      "2        Franz       Smith    23       88    Franz Smith\r\n",
      "3        Horst      Keanes    12       82   Horst Keanes"
     ]
    },
    {
     "data": {
      "text/html": [
       "<html><body><table><tr><th style=\"text-align:left\">age</th><th style=\"text-align:left\">last_name</th><th style=\"text-align:left\">n</th></tr><tr><td style=\"text-align:left\" title=\"23\">23</td><td style=\"text-align:left\" title=\"Doe\">Doe</td><td style=\"text-align:left\" title=\"1\">1</td></tr><tr><td style=\"text-align:left\" title=\"23\">23</td><td style=\"text-align:left\" title=\"Smith\">Smith</td><td style=\"text-align:left\" title=\"1\">1</td></tr><tr><td style=\"text-align:left\" title=\"12\">12</td><td style=\"text-align:left\" title=\"Keanes\">Keanes</td><td style=\"text-align:left\" title=\"1\">1</td></tr></table></body></html>"
      ]
     },
     "execution_count": 84,
     "metadata": {},
     "output_type": "execute_result"
    }
   ],
   "source": [
    "// Read data-frame from disk\n",
    "// val iris = DataFrame.readCSV(\"data/iris.csv\")\n",
    "\n",
    "\n",
    "// Create data-frame in memory\n",
    "val df: DataFrame = dataFrameOf(\n",
    "    \"first_name\", \"last_name\", \"age\", \"weight\")(\n",
    "    \"Max\", \"Doe\", 23, 55,\n",
    "    \"Franz\", \"Smith\", 23, 88,\n",
    "    \"Horst\", \"Keanes\", 12, 82\n",
    ")\n",
    "\n",
    "// Or from csv\n",
    "// val otherDF = DataFrame.readCSV(\"path/to/file\")\n",
    "\n",
    "// Print rows\n",
    "df                              // with implict string conversion using default options\n",
    "df.print(colNames = false)      // with custom printing options\n",
    "\n",
    "// Print structure\n",
    "df.schema()\n",
    "\n",
    "\n",
    "// Add columns with mutate\n",
    "// by adding constant values as new column\n",
    "df.addColumn(\"salary_category\") { 3 }\n",
    "\n",
    "// by doing basic column arithmetics\n",
    "df.addColumn(\"age_3y_later\") { it[\"age\"] + 3 }\n",
    "\n",
    "// Note: krangl dataframes are immutable so we need to (re)assign results to preserve changes.\n",
    "val newDF = df.addColumn(\"full_name\") { it[\"first_name\"] + \" \" + it[\"last_name\"] }\n",
    "\n",
    "// // Also feel free to mix types here since krangl overloads  arithmetic operators like + for dataframe-columns\n",
    "df.addColumn(\"user_id\") { it[\"last_name\"] + \"_id\" + rowNumber }\n",
    "\n",
    "// // Create new attributes with string operations like matching, splitting or extraction.\n",
    "df.addColumn(\"with_anz\") { it[\"first_name\"].asStrings().map { it!!.contains(\"anz\") } }\n",
    "\n",
    "// // Note: krangl is using 'null' as missing value, and provides convenience methods to process non-NA bits\n",
    "df.addColumn(\"first_name_initial\") { it[\"first_name\"].map<String>{ it.first() } }\n",
    "\n",
    "print(\"newDF:${newDF.head(5)}\")\n",
    "\n",
    "// // or add multiple columns at once\n",
    "// df.addColumns(\n",
    "//     \"age_plus3\" to { it[\"age\"] + 3 },\n",
    "//     \"initials\" to { it[\"first_name\"].map<String> { it.first() } concat it[\"last_name\"].map<String> { it.first() } }\n",
    "// )\n",
    "\n",
    "\n",
    "// // Sort your data with sortedBy\n",
    "df.sortedBy(\"age\")\n",
    "// // and add secondary sorting attributes as varargs\n",
    "df.sortedBy(\"age\", \"weight\")\n",
    "df.sortedByDescending(\"age\")\n",
    "df.sortedBy { it[\"weight\"].asInts() }\n",
    "\n",
    "\n",
    "// // Subset columns with select\n",
    "// df.select{ it is IntCol } // functional style column selection\n",
    "df.select(\"last_name\", \"weight\")    // positive selection\n",
    "df.remove(\"weight\", \"age\")  // negative selection\n",
    "df.select({ endsWith(\"name\") })    // selector mini-language\n",
    "\n",
    "\n",
    "// // Subset rows with vectorized filter\n",
    "df.filter { it[\"age\"] eq 23 }\n",
    "df.filter { it[\"weight\"] gt 50 }\n",
    "// df.filter({ it[\"last_name\"].isMatching { startsWith(\"Do\")  }})\n",
    "\n",
    "// // In case vectorized operations are not possible or available we can also filter tables by row\n",
    "// which allows for scalar operators\n",
    "df.filterByRow { it[\"age\"] as Int > 5 }\n",
    "df.filterByRow { (it[\"age\"] as Int).rem(10) == 0 } // round birthdays :-)\n",
    "\n",
    "\n",
    "// // Summarize\n",
    "\n",
    "// // do simple cross tabulations\n",
    "df.count(\"age\", \"last_name\")\n",
    "\n",
    "// // ... or calculate single summary statistic\n",
    "// df.summarize(\"mean_age\" to { it[\"age\"].mean(true) })\n",
    "\n",
    "// // ... or multiple summary statistics\n",
    "// df.summarize(\n",
    "//     \"min_age\" to { it[\"age\"].min() },\n",
    "//     \"max_age\" to { it[\"age\"].max() }\n",
    "// )\n",
    "\n",
    "// // for sake of r and python adoptability you can also use `=` here\n",
    "// df.summarize(\n",
    "//     \"min_age\" `=` { it[\"age\"].min() },\n",
    "//     \"max_age\" `=` { it[\"age\"].max() }\n",
    "// )\n",
    "\n",
    "// // Grouped operations\n",
    "// val groupedDf: DataFrame = df.groupBy(\"age\") // or provide multiple grouping attributes with varargs\n",
    "// val sumDF = groupedDf.summarize(\n",
    "//     \"mean_weight\" to { it[\"weight\"].mean(removeNA = true) },\n",
    "//     \"num_persons\" to { nrow }\n",
    "// )\n",
    "\n",
    "// // Optionally ungroup the data\n",
    "// sumDF.ungroup().print()\n",
    "\n",
    "// // generate object bindings for kotlin.\n",
    "// // Unfortunately the syntax is a bit odd since we can not access the variable name by reflection\n",
    "// sumDF.printDataClassSchema(\"Person\")\n",
    "\n",
    "// // This will generate and print the following conversion code:\n",
    "// data class Person(val age: Int, val mean_weight: Double, val num_persons: Int)\n",
    "\n",
    "// val records = sumDF.rows.map { row -> Person(row[\"age\"] as Int, row[\"mean_weight\"] as Double, row[\"num_persons\"] as Int) }\n",
    "\n",
    "// // Now we can use the krangl result table in a strongly typed way\n",
    "// records.first().mean_weight\n",
    "\n",
    "// // Vice versa we can also convert an existing set of objects into\n",
    "// val recordsDF = records.asDataFrame()\n",
    "// recordsDF.print()\n",
    "\n",
    "// // to populate a data-frame with selected properties only, we can do\n",
    "// val deparsedDF = records.deparseRecords { mapOf(\"age\" to it.age, \"weight\" to it.mean_weight) }"
   ]
  },
  {
   "cell_type": "code",
   "execution_count": null,
   "metadata": {},
   "outputs": [],
   "source": []
  },
  {
   "cell_type": "code",
   "execution_count": 34,
   "metadata": {
    "ExecuteTime": {
     "end_time": "2020-07-05T09:45+0800",
     "start_time": "2020-07-05T09:45+0800"
    }
   },
   "outputs": [],
   "source": [
    "%use kmath"
   ]
  },
  {
   "cell_type": "code",
   "execution_count": 37,
   "metadata": {
    "ExecuteTime": {
     "end_time": "2020-07-05T09:46+0800",
     "start_time": "2020-07-05T01:46:17.997Z"
    }
   },
   "outputs": [
    {
     "name": "stderr",
     "output_type": "stream",
     "text": [
      "Unresolved reference: Random\n",
      "Unresolved reference: Random"
     ]
    }
   ],
   "source": [
    "val a = floor(10 * Random.random(2, 2))\n",
    "val b = floor(10 * Random.random(2, 2))"
   ]
  },
  {
   "cell_type": "code",
   "execution_count": 36,
   "metadata": {
    "ExecuteTime": {
     "end_time": "2020-07-05T09:46+0800",
     "start_time": "2020-07-05T09:46+0800"
    }
   },
   "outputs": [],
   "source": [
    "%use kotlin-statistics"
   ]
  },
  {
   "cell_type": "code",
   "execution_count": 7,
   "metadata": {
    "ExecuteTime": {
     "end_time": "2020-06-21T22:12+0800",
     "start_time": "2020-06-21T14:12:00.738Z"
    }
   },
   "outputs": [
    {
     "name": "stderr",
     "output_type": "stream",
     "text": [
      "Unresolved reference: median"
     ]
    }
   ],
   "source": [
    "val median = sequenceOf(1.0, 3.0, 5.0).median()\n",
    "println(median) // prints \"3.0\""
   ]
  },
  {
   "cell_type": "code",
   "execution_count": 8,
   "metadata": {
    "ExecuteTime": {
     "end_time": "2020-03-31T10:15+0800",
     "start_time": "2020-03-31T10:15+0800"
    }
   },
   "outputs": [],
   "source": [
    "class Item(val name: String, val value: Double)\n",
    "\n",
    "val sequence = sequenceOf(\n",
    "        Item(\"Alpha\", 4.0),\n",
    "        Item(\"Beta\", 6.0),\n",
    "        Item(\"Gamma\", 7.2),\n",
    "        Item(\"Delta\", 9.2),\n",
    "        Item(\"Epsilon\", 6.8),\n",
    "        Item(\"Zeta\", 2.4),\n",
    "        Item(\"Iota\", 8.8)\n",
    ")"
   ]
  },
  {
   "cell_type": "code",
   "execution_count": 9,
   "metadata": {
    "ExecuteTime": {
     "end_time": "2020-03-31T10:15+0800",
     "start_time": "2020-03-31T10:15+0800"
    }
   },
   "outputs": [
    {
     "name": "stdout",
     "output_type": "stream",
     "text": [
      "Std Devs by lengths: {5=2.6229754097208, 4=3.208322510804258, 7=0.0}\r\n"
     ]
    }
   ],
   "source": [
    "val standardDeviationsByLength = sequence\n",
    "        .map { it.name.length to it.value }\n",
    "        .standardDeviationBy()\n",
    "println(\"Std Devs by lengths: $standardDeviationsByLength\")"
   ]
  },
  {
   "cell_type": "code",
   "execution_count": 10,
   "metadata": {
    "ExecuteTime": {
     "end_time": "2020-03-31T10:15+0800",
     "start_time": "2020-03-31T10:15+0800"
    }
   },
   "outputs": [
    {
     "name": "stdout",
     "output_type": "stream",
     "text": [
      "Counts by Category and Section\r\n",
      "Key(category=ABR, section=3)=4\r\n",
      "Key(category=ABZ, section=4)=2\r\n",
      "Key(category=ZBN, section=1)=3\r\n",
      "Key(category=ABZ, section=2)=1\r\n",
      "Key(category=ABR, section=2)=1\r\n",
      "\n",
      "Average Defect Rate by Category and Section\r\n",
      "Key(category=ABR, section=3)=1.4000000000000001\r\n",
      "Key(category=ABZ, section=4)=1.9500000000000002\r\n",
      "Key(category=ZBN, section=1)=2.1333333333333333\r\n",
      "Key(category=ABZ, section=2)=5.1\r\n",
      "Key(category=ABR, section=2)=1.1\r\n"
     ]
    }
   ],
   "source": [
    "//declare Product class\n",
    "class Product(val id: Int,\n",
    "              val name: String,\n",
    "              val category: String,\n",
    "              val section: Int,\n",
    "              val defectRate: Double)\n",
    "\n",
    "// Create list of Products\n",
    "val products = listOf(Product(1, \"Rayzeon\", \"ABR\", 3, 1.1),\n",
    "        Product(2, \"ZenFire\", \"ABZ\", 4, 0.7),\n",
    "        Product(3, \"HydroFlux\", \"ABR\", 3, 1.9),\n",
    "        Product(4, \"IceFlyer\", \"ZBN\", 1, 2.4),\n",
    "        Product(5, \"FireCoyote\", \"ABZ\", 4, 3.2),\n",
    "        Product(6, \"LightFiber\", \"ABZ\",2,  5.1),\n",
    "        Product(7, \"PyroKit\", \"ABR\", 3, 1.4),\n",
    "        Product(8, \"BladeKit\", \"ZBN\", 1, 0.5),\n",
    "        Product(9, \"NightHawk\", \"ZBN\", 1, 3.5),\n",
    "        Product(10, \"NoctoSquirrel\", \"ABR\", 2, 1.1),\n",
    "        Product(11, \"WolverinePack\", \"ABR\", 3, 1.2)\n",
    "        )\n",
    "\n",
    "// Data Class for Grouping\n",
    "data class Key(val category: String, val section: Int)\n",
    "\n",
    "// Get Count by Category and Section\n",
    "val countByCategoryAndSection =\n",
    "        products.countBy { Key(it.category, it.section) }\n",
    "\n",
    "println(\"Counts by Category and Section\")\n",
    "countByCategoryAndSection.entries.forEach { println(it) }\n",
    "\n",
    "// Get Average Defect Rate by Category and Section\n",
    "val averageDefectByCategoryAndSection =\n",
    "        products.averageBy(keySelector = { Key(it.category, it.section) }, doubleSelector = { it.defectRate })\n",
    "\n",
    "println(\"\\nAverage Defect Rate by Category and Section\")\n",
    "averageDefectByCategoryAndSection.entries.forEach { println(it) }"
   ]
  },
  {
   "cell_type": "code",
   "execution_count": 11,
   "metadata": {
    "ExecuteTime": {
     "end_time": "2020-03-31T10:15+0800",
     "start_time": "2020-03-31T10:15+0800"
    }
   },
   "outputs": [],
   "source": [
    "class Email(val message: String, val isSpam: Boolean)\n",
    "\n",
    "val emails = listOf(\n",
    "        Email(\"Hey there! I thought you might find this interesting. Click here.\", isSpam = true),\n",
    "        Email(\"Get viagra for a discount as much as 90%\", isSpam = true),\n",
    "        Email(\"Viagra prescription for less\", isSpam = true),\n",
    "        Email(\"Even better than Viagra, try this new prescription drug\", isSpam = true),\n",
    "\n",
    "        Email(\"Hey, I left my phone at home. Email me if you need anything. I'll be in a meeting for the afternoon.\", isSpam = false),\n",
    "        Email(\"Please see attachment for notes on today's meeting. Interesting findings on your market research.\", isSpam = false),\n",
    "        Email(\"An item on your Amazon wish list received a discount\", isSpam = false),\n",
    "        Email(\"Your prescription drug order is ready\", isSpam = false),\n",
    "        Email(\"Your Amazon account password has been reset\", isSpam = false),\n",
    "        Email(\"Your Amazon order\", isSpam = false)\n",
    ")\n",
    "\n",
    "val nbc = emails.toNaiveBayesClassifier(\n",
    "        featuresSelector = { it.message.splitWords().toSet() },\n",
    "        categorySelector = {it.isSpam }\n",
    ")\n",
    "\n",
    "\n",
    "\n",
    "fun String.splitWords() =  split(Regex(\"\\\\s\")).asSequence()\n",
    "         .map { it.replace(Regex(\"[^A-Za-z]\"),\"\").toLowerCase() }\n",
    "         .filter { it.isNotEmpty() }"
   ]
  },
  {
   "cell_type": "code",
   "execution_count": 12,
   "metadata": {
    "ExecuteTime": {
     "end_time": "2020-03-31T10:15+0800",
     "start_time": "2020-03-31T10:15+0800"
    }
   },
   "outputs": [
    {
     "name": "stdout",
     "output_type": "stream",
     "text": [
      "true\r\n",
      "true\r\n"
     ]
    }
   ],
   "source": [
    " // TEST 1\n",
    "val input = \"discount viagra wholesale, hurry while this offer lasts\".splitWords().toSet()\n",
    "val predictedCategory = nbc.predict(input)\n",
    "// Assert.assertTrue(predictedCategory == true)\n",
    "println(predictedCategory == true)\n",
    "\n",
    "// TEST 2\n",
    "val input2 = \"interesting meeting on amazon cloud services discount program\".splitWords().toSet()\n",
    "val predictedCategory2 = nbc.predict(input2)\n",
    "// Assert.assertTrue(predictedCategory2 == false)\n",
    "println(predictedCategory2 == false)"
   ]
  },
  {
   "cell_type": "code",
   "execution_count": 13,
   "metadata": {
    "ExecuteTime": {
     "end_time": "2020-03-31T10:16+0800",
     "start_time": "2020-03-31T02:16:01.348Z"
    }
   },
   "outputs": [
    {
     "name": "stderr",
     "output_type": "stream",
     "text": [
      "Unresolved reference: floor\n",
      "Unresolved reference: Random\n",
      "Unresolved reference: floor\n",
      "Unresolved reference: Random\n",
      "Unresolved reference: vstack\n",
      "Unresolved reference: hstack"
     ]
    }
   ],
   "source": [
    "val a = floor(10 * Random.random(2, 2))\n",
    "val b = floor(10 * Random.random(2, 2))\n",
    "\n",
    "// stack arrays row wise\n",
    "val v = vstack(a, b)\n",
    "println(v.shape.joinToString())\n",
    "// 4, 2\n",
    "\n",
    "// stack arrays column wise\n",
    "val h = hstack(a, b)\n",
    "println(h.shape.joinToString())\n",
    "// 2, 4"
   ]
  },
  {
   "cell_type": "code",
   "execution_count": 26,
   "metadata": {
    "ExecuteTime": {
     "end_time": "2020-03-31T11:55+0800",
     "start_time": "2020-03-31T03:55:35.488Z"
    }
   },
   "outputs": [
    {
     "name": "stderr",
     "output_type": "stream",
     "text": [
      "Failed to process '%use Komputation' command. Unknown library 'Komputation'"
     ]
    }
   ],
   "source": [
    "%use Komputation"
   ]
  },
  {
   "cell_type": "code",
   "execution_count": 14,
   "metadata": {
    "ExecuteTime": {
     "end_time": "2020-03-31T10:23+0800",
     "start_time": "2020-03-31T10:23+0800"
    }
   },
   "outputs": [
    {
     "data": {
      "text/plain": [
       "6"
      ]
     },
     "execution_count": 14,
     "metadata": {},
     "output_type": "execute_result"
    }
   ],
   "source": [
    "(1..3).sum()"
   ]
  },
  {
   "cell_type": "code",
   "execution_count": 15,
   "metadata": {
    "ExecuteTime": {
     "end_time": "2020-03-31T10:26+0800",
     "start_time": "2020-03-31T10:26+0800"
    }
   },
   "outputs": [
    {
     "data": {
      "text/plain": [
       "150"
      ]
     },
     "execution_count": 15,
     "metadata": {},
     "output_type": "execute_result"
    }
   ],
   "source": [
    "(1..5).map{ i-> 10*i}.sum()"
   ]
  },
  {
   "cell_type": "code",
   "execution_count": 17,
   "metadata": {
    "ExecuteTime": {
     "end_time": "2020-03-31T10:34+0800",
     "start_time": "2020-03-31T10:34+0800"
    }
   },
   "outputs": [
    {
     "data": {
      "text/plain": [
       "1165"
      ]
     },
     "execution_count": 17,
     "metadata": {},
     "output_type": "execute_result"
    }
   ],
   "source": [
    "fun f(n: Int) = 10 + 3*(0..n).map { it * it }.sum()\n",
    "f(10)"
   ]
  },
  {
   "cell_type": "code",
   "execution_count": 19,
   "metadata": {
    "ExecuteTime": {
     "end_time": "2020-03-31T10:35+0800",
     "start_time": "2020-03-31T10:35+0800"
    }
   },
   "outputs": [
    {
     "data": {
      "text/plain": [
       "22440"
      ]
     },
     "execution_count": 19,
     "metadata": {},
     "output_type": "execute_result"
    }
   ],
   "source": [
    "(1..10).flatMap { i -> (4..20).map { j -> 2 *i * j } }.sum()"
   ]
  },
  {
   "cell_type": "code",
   "execution_count": 20,
   "metadata": {
    "ExecuteTime": {
     "end_time": "2020-03-31T10:35+0800",
     "start_time": "2020-03-31T10:35+0800"
    }
   },
   "outputs": [],
   "source": [
    "val myVector = doubleArrayOf(1.0, 5.2, 2.4)"
   ]
  },
  {
   "cell_type": "code",
   "execution_count": 21,
   "metadata": {
    "ExecuteTime": {
     "end_time": "2020-03-31T10:35+0800",
     "start_time": "2020-03-31T02:35:59.761Z"
    }
   },
   "outputs": [
    {
     "name": "stderr",
     "output_type": "stream",
     "text": [
      "Unresolved reference: rowVectorOf"
     ]
    }
   ],
   "source": [
    "val myVector = rowVectorOf(1.0, 5.2, 2.4)"
   ]
  },
  {
   "cell_type": "code",
   "execution_count": 24,
   "metadata": {
    "ExecuteTime": {
     "end_time": "2020-03-31T11:48+0800",
     "start_time": "2020-03-31T11:48+0800"
    }
   },
   "outputs": [
    {
     "data": {
      "text/plain": [
       "44.4"
      ]
     },
     "execution_count": 24,
     "metadata": {},
     "output_type": "execute_result"
    }
   ],
   "source": [
    "val xValues = listOf(23, 65, 45, 23, 66)\n",
    "val xAverage = xValues.average()\n",
    "xAverage"
   ]
  },
  {
   "cell_type": "markdown",
   "metadata": {},
   "source": [
    "Use Kotlin numpy wrapper"
   ]
  },
  {
   "cell_type": "code",
   "execution_count": 4,
   "metadata": {
    "ExecuteTime": {
     "end_time": "2020-07-20T10:40+0800",
     "start_time": "2020-07-20T10:40+0800"
    }
   },
   "outputs": [
    {
     "name": "stdout",
     "output_type": "stream",
     "text": [
      ":: problems summary ::\n",
      ":::: ERRORS\n",
      "\tunknown resolver kotlin.bintray.com\n",
      "\n",
      "\tunknown resolver kotlin.bintray.com\n",
      "\n"
     ]
    }
   ],
   "source": [
    "@file:Repository(\"https://dl.bintray.com/kotlin/kotlin-numpy/org/jetbrains/kotlin-numpy/\")\n",
    "@file:DependsOn(\"org.jetbrains:kotlin-numpy:0.1.0\")"
   ]
  },
  {
   "cell_type": "code",
   "execution_count": 3,
   "metadata": {
    "ExecuteTime": {
     "end_time": "2020-07-20T10:40+0800",
     "start_time": "2020-07-20T02:40:25.595Z"
    }
   },
   "outputs": [
    {
     "name": "stderr",
     "output_type": "stream",
     "text": [
      "Failed to process '%use kotlin-numpy' command. Unknown library 'kotlin-numpy'"
     ]
    }
   ],
   "source": [
    "%use kotlin-numpy"
   ]
  },
  {
   "cell_type": "code",
   "execution_count": 2,
   "metadata": {
    "ExecuteTime": {
     "end_time": "2020-07-20T10:40+0800",
     "start_time": "2020-07-20T02:40:15.051Z"
    }
   },
   "outputs": [
    {
     "name": "stderr",
     "output_type": "stream",
     "text": [
      "Line_1.jupyter.kts (1:22 - 27) Unresolved reference: numkt\n",
      "Line_1.jupyter.kts (2:22 - 27) Unresolved reference: numkt\n",
      "Line_1.jupyter.kts (3:22 - 27) Unresolved reference: numkt\n",
      "Line_1.jupyter.kts (6:10 - 16) Unresolved reference: arange\n",
      "Line_1.jupyter.kts (7:1 - 6) Overload resolution ambiguity: \n",
      "public inline fun print(message: Any?): Unit defined in kotlin.io\n",
      "public inline fun print(message: Boolean): Unit defined in kotlin.io\n",
      "public inline fun print(message: Byte): Unit defined in kotlin.io\n",
      "public inline fun print(message: Char): Unit defined in kotlin.io\n",
      "public inline fun print(message: CharArray): Unit defined in kotlin.io\n",
      "public inline fun print(message: Double): Unit defined in kotlin.io\n",
      "public inline fun print(message: Float): Unit defined in kotlin.io\n",
      "public inline fun print(message: Int): Unit defined in kotlin.io\n",
      "public inline fun print(message: Long): Unit defined in kotlin.io\n",
      "public inline fun print(message: Short): Unit defined in kotlin.io\n",
      "Line_1.jupyter.kts (10:13 - 19) Unresolved reference: arange\n",
      "Line_1.jupyter.kts (19:14 - 20) Unresolved reference: arange\n",
      "Line_1.jupyter.kts (23:5 - 12) Overload resolution ambiguity: \n",
      "public inline fun println(message: Any?): Unit defined in kotlin.io\n",
      "public inline fun println(message: Boolean): Unit defined in kotlin.io\n",
      "public inline fun println(message: Byte): Unit defined in kotlin.io\n",
      "public inline fun println(message: Char): Unit defined in kotlin.io\n",
      "public inline fun println(message: CharArray): Unit defined in kotlin.io\n",
      "public inline fun println(message: Double): Unit defined in kotlin.io\n",
      "public inline fun println(message: Float): Unit defined in kotlin.io\n",
      "public inline fun println(message: Int): Unit defined in kotlin.io\n",
      "public inline fun println(message: Long): Unit defined in kotlin.io\n",
      "public inline fun println(message: Short): Unit defined in kotlin.io\n",
      "Line_1.jupyter.kts (31:5 - 12) Overload resolution ambiguity: \n",
      "public inline fun println(message: Any?): Unit defined in kotlin.io\n",
      "public inline fun println(message: Boolean): Unit defined in kotlin.io\n",
      "public inline fun println(message: Byte): Unit defined in kotlin.io\n",
      "public inline fun println(message: Char): Unit defined in kotlin.io\n",
      "public inline fun println(message: CharArray): Unit defined in kotlin.io\n",
      "public inline fun println(message: Double): Unit defined in kotlin.io\n",
      "public inline fun println(message: Float): Unit defined in kotlin.io\n",
      "public inline fun println(message: Int): Unit defined in kotlin.io\n",
      "public inline fun println(message: Long): Unit defined in kotlin.io\n",
      "public inline fun println(message: Short): Unit defined in kotlin.io"
     ]
    }
   ],
   "source": [
    "import org.jetbrains.numkt.core.*\n",
    "import org.jetbrains.numkt.math.*\n",
    "import org.jetbrains.numkt.*\n",
    "\n",
    "\n",
    "val aa = arange(15).reshape(3,5)\n",
    "print(aa)\n",
    "\n",
    "fun main() {\n",
    "    val a = arange(15).reshape(3, 5) // KtNDArray<Int>([[ 0,  1,  2,  3,  4],\n",
    "                                                     // [ 5,  6,  7,  8,  9],\n",
    "                                                     // [10, 11, 12, 13, 14]]\n",
    "\n",
    "    println(a.shape.contentEquals(intArrayOf(3, 5))) // true\n",
    "    println(a.ndim == 2)                             // true\n",
    "    println(a.dtype)                                 // class java.lang.Integer\n",
    "\n",
    "    // create an array of ints, we square each element and the shape to (3, 5) \n",
    "    val b = (arange(15) `**` 2).reshape(3, 5)\n",
    "\n",
    "    // c is the product of a and b, element-wise\n",
    "    val c = a * b\n",
    "    println(c)\n",
    "    // Output:\n",
    "    // [[   0    1    8   27   64]\n",
    "    //  [ 125  216  343  512  729]\n",
    "    //  [1000 1331 1728 2197 2744]]\n",
    "    \n",
    "    // d is the dot product of the transposed c and a\n",
    "    val d = c.transpose().dot(a)\n",
    "    println(d)\n",
    "    // Output:\n",
    "    // [[10625 11750 12875 14000 15125]\n",
    "    //  [14390 15938 17486 19034 20582]\n",
    "    //  [18995 21074 23153 25232 27311]\n",
    "    //  [24530 27266 30002 32738 35474]\n",
    "    //  [31085 34622 38159 41696 45233]]\n",
    "\n",
    "}\n",
    "\n",
    "// main()"
   ]
  },
  {
   "cell_type": "code",
   "execution_count": 1,
   "metadata": {
    "ExecuteTime": {
     "end_time": "2020-07-20T10:40+0800",
     "start_time": "2020-07-20T02:40:01.174Z"
    }
   },
   "outputs": [
    {
     "name": "stderr",
     "output_type": "stream",
     "text": [
      "Line_0.jupyter.kts (1:9 - 13) Unresolved reference: ones\n",
      "Line_0.jupyter.kts (2:9 - 15) Unresolved reference: Random\n",
      "Line_0.jupyter.kts (3:3 - 5) Function '<ERROR FUNCTION>' should return Unit to be used by corresponding operator '*='\n",
      "Line_0.jupyter.kts (5:3 - 5) Function '<ERROR FUNCTION>' should return Unit to be used by corresponding operator '+='"
     ]
    }
   ],
   "source": [
    "val a = ones<Int>(2, 3)\n",
    "val b = Random.random(2, 3)\n",
    "a *= 3\n",
    "\n",
    "b += a\n",
    "b"
   ]
  },
  {
   "cell_type": "code",
   "execution_count": 58,
   "metadata": {
    "ExecuteTime": {
     "end_time": "2020-07-05T10:04+0800",
     "start_time": "2020-07-05T10:04+0800"
    }
   },
   "outputs": [
    {
     "name": "stdout",
     "output_type": "stream",
     "text": [
      "3\r\n"
     ]
    }
   ],
   "source": [
    "var a = 1\n",
    "var b = 2\n",
    "println(a+b)"
   ]
  },
  {
   "cell_type": "code",
   "execution_count": 61,
   "metadata": {
    "ExecuteTime": {
     "end_time": "2020-07-05T10:05+0800",
     "start_time": "2020-07-05T10:05+0800"
    }
   },
   "outputs": [
    {
     "data": {
      "text/plain": [
       "hello kotlin"
      ]
     },
     "execution_count": 61,
     "metadata": {},
     "output_type": "execute_result"
    }
   ],
   "source": [
    "val s = \"hello kotlin\"\n",
    "s"
   ]
  },
  {
   "cell_type": "code",
   "execution_count": null,
   "metadata": {},
   "outputs": [],
   "source": []
  }
 ],
 "metadata": {
  "hide_input": false,
  "kernelspec": {
   "display_name": "Kotlin",
   "language": "kotlin",
   "name": "kotlin"
  },
  "language_info": {
   "codemirror_mode": "text/x-kotlin",
   "file_extension": ".kt",
   "mimetype": "text/x-kotlin",
   "name": "kotlin",
   "pygments_lexer": "kotlin",
   "version": "1.4.20-dev-1121"
  },
  "toc": {
   "base_numbering": 1,
   "nav_menu": {},
   "number_sections": true,
   "sideBar": true,
   "skip_h1_title": false,
   "title_cell": "Table of Contents",
   "title_sidebar": "Contents",
   "toc_cell": false,
   "toc_position": {},
   "toc_section_display": true,
   "toc_window_display": false
  },
  "varInspector": {
   "cols": {
    "lenName": 16,
    "lenType": 16,
    "lenVar": 40
   },
   "kernels_config": {
    "python": {
     "delete_cmd_postfix": "",
     "delete_cmd_prefix": "del ",
     "library": "var_list.py",
     "varRefreshCmd": "print(var_dic_list())"
    },
    "r": {
     "delete_cmd_postfix": ") ",
     "delete_cmd_prefix": "rm(",
     "library": "var_list.r",
     "varRefreshCmd": "cat(var_dic_list()) "
    }
   },
   "types_to_exclude": [
    "module",
    "function",
    "builtin_function_or_method",
    "instance",
    "_Feature"
   ],
   "window_display": false
  }
 },
 "nbformat": 4,
 "nbformat_minor": 4
}
