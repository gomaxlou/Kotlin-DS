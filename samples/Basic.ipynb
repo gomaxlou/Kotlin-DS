{
 "cells": [
  {
   "cell_type": "markdown",
   "metadata": {},
   "source": [
    "# 初體驗"
   ]
  },
  {
   "cell_type": "code",
   "execution_count": 1,
   "metadata": {
    "ExecuteTime": {
     "end_time": "2020-08-26T07:31+0800",
     "start_time": "2020-08-26T07:31+0800"
    }
   },
   "outputs": [
    {
     "data": {
      "text/plain": [
       "2"
      ]
     },
     "execution_count": 1,
     "metadata": {},
     "output_type": "execute_result"
    }
   ],
   "source": [
    "1+1"
   ]
  },
  {
   "cell_type": "code",
   "execution_count": 2,
   "metadata": {
    "ExecuteTime": {
     "end_time": "2020-08-26T07:31+0800",
     "start_time": "2020-08-26T07:31+0800"
    }
   },
   "outputs": [
    {
     "name": "stdout",
     "output_type": "stream",
     "text": [
      "3"
     ]
    }
   ],
   "source": [
    "var c = 1\n",
    "var d = 2\n",
    "print(c + d)"
   ]
  },
  {
   "cell_type": "code",
   "execution_count": 6,
   "metadata": {
    "ExecuteTime": {
     "end_time": "2020-08-26T07:32+0800",
     "start_time": "2020-08-26T07:32+0800"
    }
   },
   "outputs": [
    {
     "data": {
      "text/plain": [
       "4"
      ]
     },
     "execution_count": 6,
     "metadata": {},
     "output_type": "execute_result"
    }
   ],
   "source": [
    "d * 2"
   ]
  },
  {
   "cell_type": "code",
   "execution_count": 4,
   "metadata": {
    "ExecuteTime": {
     "end_time": "2020-08-26T07:31+0800",
     "start_time": "2020-08-26T07:31+0800"
    }
   },
   "outputs": [],
   "source": [
    "// 變數需要宣告\n",
    "a = 1\n",
    "b = 2\n",
    "a + b"
   ]
  },
  {
   "cell_type": "code",
   "execution_count": 5,
   "metadata": {
    "ExecuteTime": {
     "end_time": "2020-08-26T07:32+0800",
     "start_time": "2020-08-26T07:32+0800"
    }
   },
   "outputs": [
    {
     "data": {
      "text/plain": [
       "Hello kotlin"
      ]
     },
     "execution_count": 5,
     "metadata": {},
     "output_type": "execute_result"
    }
   ],
   "source": [
    "var str1 = \"Hello kotlin\"\n",
    "str1"
   ]
  },
  {
   "cell_type": "code",
   "execution_count": 7,
   "metadata": {
    "ExecuteTime": {
     "end_time": "2020-08-26T07:32+0800",
     "start_time": "2020-08-26T07:32+0800"
    }
   },
   "outputs": [
    {
     "name": "stdout",
     "output_type": "stream",
     "text": [
      "[1, 2, 3]\r\n"
     ]
    }
   ],
   "source": [
    "var mylist = listOf(1,2,3)\n",
    "println(mylist)"
   ]
  },
  {
   "cell_type": "code",
   "execution_count": 40,
   "metadata": {
    "ExecuteTime": {
     "end_time": "2020-08-26T09:26+0800",
     "start_time": "2020-08-26T09:26+0800"
    }
   },
   "outputs": [
    {
     "name": "stdout",
     "output_type": "stream",
     "text": [
      "0.7298928\r\n",
      "0.059827566\r\n",
      "0.27506912\r\n"
     ]
    }
   ],
   "source": [
    "import java.util.Random\n",
    "var rand = Random()\n",
    "rand.setSeed(12)\n",
    "for(i in 1..3){\n",
    "    println(rand.nextFloat())\n",
    "}\n"
   ]
  },
  {
   "cell_type": "markdown",
   "metadata": {},
   "source": [
    "# [Kotlin-Jupyter-Kernel](https://pypi.org/project/kotlin-jupyter-kernel/) 介紹"
   ]
  },
  {
   "cell_type": "markdown",
   "metadata": {},
   "source": [
    "## command\n",
    "* :help\n",
    "* :classpath"
   ]
  },
  {
   "cell_type": "markdown",
   "metadata": {},
   "source": [
    "## Magics\n",
    "* %use\n",
    "* %trackClasspath\n",
    "* %trackExecution\n",
    "* %output"
   ]
  },
  {
   "cell_type": "markdown",
   "metadata": {},
   "source": [
    "## Default repositories\n",
    "* Bintray JCenter (https://jcenter.bintray.com/)\n",
    "* Maven Central (https://repo.maven.apache.org/maven2)\n",
    "* JitPack (https://jitpack.io/)"
   ]
  },
  {
   "cell_type": "markdown",
   "metadata": {},
   "source": [
    "## Import library\n",
    "* using annotations\n",
    "* using magics command (%use)\n",
    "* Note: Dependencies 的cache 預設路徑： ~/.ivy2/cache，當cache檔損壞時，刪除該檔案並重新啟動kerne"
   ]
  },
  {
   "cell_type": "code",
   "execution_count": 8,
   "metadata": {
    "ExecuteTime": {
     "end_time": "2020-08-26T07:47+0800",
     "start_time": "2020-08-26T07:47+0800"
    }
   },
   "outputs": [],
   "source": [
    "@file:Repository(\"https://jcenter.bintray.com/\")\n",
    "@file:DependsOn(\"com.beust:klaxon:5.2\")\n",
    "import com.beust.klaxon.*"
   ]
  },
  {
   "cell_type": "code",
   "execution_count": 9,
   "metadata": {
    "ExecuteTime": {
     "end_time": "2020-08-26T07:47+0800",
     "start_time": "2020-08-26T07:47+0800"
    }
   },
   "outputs": [
    {
     "data": {
      "text/plain": [
       "com.beust.klaxon.Klaxon@68ac9ec5"
      ]
     },
     "execution_count": 9,
     "metadata": {},
     "output_type": "execute_result"
    }
   ],
   "source": [
    "Klaxon()"
   ]
  },
  {
   "cell_type": "markdown",
   "metadata": {},
   "source": [
    "* 非預設的repository"
   ]
  },
  {
   "cell_type": "code",
   "execution_count": 1,
   "metadata": {
    "ExecuteTime": {
     "end_time": "2020-08-26T08:03+0800",
     "start_time": "2020-08-26T08:03+0800"
    }
   },
   "outputs": [],
   "source": [
    "@file:Repository(\"https://kotlin.bintray.com/kotlin-numpy\")\n",
    "@file:DependsOn(\"org.jetbrains:kotlin-numpy:0.1.4\")\n",
    "import org.jetbrains.numkt.core.*\n",
    "import org.jetbrains.numkt.math.*\n",
    "import org.jetbrains.numkt.*"
   ]
  },
  {
   "cell_type": "code",
   "execution_count": 19,
   "metadata": {
    "ExecuteTime": {
     "end_time": "2020-08-26T09:19+0800",
     "start_time": "2020-08-26T09:19+0800"
    }
   },
   "outputs": [
    {
     "name": "stdout",
     "output_type": "stream",
     "text": [
      "true\n",
      "true\n",
      "class java.lang.Integer\n",
      "a array: \n",
      "[[ 0  1  2  3  4]\n",
      " [ 5  6  7  8  9]\n",
      " [10 11 12 13 14]]\n",
      "b array: \n",
      "[[  0   1   4   9  16]\n",
      " [ 25  36  49  64  81]\n",
      " [100 121 144 169 196]]\n",
      "a * b result:\n",
      " [[   0    1    8   27   64]\n",
      " [ 125  216  343  512  729]\n",
      " [1000 1331 1728 2197 2744]]\n"
     ]
    }
   ],
   "source": [
    "val a = arange(15).reshape(3, 5) // KtNDArray<Int>([[ 0,  1,  2,  3,  4],\n",
    "                                                 // [ 5,  6,  7,  8,  9],\n",
    "                                                 // [10, 11, 12, 13, 14]]\n",
    "\n",
    "println(a.shape.contentEquals(intArrayOf(3, 5))) // true\n",
    "println(a.ndim == 2)                             // true\n",
    "println(a.dtype)                                 // class java.lang.Integer\n",
    "\n",
    "// create an array of ints, we square each element and the shape to (3, 5) \n",
    "val b = (arange(15) `**` 2).reshape(3, 5)\n",
    "println(\"a array: \\n$a\")\n",
    "println(\"b array: \\n$b\")\n",
    "// c is the product of a and b, element-wise\n",
    "val c = a * b\n",
    "println(\"a * b result:\\n $c\")\n",
    "// Output:\n",
    "// [[   0    1    8   27   64]\n",
    "//  [ 125  216  343  512  729]\n",
    "//  [1000 1331 1728 2197 2744]]\n"
   ]
  },
  {
   "cell_type": "code",
   "execution_count": 12,
   "metadata": {
    "ExecuteTime": {
     "end_time": "2020-08-26T08:12+0800",
     "start_time": "2020-08-26T08:12+0800"
    }
   },
   "outputs": [
    {
     "data": {
      "text/plain": [
       "25.0"
      ]
     },
     "execution_count": 12,
     "metadata": {},
     "output_type": "execute_result"
    }
   ],
   "source": [
    "Math.pow(5.0,2.0)"
   ]
  },
  {
   "cell_type": "code",
   "execution_count": null,
   "metadata": {},
   "outputs": [],
   "source": []
  },
  {
   "cell_type": "markdown",
   "metadata": {},
   "source": [
    "* 一個library"
   ]
  },
  {
   "cell_type": "code",
   "execution_count": 12,
   "metadata": {
    "ExecuteTime": {
     "end_time": "2020-08-26T07:47+0800",
     "start_time": "2020-08-26T07:47+0800"
    }
   },
   "outputs": [],
   "source": [
    "%use klaxon"
   ]
  },
  {
   "cell_type": "markdown",
   "metadata": {},
   "source": [
    "* 多個library"
   ]
  },
  {
   "cell_type": "code",
   "execution_count": 16,
   "metadata": {
    "ExecuteTime": {
     "end_time": "2020-08-26T07:52+0800",
     "start_time": "2020-08-26T07:52+0800"
    }
   },
   "outputs": [
    {
     "data": {
      "text/html": [
       "   <div id=\"ghvjPj\"></div>\n",
       "   <script type=\"text/javascript\" data-lets-plot-script=\"library\">\n",
       "       if(!window.letsPlotCallQueue) {\n",
       "           window.letsPlotCallQueue = [];\n",
       "       }; \n",
       "       window.letsPlotCall = function(f) {\n",
       "           window.letsPlotCallQueue.push(f);\n",
       "       };\n",
       "       (function() {\n",
       "           var script = document.createElement(\"script\");\n",
       "           script.type = \"text/javascript\";\n",
       "           script.src = \"https://dl.bintray.com/jetbrains/lets-plot/lets-plot-1.5.2.min.js\";\n",
       "           script.onload = function() {\n",
       "               window.letsPlotCall = function(f) {f();};\n",
       "               window.letsPlotCallQueue.forEach(function(f) {f();});\n",
       "               window.letsPlotCallQueue = [];\n",
       "               \n",
       "               \n",
       "           };\n",
       "           script.onerror = function(event) {\n",
       "               window.letsPlotCall = function(f) {};\n",
       "               window.letsPlotCallQueue = [];\n",
       "               var div = document.createElement(\"div\");\n",
       "               div.style.color = 'darkred';\n",
       "               div.textContent = 'Error loading Lets-Plot JS';\n",
       "               document.getElementById(\"ghvjPj\").appendChild(div);\n",
       "           };\n",
       "           var e = document.getElementById(\"ghvjPj\");\n",
       "           e.appendChild(script);\n",
       "       })();\n",
       "   </script>"
      ]
     },
     "metadata": {},
     "output_type": "display_data"
    }
   ],
   "source": [
    "%use klaxon, lets-plot"
   ]
  },
  {
   "cell_type": "markdown",
   "metadata": {},
   "source": [
    "* 指定library版本"
   ]
  },
  {
   "cell_type": "code",
   "execution_count": 17,
   "metadata": {
    "ExecuteTime": {
     "end_time": "2020-08-26T07:53+0800",
     "start_time": "2020-08-26T07:53+0800"
    }
   },
   "outputs": [],
   "source": [
    "%use klaxon(5.2)"
   ]
  },
  {
   "cell_type": "markdown",
   "metadata": {},
   "source": [
    "* 多個library，僅部份指定版本 "
   ]
  },
  {
   "cell_type": "code",
   "execution_count": 18,
   "metadata": {
    "ExecuteTime": {
     "end_time": "2020-08-26T07:53+0800",
     "start_time": "2020-08-26T07:53+0800"
    }
   },
   "outputs": [
    {
     "data": {
      "text/html": [
       "   <div id=\"EpCSLS\"></div>\n",
       "   <script type=\"text/javascript\" data-lets-plot-script=\"library\">\n",
       "       if(!window.letsPlotCallQueue) {\n",
       "           window.letsPlotCallQueue = [];\n",
       "       }; \n",
       "       window.letsPlotCall = function(f) {\n",
       "           window.letsPlotCallQueue.push(f);\n",
       "       };\n",
       "       (function() {\n",
       "           var script = document.createElement(\"script\");\n",
       "           script.type = \"text/javascript\";\n",
       "           script.src = \"https://dl.bintray.com/jetbrains/lets-plot/lets-plot-1.5.2.min.js\";\n",
       "           script.onload = function() {\n",
       "               window.letsPlotCall = function(f) {f();};\n",
       "               window.letsPlotCallQueue.forEach(function(f) {f();});\n",
       "               window.letsPlotCallQueue = [];\n",
       "               \n",
       "               \n",
       "           };\n",
       "           script.onerror = function(event) {\n",
       "               window.letsPlotCall = function(f) {};\n",
       "               window.letsPlotCallQueue = [];\n",
       "               var div = document.createElement(\"div\");\n",
       "               div.style.color = 'darkred';\n",
       "               div.textContent = 'Error loading Lets-Plot JS';\n",
       "               document.getElementById(\"EpCSLS\").appendChild(div);\n",
       "           };\n",
       "           var e = document.getElementById(\"EpCSLS\");\n",
       "           e.appendChild(script);\n",
       "       })();\n",
       "   </script>"
      ]
     },
     "metadata": {},
     "output_type": "display_data"
    }
   ],
   "source": [
    "%use klaxon(5.2), lets-plot"
   ]
  },
  {
   "cell_type": "markdown",
   "metadata": {},
   "source": [
    "* 指定library下各屬性之版本"
   ]
  },
  {
   "cell_type": "code",
   "execution_count": null,
   "metadata": {},
   "outputs": [],
   "source": [
    "%use spark(scala=2.11.10, spark=2.4.2)"
   ]
  },
  {
   "cell_type": "code",
   "execution_count": null,
   "metadata": {},
   "outputs": [],
   "source": []
  }
 ],
 "metadata": {
  "hide_input": false,
  "kernelspec": {
   "display_name": "Kotlin",
   "language": "kotlin",
   "name": "kotlin"
  },
  "language_info": {
   "codemirror_mode": "text/x-kotlin",
   "file_extension": ".kt",
   "mimetype": "text/x-kotlin",
   "name": "kotlin",
   "pygments_lexer": "kotlin",
   "version": "1.4.20-dev-1121"
  },
  "toc": {
   "base_numbering": 1,
   "nav_menu": {},
   "number_sections": true,
   "sideBar": true,
   "skip_h1_title": false,
   "title_cell": "Table of Contents",
   "title_sidebar": "Contents",
   "toc_cell": false,
   "toc_position": {},
   "toc_section_display": true,
   "toc_window_display": false
  },
  "varInspector": {
   "cols": {
    "lenName": 16,
    "lenType": 16,
    "lenVar": 40
   },
   "kernels_config": {
    "python": {
     "delete_cmd_postfix": "",
     "delete_cmd_prefix": "del ",
     "library": "var_list.py",
     "varRefreshCmd": "print(var_dic_list())"
    },
    "r": {
     "delete_cmd_postfix": ") ",
     "delete_cmd_prefix": "rm(",
     "library": "var_list.r",
     "varRefreshCmd": "cat(var_dic_list()) "
    }
   },
   "types_to_exclude": [
    "module",
    "function",
    "builtin_function_or_method",
    "instance",
    "_Feature"
   ],
   "window_display": false
  }
 },
 "nbformat": 4,
 "nbformat_minor": 4
}
